{
  "nbformat": 4,
  "nbformat_minor": 0,
  "metadata": {
    "colab": {
      "name": "project NLP.ipynb",
      "provenance": [],
      "collapsed_sections": []
    },
    "kernelspec": {
      "name": "python3",
      "display_name": "Python 3"
    },
    "language_info": {
      "name": "python"
    },
    "gpuClass": "standard"
  },
  "cells": [
    {
      "cell_type": "code",
      "execution_count": 31,
      "metadata": {
        "id": "YvNgrz_HSIW3"
      },
      "outputs": [],
      "source": [
        "import numpy as np\n",
        "import pandas as pd\n",
        "import matplotlib.pyplot as plt\n",
        "import seaborn as sns"
      ]
    },
    {
      "cell_type": "code",
      "source": [
        "df = pd.read_csv('Flipkart_Amazon Mobile Reviews.csv')\n",
        "df.head()"
      ],
      "metadata": {
        "colab": {
          "base_uri": "https://localhost:8080/",
          "height": 354
        },
        "id": "i2AmwsEWVAyP",
        "outputId": "85884914-d30c-4b17-d06a-40a4d4a52f00"
      },
      "execution_count": 32,
      "outputs": [
        {
          "output_type": "execute_result",
          "data": {
            "text/plain": [
              "   Unnamed: 0                       Review-Title              rating  \\\n",
              "0           0                   Worst phone ever  1.0 out of 5 stars   \n",
              "1           1          Ok !!! Not up to the mark  2.0 out of 5 stars   \n",
              "2           2                       Awesome look  5.0 out of 5 stars   \n",
              "3           3  One plus losing is originality!!!  3.0 out of 5 stars   \n",
              "4           4                               Read  1.0 out of 5 stars   \n",
              "\n",
              "                                         Review-Body  \\\n",
              "0                                       Hang problem   \n",
              "1  I'm writing this review after using 3days !!!B...   \n",
              "2  Camera is so good n very fast phone back look ...   \n",
              "3  The media could not be loaded.\\n              ...   \n",
              "4  I got my delivery on 23 feb when I unboxed the...   \n",
              "\n",
              "                                        Product Name  \n",
              "0  OnePlus Nord CE 2 5G (Gray Mirror, 8GB RAM, 12...  \n",
              "1  OnePlus Nord CE 2 5G (Gray Mirror, 8GB RAM, 12...  \n",
              "2  OnePlus Nord CE 2 5G (Gray Mirror, 8GB RAM, 12...  \n",
              "3  OnePlus Nord CE 2 5G (Gray Mirror, 8GB RAM, 12...  \n",
              "4  OnePlus Nord CE 2 5G (Gray Mirror, 8GB RAM, 12...  "
            ],
            "text/html": [
              "\n",
              "  <div id=\"df-fca88dd3-ffa8-49f0-9877-06afdbda813c\">\n",
              "    <div class=\"colab-df-container\">\n",
              "      <div>\n",
              "<style scoped>\n",
              "    .dataframe tbody tr th:only-of-type {\n",
              "        vertical-align: middle;\n",
              "    }\n",
              "\n",
              "    .dataframe tbody tr th {\n",
              "        vertical-align: top;\n",
              "    }\n",
              "\n",
              "    .dataframe thead th {\n",
              "        text-align: right;\n",
              "    }\n",
              "</style>\n",
              "<table border=\"1\" class=\"dataframe\">\n",
              "  <thead>\n",
              "    <tr style=\"text-align: right;\">\n",
              "      <th></th>\n",
              "      <th>Unnamed: 0</th>\n",
              "      <th>Review-Title</th>\n",
              "      <th>rating</th>\n",
              "      <th>Review-Body</th>\n",
              "      <th>Product Name</th>\n",
              "    </tr>\n",
              "  </thead>\n",
              "  <tbody>\n",
              "    <tr>\n",
              "      <th>0</th>\n",
              "      <td>0</td>\n",
              "      <td>Worst phone ever</td>\n",
              "      <td>1.0 out of 5 stars</td>\n",
              "      <td>Hang problem</td>\n",
              "      <td>OnePlus Nord CE 2 5G (Gray Mirror, 8GB RAM, 12...</td>\n",
              "    </tr>\n",
              "    <tr>\n",
              "      <th>1</th>\n",
              "      <td>1</td>\n",
              "      <td>Ok !!! Not up to the mark</td>\n",
              "      <td>2.0 out of 5 stars</td>\n",
              "      <td>I'm writing this review after using 3days !!!B...</td>\n",
              "      <td>OnePlus Nord CE 2 5G (Gray Mirror, 8GB RAM, 12...</td>\n",
              "    </tr>\n",
              "    <tr>\n",
              "      <th>2</th>\n",
              "      <td>2</td>\n",
              "      <td>Awesome look</td>\n",
              "      <td>5.0 out of 5 stars</td>\n",
              "      <td>Camera is so good n very fast phone back look ...</td>\n",
              "      <td>OnePlus Nord CE 2 5G (Gray Mirror, 8GB RAM, 12...</td>\n",
              "    </tr>\n",
              "    <tr>\n",
              "      <th>3</th>\n",
              "      <td>3</td>\n",
              "      <td>One plus losing is originality!!!</td>\n",
              "      <td>3.0 out of 5 stars</td>\n",
              "      <td>The media could not be loaded.\\n              ...</td>\n",
              "      <td>OnePlus Nord CE 2 5G (Gray Mirror, 8GB RAM, 12...</td>\n",
              "    </tr>\n",
              "    <tr>\n",
              "      <th>4</th>\n",
              "      <td>4</td>\n",
              "      <td>Read</td>\n",
              "      <td>1.0 out of 5 stars</td>\n",
              "      <td>I got my delivery on 23 feb when I unboxed the...</td>\n",
              "      <td>OnePlus Nord CE 2 5G (Gray Mirror, 8GB RAM, 12...</td>\n",
              "    </tr>\n",
              "  </tbody>\n",
              "</table>\n",
              "</div>\n",
              "      <button class=\"colab-df-convert\" onclick=\"convertToInteractive('df-fca88dd3-ffa8-49f0-9877-06afdbda813c')\"\n",
              "              title=\"Convert this dataframe to an interactive table.\"\n",
              "              style=\"display:none;\">\n",
              "        \n",
              "  <svg xmlns=\"http://www.w3.org/2000/svg\" height=\"24px\"viewBox=\"0 0 24 24\"\n",
              "       width=\"24px\">\n",
              "    <path d=\"M0 0h24v24H0V0z\" fill=\"none\"/>\n",
              "    <path d=\"M18.56 5.44l.94 2.06.94-2.06 2.06-.94-2.06-.94-.94-2.06-.94 2.06-2.06.94zm-11 1L8.5 8.5l.94-2.06 2.06-.94-2.06-.94L8.5 2.5l-.94 2.06-2.06.94zm10 10l.94 2.06.94-2.06 2.06-.94-2.06-.94-.94-2.06-.94 2.06-2.06.94z\"/><path d=\"M17.41 7.96l-1.37-1.37c-.4-.4-.92-.59-1.43-.59-.52 0-1.04.2-1.43.59L10.3 9.45l-7.72 7.72c-.78.78-.78 2.05 0 2.83L4 21.41c.39.39.9.59 1.41.59.51 0 1.02-.2 1.41-.59l7.78-7.78 2.81-2.81c.8-.78.8-2.07 0-2.86zM5.41 20L4 18.59l7.72-7.72 1.47 1.35L5.41 20z\"/>\n",
              "  </svg>\n",
              "      </button>\n",
              "      \n",
              "  <style>\n",
              "    .colab-df-container {\n",
              "      display:flex;\n",
              "      flex-wrap:wrap;\n",
              "      gap: 12px;\n",
              "    }\n",
              "\n",
              "    .colab-df-convert {\n",
              "      background-color: #E8F0FE;\n",
              "      border: none;\n",
              "      border-radius: 50%;\n",
              "      cursor: pointer;\n",
              "      display: none;\n",
              "      fill: #1967D2;\n",
              "      height: 32px;\n",
              "      padding: 0 0 0 0;\n",
              "      width: 32px;\n",
              "    }\n",
              "\n",
              "    .colab-df-convert:hover {\n",
              "      background-color: #E2EBFA;\n",
              "      box-shadow: 0px 1px 2px rgba(60, 64, 67, 0.3), 0px 1px 3px 1px rgba(60, 64, 67, 0.15);\n",
              "      fill: #174EA6;\n",
              "    }\n",
              "\n",
              "    [theme=dark] .colab-df-convert {\n",
              "      background-color: #3B4455;\n",
              "      fill: #D2E3FC;\n",
              "    }\n",
              "\n",
              "    [theme=dark] .colab-df-convert:hover {\n",
              "      background-color: #434B5C;\n",
              "      box-shadow: 0px 1px 3px 1px rgba(0, 0, 0, 0.15);\n",
              "      filter: drop-shadow(0px 1px 2px rgba(0, 0, 0, 0.3));\n",
              "      fill: #FFFFFF;\n",
              "    }\n",
              "  </style>\n",
              "\n",
              "      <script>\n",
              "        const buttonEl =\n",
              "          document.querySelector('#df-fca88dd3-ffa8-49f0-9877-06afdbda813c button.colab-df-convert');\n",
              "        buttonEl.style.display =\n",
              "          google.colab.kernel.accessAllowed ? 'block' : 'none';\n",
              "\n",
              "        async function convertToInteractive(key) {\n",
              "          const element = document.querySelector('#df-fca88dd3-ffa8-49f0-9877-06afdbda813c');\n",
              "          const dataTable =\n",
              "            await google.colab.kernel.invokeFunction('convertToInteractive',\n",
              "                                                     [key], {});\n",
              "          if (!dataTable) return;\n",
              "\n",
              "          const docLinkHtml = 'Like what you see? Visit the ' +\n",
              "            '<a target=\"_blank\" href=https://colab.research.google.com/notebooks/data_table.ipynb>data table notebook</a>'\n",
              "            + ' to learn more about interactive tables.';\n",
              "          element.innerHTML = '';\n",
              "          dataTable['output_type'] = 'display_data';\n",
              "          await google.colab.output.renderOutput(dataTable, element);\n",
              "          const docLink = document.createElement('div');\n",
              "          docLink.innerHTML = docLinkHtml;\n",
              "          element.appendChild(docLink);\n",
              "        }\n",
              "      </script>\n",
              "    </div>\n",
              "  </div>\n",
              "  "
            ]
          },
          "metadata": {},
          "execution_count": 32
        }
      ]
    },
    {
      "cell_type": "code",
      "source": [
        "df.columns"
      ],
      "metadata": {
        "id": "SbECPvrMVxzI",
        "colab": {
          "base_uri": "https://localhost:8080/"
        },
        "outputId": "14661b88-326c-48b6-87b7-9b1bed6386c2"
      },
      "execution_count": 33,
      "outputs": [
        {
          "output_type": "execute_result",
          "data": {
            "text/plain": [
              "Index(['Unnamed: 0', 'Review-Title', 'rating', 'Review-Body', 'Product Name'], dtype='object')"
            ]
          },
          "metadata": {},
          "execution_count": 33
        }
      ]
    },
    {
      "cell_type": "code",
      "source": [
        "df = df.drop('Unnamed: 0',axis=1)\n",
        "df.head()"
      ],
      "metadata": {
        "id": "avldXUcrPakr",
        "colab": {
          "base_uri": "https://localhost:8080/",
          "height": 337
        },
        "outputId": "c3b095a1-aff2-4665-dde2-c17e2b7fcd79"
      },
      "execution_count": 34,
      "outputs": [
        {
          "output_type": "execute_result",
          "data": {
            "text/plain": [
              "                        Review-Title              rating  \\\n",
              "0                   Worst phone ever  1.0 out of 5 stars   \n",
              "1          Ok !!! Not up to the mark  2.0 out of 5 stars   \n",
              "2                       Awesome look  5.0 out of 5 stars   \n",
              "3  One plus losing is originality!!!  3.0 out of 5 stars   \n",
              "4                               Read  1.0 out of 5 stars   \n",
              "\n",
              "                                         Review-Body  \\\n",
              "0                                       Hang problem   \n",
              "1  I'm writing this review after using 3days !!!B...   \n",
              "2  Camera is so good n very fast phone back look ...   \n",
              "3  The media could not be loaded.\\n              ...   \n",
              "4  I got my delivery on 23 feb when I unboxed the...   \n",
              "\n",
              "                                        Product Name  \n",
              "0  OnePlus Nord CE 2 5G (Gray Mirror, 8GB RAM, 12...  \n",
              "1  OnePlus Nord CE 2 5G (Gray Mirror, 8GB RAM, 12...  \n",
              "2  OnePlus Nord CE 2 5G (Gray Mirror, 8GB RAM, 12...  \n",
              "3  OnePlus Nord CE 2 5G (Gray Mirror, 8GB RAM, 12...  \n",
              "4  OnePlus Nord CE 2 5G (Gray Mirror, 8GB RAM, 12...  "
            ],
            "text/html": [
              "\n",
              "  <div id=\"df-e4d23422-9b20-4e5c-bbea-a699bd1990c6\">\n",
              "    <div class=\"colab-df-container\">\n",
              "      <div>\n",
              "<style scoped>\n",
              "    .dataframe tbody tr th:only-of-type {\n",
              "        vertical-align: middle;\n",
              "    }\n",
              "\n",
              "    .dataframe tbody tr th {\n",
              "        vertical-align: top;\n",
              "    }\n",
              "\n",
              "    .dataframe thead th {\n",
              "        text-align: right;\n",
              "    }\n",
              "</style>\n",
              "<table border=\"1\" class=\"dataframe\">\n",
              "  <thead>\n",
              "    <tr style=\"text-align: right;\">\n",
              "      <th></th>\n",
              "      <th>Review-Title</th>\n",
              "      <th>rating</th>\n",
              "      <th>Review-Body</th>\n",
              "      <th>Product Name</th>\n",
              "    </tr>\n",
              "  </thead>\n",
              "  <tbody>\n",
              "    <tr>\n",
              "      <th>0</th>\n",
              "      <td>Worst phone ever</td>\n",
              "      <td>1.0 out of 5 stars</td>\n",
              "      <td>Hang problem</td>\n",
              "      <td>OnePlus Nord CE 2 5G (Gray Mirror, 8GB RAM, 12...</td>\n",
              "    </tr>\n",
              "    <tr>\n",
              "      <th>1</th>\n",
              "      <td>Ok !!! Not up to the mark</td>\n",
              "      <td>2.0 out of 5 stars</td>\n",
              "      <td>I'm writing this review after using 3days !!!B...</td>\n",
              "      <td>OnePlus Nord CE 2 5G (Gray Mirror, 8GB RAM, 12...</td>\n",
              "    </tr>\n",
              "    <tr>\n",
              "      <th>2</th>\n",
              "      <td>Awesome look</td>\n",
              "      <td>5.0 out of 5 stars</td>\n",
              "      <td>Camera is so good n very fast phone back look ...</td>\n",
              "      <td>OnePlus Nord CE 2 5G (Gray Mirror, 8GB RAM, 12...</td>\n",
              "    </tr>\n",
              "    <tr>\n",
              "      <th>3</th>\n",
              "      <td>One plus losing is originality!!!</td>\n",
              "      <td>3.0 out of 5 stars</td>\n",
              "      <td>The media could not be loaded.\\n              ...</td>\n",
              "      <td>OnePlus Nord CE 2 5G (Gray Mirror, 8GB RAM, 12...</td>\n",
              "    </tr>\n",
              "    <tr>\n",
              "      <th>4</th>\n",
              "      <td>Read</td>\n",
              "      <td>1.0 out of 5 stars</td>\n",
              "      <td>I got my delivery on 23 feb when I unboxed the...</td>\n",
              "      <td>OnePlus Nord CE 2 5G (Gray Mirror, 8GB RAM, 12...</td>\n",
              "    </tr>\n",
              "  </tbody>\n",
              "</table>\n",
              "</div>\n",
              "      <button class=\"colab-df-convert\" onclick=\"convertToInteractive('df-e4d23422-9b20-4e5c-bbea-a699bd1990c6')\"\n",
              "              title=\"Convert this dataframe to an interactive table.\"\n",
              "              style=\"display:none;\">\n",
              "        \n",
              "  <svg xmlns=\"http://www.w3.org/2000/svg\" height=\"24px\"viewBox=\"0 0 24 24\"\n",
              "       width=\"24px\">\n",
              "    <path d=\"M0 0h24v24H0V0z\" fill=\"none\"/>\n",
              "    <path d=\"M18.56 5.44l.94 2.06.94-2.06 2.06-.94-2.06-.94-.94-2.06-.94 2.06-2.06.94zm-11 1L8.5 8.5l.94-2.06 2.06-.94-2.06-.94L8.5 2.5l-.94 2.06-2.06.94zm10 10l.94 2.06.94-2.06 2.06-.94-2.06-.94-.94-2.06-.94 2.06-2.06.94z\"/><path d=\"M17.41 7.96l-1.37-1.37c-.4-.4-.92-.59-1.43-.59-.52 0-1.04.2-1.43.59L10.3 9.45l-7.72 7.72c-.78.78-.78 2.05 0 2.83L4 21.41c.39.39.9.59 1.41.59.51 0 1.02-.2 1.41-.59l7.78-7.78 2.81-2.81c.8-.78.8-2.07 0-2.86zM5.41 20L4 18.59l7.72-7.72 1.47 1.35L5.41 20z\"/>\n",
              "  </svg>\n",
              "      </button>\n",
              "      \n",
              "  <style>\n",
              "    .colab-df-container {\n",
              "      display:flex;\n",
              "      flex-wrap:wrap;\n",
              "      gap: 12px;\n",
              "    }\n",
              "\n",
              "    .colab-df-convert {\n",
              "      background-color: #E8F0FE;\n",
              "      border: none;\n",
              "      border-radius: 50%;\n",
              "      cursor: pointer;\n",
              "      display: none;\n",
              "      fill: #1967D2;\n",
              "      height: 32px;\n",
              "      padding: 0 0 0 0;\n",
              "      width: 32px;\n",
              "    }\n",
              "\n",
              "    .colab-df-convert:hover {\n",
              "      background-color: #E2EBFA;\n",
              "      box-shadow: 0px 1px 2px rgba(60, 64, 67, 0.3), 0px 1px 3px 1px rgba(60, 64, 67, 0.15);\n",
              "      fill: #174EA6;\n",
              "    }\n",
              "\n",
              "    [theme=dark] .colab-df-convert {\n",
              "      background-color: #3B4455;\n",
              "      fill: #D2E3FC;\n",
              "    }\n",
              "\n",
              "    [theme=dark] .colab-df-convert:hover {\n",
              "      background-color: #434B5C;\n",
              "      box-shadow: 0px 1px 3px 1px rgba(0, 0, 0, 0.15);\n",
              "      filter: drop-shadow(0px 1px 2px rgba(0, 0, 0, 0.3));\n",
              "      fill: #FFFFFF;\n",
              "    }\n",
              "  </style>\n",
              "\n",
              "      <script>\n",
              "        const buttonEl =\n",
              "          document.querySelector('#df-e4d23422-9b20-4e5c-bbea-a699bd1990c6 button.colab-df-convert');\n",
              "        buttonEl.style.display =\n",
              "          google.colab.kernel.accessAllowed ? 'block' : 'none';\n",
              "\n",
              "        async function convertToInteractive(key) {\n",
              "          const element = document.querySelector('#df-e4d23422-9b20-4e5c-bbea-a699bd1990c6');\n",
              "          const dataTable =\n",
              "            await google.colab.kernel.invokeFunction('convertToInteractive',\n",
              "                                                     [key], {});\n",
              "          if (!dataTable) return;\n",
              "\n",
              "          const docLinkHtml = 'Like what you see? Visit the ' +\n",
              "            '<a target=\"_blank\" href=https://colab.research.google.com/notebooks/data_table.ipynb>data table notebook</a>'\n",
              "            + ' to learn more about interactive tables.';\n",
              "          element.innerHTML = '';\n",
              "          dataTable['output_type'] = 'display_data';\n",
              "          await google.colab.output.renderOutput(dataTable, element);\n",
              "          const docLink = document.createElement('div');\n",
              "          docLink.innerHTML = docLinkHtml;\n",
              "          element.appendChild(docLink);\n",
              "        }\n",
              "      </script>\n",
              "    </div>\n",
              "  </div>\n",
              "  "
            ]
          },
          "metadata": {},
          "execution_count": 34
        }
      ]
    },
    {
      "cell_type": "code",
      "source": [
        "df.shape  #there are total 21996 rows and 4 columns.\n",
        "len(df['Review-Title'].value_counts())"
      ],
      "metadata": {
        "id": "mf-rGpU_V27k",
        "colab": {
          "base_uri": "https://localhost:8080/"
        },
        "outputId": "c842cd63-925d-421a-8438-1ca2b9afc9a0"
      },
      "execution_count": 35,
      "outputs": [
        {
          "output_type": "execute_result",
          "data": {
            "text/plain": [
              "15040"
            ]
          },
          "metadata": {},
          "execution_count": 35
        }
      ]
    },
    {
      "cell_type": "code",
      "source": [
        "len(df['Product Name'].value_counts()) #There are 8 total products."
      ],
      "metadata": {
        "id": "XAeVBxH2WI5S",
        "colab": {
          "base_uri": "https://localhost:8080/"
        },
        "outputId": "e7007af7-aadc-447d-e78f-b64ef24c562a"
      },
      "execution_count": 36,
      "outputs": [
        {
          "output_type": "execute_result",
          "data": {
            "text/plain": [
              "8"
            ]
          },
          "metadata": {},
          "execution_count": 36
        }
      ]
    },
    {
      "cell_type": "code",
      "source": [
        "df['rating'].value_counts()"
      ],
      "metadata": {
        "id": "TZL6TqvtXnBm",
        "colab": {
          "base_uri": "https://localhost:8080/"
        },
        "outputId": "1026293f-fdad-4687-8d41-0000b5a94bb0"
      },
      "execution_count": 37,
      "outputs": [
        {
          "output_type": "execute_result",
          "data": {
            "text/plain": [
              "5.0 out of 5 stars    9399\n",
              "1.0 out of 5 stars    5231\n",
              "4.0 out of 5 stars    4886\n",
              "3.0 out of 5 stars    2703\n",
              "2.0 out of 5 stars    1558\n",
              "Name: rating, dtype: int64"
            ]
          },
          "metadata": {},
          "execution_count": 37
        }
      ]
    },
    {
      "cell_type": "code",
      "source": [
        "int(df['rating'][0][0])"
      ],
      "metadata": {
        "id": "baQ8Tlb3Wvsh",
        "colab": {
          "base_uri": "https://localhost:8080/"
        },
        "outputId": "0f8ea488-2d29-4656-9598-0d412741ef0b"
      },
      "execution_count": 38,
      "outputs": [
        {
          "output_type": "execute_result",
          "data": {
            "text/plain": [
              "1"
            ]
          },
          "metadata": {},
          "execution_count": 38
        }
      ]
    },
    {
      "cell_type": "code",
      "source": [
        "#Creating a function to extract integer value of rating , from the ratings column.\n",
        "def R5(str):\n",
        "  for i in range(len(df)):\n",
        "      return int(str[0])"
      ],
      "metadata": {
        "id": "YEEGPEvwYAVl"
      },
      "execution_count": 39,
      "outputs": []
    },
    {
      "cell_type": "code",
      "source": [
        "#Applying the extraction method to extract integer from a string.\n",
        "df['R5'] = df['rating'].apply(R5)\n"
      ],
      "metadata": {
        "id": "b2pbAxdUYUaE"
      },
      "execution_count": 40,
      "outputs": []
    },
    {
      "cell_type": "code",
      "source": [
        "x=df.groupby('Product Name')['R5'].mean().sort_values(ascending=True)\n",
        "x = x.reset_index()\n",
        "x"
      ],
      "metadata": {
        "id": "AffkugFqbJKk",
        "colab": {
          "base_uri": "https://localhost:8080/",
          "height": 300
        },
        "outputId": "c8107f14-13f8-49a4-8c2f-ad87f00c6417"
      },
      "execution_count": 41,
      "outputs": [
        {
          "output_type": "execute_result",
          "data": {
            "text/plain": [
              "                                        Product Name        R5\n",
              "0                                 Samsung Galaxy M32  3.184328\n",
              "1     Redmi 10 Prime (Bifrost Blue 4GB RAM 64GB ROM   3.277070\n",
              "2  Redmi Note 11 (Space Black, 4GB RAM, 64GB Stor...  3.303598\n",
              "3  vivo iQOO Z6 5G (Chromatic Blue, 6GB RAM, 128G...  3.321353\n",
              "4  Redmi 9 Activ (Carbon Black, 4GB RAM, 64GB Sto...  3.400897\n",
              "5  realme narzo 50A (Oxygen Blue , 4GB RAM + 64 G...  3.664820\n",
              "6   OPPO A31 (Mystery Black, 6GB RAM, 128GB Storage)  3.727021\n",
              "7  OnePlus Nord CE 2 5G (Gray Mirror, 8GB RAM, 12...  3.760224"
            ],
            "text/html": [
              "\n",
              "  <div id=\"df-da948f94-a96e-40af-8d7b-503b5d302995\">\n",
              "    <div class=\"colab-df-container\">\n",
              "      <div>\n",
              "<style scoped>\n",
              "    .dataframe tbody tr th:only-of-type {\n",
              "        vertical-align: middle;\n",
              "    }\n",
              "\n",
              "    .dataframe tbody tr th {\n",
              "        vertical-align: top;\n",
              "    }\n",
              "\n",
              "    .dataframe thead th {\n",
              "        text-align: right;\n",
              "    }\n",
              "</style>\n",
              "<table border=\"1\" class=\"dataframe\">\n",
              "  <thead>\n",
              "    <tr style=\"text-align: right;\">\n",
              "      <th></th>\n",
              "      <th>Product Name</th>\n",
              "      <th>R5</th>\n",
              "    </tr>\n",
              "  </thead>\n",
              "  <tbody>\n",
              "    <tr>\n",
              "      <th>0</th>\n",
              "      <td>Samsung Galaxy M32</td>\n",
              "      <td>3.184328</td>\n",
              "    </tr>\n",
              "    <tr>\n",
              "      <th>1</th>\n",
              "      <td>Redmi 10 Prime (Bifrost Blue 4GB RAM 64GB ROM</td>\n",
              "      <td>3.277070</td>\n",
              "    </tr>\n",
              "    <tr>\n",
              "      <th>2</th>\n",
              "      <td>Redmi Note 11 (Space Black, 4GB RAM, 64GB Stor...</td>\n",
              "      <td>3.303598</td>\n",
              "    </tr>\n",
              "    <tr>\n",
              "      <th>3</th>\n",
              "      <td>vivo iQOO Z6 5G (Chromatic Blue, 6GB RAM, 128G...</td>\n",
              "      <td>3.321353</td>\n",
              "    </tr>\n",
              "    <tr>\n",
              "      <th>4</th>\n",
              "      <td>Redmi 9 Activ (Carbon Black, 4GB RAM, 64GB Sto...</td>\n",
              "      <td>3.400897</td>\n",
              "    </tr>\n",
              "    <tr>\n",
              "      <th>5</th>\n",
              "      <td>realme narzo 50A (Oxygen Blue , 4GB RAM + 64 G...</td>\n",
              "      <td>3.664820</td>\n",
              "    </tr>\n",
              "    <tr>\n",
              "      <th>6</th>\n",
              "      <td>OPPO A31 (Mystery Black, 6GB RAM, 128GB Storage)</td>\n",
              "      <td>3.727021</td>\n",
              "    </tr>\n",
              "    <tr>\n",
              "      <th>7</th>\n",
              "      <td>OnePlus Nord CE 2 5G (Gray Mirror, 8GB RAM, 12...</td>\n",
              "      <td>3.760224</td>\n",
              "    </tr>\n",
              "  </tbody>\n",
              "</table>\n",
              "</div>\n",
              "      <button class=\"colab-df-convert\" onclick=\"convertToInteractive('df-da948f94-a96e-40af-8d7b-503b5d302995')\"\n",
              "              title=\"Convert this dataframe to an interactive table.\"\n",
              "              style=\"display:none;\">\n",
              "        \n",
              "  <svg xmlns=\"http://www.w3.org/2000/svg\" height=\"24px\"viewBox=\"0 0 24 24\"\n",
              "       width=\"24px\">\n",
              "    <path d=\"M0 0h24v24H0V0z\" fill=\"none\"/>\n",
              "    <path d=\"M18.56 5.44l.94 2.06.94-2.06 2.06-.94-2.06-.94-.94-2.06-.94 2.06-2.06.94zm-11 1L8.5 8.5l.94-2.06 2.06-.94-2.06-.94L8.5 2.5l-.94 2.06-2.06.94zm10 10l.94 2.06.94-2.06 2.06-.94-2.06-.94-.94-2.06-.94 2.06-2.06.94z\"/><path d=\"M17.41 7.96l-1.37-1.37c-.4-.4-.92-.59-1.43-.59-.52 0-1.04.2-1.43.59L10.3 9.45l-7.72 7.72c-.78.78-.78 2.05 0 2.83L4 21.41c.39.39.9.59 1.41.59.51 0 1.02-.2 1.41-.59l7.78-7.78 2.81-2.81c.8-.78.8-2.07 0-2.86zM5.41 20L4 18.59l7.72-7.72 1.47 1.35L5.41 20z\"/>\n",
              "  </svg>\n",
              "      </button>\n",
              "      \n",
              "  <style>\n",
              "    .colab-df-container {\n",
              "      display:flex;\n",
              "      flex-wrap:wrap;\n",
              "      gap: 12px;\n",
              "    }\n",
              "\n",
              "    .colab-df-convert {\n",
              "      background-color: #E8F0FE;\n",
              "      border: none;\n",
              "      border-radius: 50%;\n",
              "      cursor: pointer;\n",
              "      display: none;\n",
              "      fill: #1967D2;\n",
              "      height: 32px;\n",
              "      padding: 0 0 0 0;\n",
              "      width: 32px;\n",
              "    }\n",
              "\n",
              "    .colab-df-convert:hover {\n",
              "      background-color: #E2EBFA;\n",
              "      box-shadow: 0px 1px 2px rgba(60, 64, 67, 0.3), 0px 1px 3px 1px rgba(60, 64, 67, 0.15);\n",
              "      fill: #174EA6;\n",
              "    }\n",
              "\n",
              "    [theme=dark] .colab-df-convert {\n",
              "      background-color: #3B4455;\n",
              "      fill: #D2E3FC;\n",
              "    }\n",
              "\n",
              "    [theme=dark] .colab-df-convert:hover {\n",
              "      background-color: #434B5C;\n",
              "      box-shadow: 0px 1px 3px 1px rgba(0, 0, 0, 0.15);\n",
              "      filter: drop-shadow(0px 1px 2px rgba(0, 0, 0, 0.3));\n",
              "      fill: #FFFFFF;\n",
              "    }\n",
              "  </style>\n",
              "\n",
              "      <script>\n",
              "        const buttonEl =\n",
              "          document.querySelector('#df-da948f94-a96e-40af-8d7b-503b5d302995 button.colab-df-convert');\n",
              "        buttonEl.style.display =\n",
              "          google.colab.kernel.accessAllowed ? 'block' : 'none';\n",
              "\n",
              "        async function convertToInteractive(key) {\n",
              "          const element = document.querySelector('#df-da948f94-a96e-40af-8d7b-503b5d302995');\n",
              "          const dataTable =\n",
              "            await google.colab.kernel.invokeFunction('convertToInteractive',\n",
              "                                                     [key], {});\n",
              "          if (!dataTable) return;\n",
              "\n",
              "          const docLinkHtml = 'Like what you see? Visit the ' +\n",
              "            '<a target=\"_blank\" href=https://colab.research.google.com/notebooks/data_table.ipynb>data table notebook</a>'\n",
              "            + ' to learn more about interactive tables.';\n",
              "          element.innerHTML = '';\n",
              "          dataTable['output_type'] = 'display_data';\n",
              "          await google.colab.output.renderOutput(dataTable, element);\n",
              "          const docLink = document.createElement('div');\n",
              "          docLink.innerHTML = docLinkHtml;\n",
              "          element.appendChild(docLink);\n",
              "        }\n",
              "      </script>\n",
              "    </div>\n",
              "  </div>\n",
              "  "
            ]
          },
          "metadata": {},
          "execution_count": 41
        }
      ]
    },
    {
      "cell_type": "code",
      "source": [
        "plt.figure(figsize=(10,4),dpi=200)\n",
        "plt.title('AVG Rating for mobiles')\n",
        "plt.xlabel('Mobile names')\n",
        "plt.ylabel('Rating')\n",
        "sns.barplot(data=x,x='Product Name',y='R5');"
      ],
      "metadata": {
        "id": "COH88rT1Yc8h",
        "colab": {
          "base_uri": "https://localhost:8080/",
          "height": 376
        },
        "outputId": "7d790a08-09aa-4a66-af28-a3e0cbd123d9"
      },
      "execution_count": 42,
      "outputs": [
        {
          "output_type": "display_data",
          "data": {
            "text/plain": [
              "<Figure size 2000x800 with 1 Axes>"
            ],
            "image/png": "[encoded data removed]"
          },
          "metadata": {
            "needs_background": "light"
          }
        }
      ]
    },
    {
      "cell_type": "code",
      "source": [
        "df[df['Product Name'] == 'Samsung Galaxy M32']['Review-Body']"
      ],
      "metadata": {
        "id": "iida-6-hZngC",
        "colab": {
          "base_uri": "https://localhost:8080/"
        },
        "outputId": "0502a42f-f7d8-4b85-f442-78cecb58ca01"
      },
      "execution_count": 43,
      "outputs": [
        {
          "output_type": "execute_result",
          "data": {
            "text/plain": [
              "21018    Dont buy this it is not worth for money. It is...\n",
              "21019    Pros:-1. Display (Best display you can get at ...\n",
              "21020    Cons:1.Good phone at this price.2.Display Qual...\n",
              "21021    I am sure there will be many reviewers who wil...\n",
              "21022    I purchased this phone on 16999 from Amazon by...\n",
              "                               ...                        \n",
              "22353                                 Battery life is good\n",
              "22354     Good for lower budget & non Chinese mobile brand\n",
              "22355    It's a nice productSmooth touchCamera quality ...\n",
              "22356    My mobile after purchase of 3.5 months is now ...\n",
              "22357     Bakwas ... total waistage of money.. use to hang\n",
              "Name: Review-Body, Length: 1340, dtype: object"
            ]
          },
          "metadata": {},
          "execution_count": 43
        }
      ]
    },
    {
      "cell_type": "code",
      "source": [
        "df.head()"
      ],
      "metadata": {
        "colab": {
          "base_uri": "https://localhost:8080/",
          "height": 337
        },
        "id": "kdwKLkyAO6tw",
        "outputId": "bf7f7898-af4e-4f68-8900-5703956dc706"
      },
      "execution_count": 44,
      "outputs": [
        {
          "output_type": "execute_result",
          "data": {
            "text/plain": [
              "                        Review-Title              rating  \\\n",
              "0                   Worst phone ever  1.0 out of 5 stars   \n",
              "1          Ok !!! Not up to the mark  2.0 out of 5 stars   \n",
              "2                       Awesome look  5.0 out of 5 stars   \n",
              "3  One plus losing is originality!!!  3.0 out of 5 stars   \n",
              "4                               Read  1.0 out of 5 stars   \n",
              "\n",
              "                                         Review-Body  \\\n",
              "0                                       Hang problem   \n",
              "1  I'm writing this review after using 3days !!!B...   \n",
              "2  Camera is so good n very fast phone back look ...   \n",
              "3  The media could not be loaded.\\n              ...   \n",
              "4  I got my delivery on 23 feb when I unboxed the...   \n",
              "\n",
              "                                        Product Name  R5  \n",
              "0  OnePlus Nord CE 2 5G (Gray Mirror, 8GB RAM, 12...   1  \n",
              "1  OnePlus Nord CE 2 5G (Gray Mirror, 8GB RAM, 12...   2  \n",
              "2  OnePlus Nord CE 2 5G (Gray Mirror, 8GB RAM, 12...   5  \n",
              "3  OnePlus Nord CE 2 5G (Gray Mirror, 8GB RAM, 12...   3  \n",
              "4  OnePlus Nord CE 2 5G (Gray Mirror, 8GB RAM, 12...   1  "
            ],
            "text/html": [
              "\n",
              "  <div id=\"df-b1e5f8db-46cf-4a92-b312-ce98bef0a88e\">\n",
              "    <div class=\"colab-df-container\">\n",
              "      <div>\n",
              "<style scoped>\n",
              "    .dataframe tbody tr th:only-of-type {\n",
              "        vertical-align: middle;\n",
              "    }\n",
              "\n",
              "    .dataframe tbody tr th {\n",
              "        vertical-align: top;\n",
              "    }\n",
              "\n",
              "    .dataframe thead th {\n",
              "        text-align: right;\n",
              "    }\n",
              "</style>\n",
              "<table border=\"1\" class=\"dataframe\">\n",
              "  <thead>\n",
              "    <tr style=\"text-align: right;\">\n",
              "      <th></th>\n",
              "      <th>Review-Title</th>\n",
              "      <th>rating</th>\n",
              "      <th>Review-Body</th>\n",
              "      <th>Product Name</th>\n",
              "      <th>R5</th>\n",
              "    </tr>\n",
              "  </thead>\n",
              "  <tbody>\n",
              "    <tr>\n",
              "      <th>0</th>\n",
              "      <td>Worst phone ever</td>\n",
              "      <td>1.0 out of 5 stars</td>\n",
              "      <td>Hang problem</td>\n",
              "      <td>OnePlus Nord CE 2 5G (Gray Mirror, 8GB RAM, 12...</td>\n",
              "      <td>1</td>\n",
              "    </tr>\n",
              "    <tr>\n",
              "      <th>1</th>\n",
              "      <td>Ok !!! Not up to the mark</td>\n",
              "      <td>2.0 out of 5 stars</td>\n",
              "      <td>I'm writing this review after using 3days !!!B...</td>\n",
              "      <td>OnePlus Nord CE 2 5G (Gray Mirror, 8GB RAM, 12...</td>\n",
              "      <td>2</td>\n",
              "    </tr>\n",
              "    <tr>\n",
              "      <th>2</th>\n",
              "      <td>Awesome look</td>\n",
              "      <td>5.0 out of 5 stars</td>\n",
              "      <td>Camera is so good n very fast phone back look ...</td>\n",
              "      <td>OnePlus Nord CE 2 5G (Gray Mirror, 8GB RAM, 12...</td>\n",
              "      <td>5</td>\n",
              "    </tr>\n",
              "    <tr>\n",
              "      <th>3</th>\n",
              "      <td>One plus losing is originality!!!</td>\n",
              "      <td>3.0 out of 5 stars</td>\n",
              "      <td>The media could not be loaded.\\n              ...</td>\n",
              "      <td>OnePlus Nord CE 2 5G (Gray Mirror, 8GB RAM, 12...</td>\n",
              "      <td>3</td>\n",
              "    </tr>\n",
              "    <tr>\n",
              "      <th>4</th>\n",
              "      <td>Read</td>\n",
              "      <td>1.0 out of 5 stars</td>\n",
              "      <td>I got my delivery on 23 feb when I unboxed the...</td>\n",
              "      <td>OnePlus Nord CE 2 5G (Gray Mirror, 8GB RAM, 12...</td>\n",
              "      <td>1</td>\n",
              "    </tr>\n",
              "  </tbody>\n",
              "</table>\n",
              "</div>\n",
              "      <button class=\"colab-df-convert\" onclick=\"convertToInteractive('df-b1e5f8db-46cf-4a92-b312-ce98bef0a88e')\"\n",
              "              title=\"Convert this dataframe to an interactive table.\"\n",
              "              style=\"display:none;\">\n",
              "        \n",
              "  <svg xmlns=\"http://www.w3.org/2000/svg\" height=\"24px\"viewBox=\"0 0 24 24\"\n",
              "       width=\"24px\">\n",
              "    <path d=\"M0 0h24v24H0V0z\" fill=\"none\"/>\n",
              "    <path d=\"M18.56 5.44l.94 2.06.94-2.06 2.06-.94-2.06-.94-.94-2.06-.94 2.06-2.06.94zm-11 1L8.5 8.5l.94-2.06 2.06-.94-2.06-.94L8.5 2.5l-.94 2.06-2.06.94zm10 10l.94 2.06.94-2.06 2.06-.94-2.06-.94-.94-2.06-.94 2.06-2.06.94z\"/><path d=\"M17.41 7.96l-1.37-1.37c-.4-.4-.92-.59-1.43-.59-.52 0-1.04.2-1.43.59L10.3 9.45l-7.72 7.72c-.78.78-.78 2.05 0 2.83L4 21.41c.39.39.9.59 1.41.59.51 0 1.02-.2 1.41-.59l7.78-7.78 2.81-2.81c.8-.78.8-2.07 0-2.86zM5.41 20L4 18.59l7.72-7.72 1.47 1.35L5.41 20z\"/>\n",
              "  </svg>\n",
              "      </button>\n",
              "      \n",
              "  <style>\n",
              "    .colab-df-container {\n",
              "      display:flex;\n",
              "      flex-wrap:wrap;\n",
              "      gap: 12px;\n",
              "    }\n",
              "\n",
              "    .colab-df-convert {\n",
              "      background-color: #E8F0FE;\n",
              "      border: none;\n",
              "      border-radius: 50%;\n",
              "      cursor: pointer;\n",
              "      display: none;\n",
              "      fill: #1967D2;\n",
              "      height: 32px;\n",
              "      padding: 0 0 0 0;\n",
              "      width: 32px;\n",
              "    }\n",
              "\n",
              "    .colab-df-convert:hover {\n",
              "      background-color: #E2EBFA;\n",
              "      box-shadow: 0px 1px 2px rgba(60, 64, 67, 0.3), 0px 1px 3px 1px rgba(60, 64, 67, 0.15);\n",
              "      fill: #174EA6;\n",
              "    }\n",
              "\n",
              "    [theme=dark] .colab-df-convert {\n",
              "      background-color: #3B4455;\n",
              "      fill: #D2E3FC;\n",
              "    }\n",
              "\n",
              "    [theme=dark] .colab-df-convert:hover {\n",
              "      background-color: #434B5C;\n",
              "      box-shadow: 0px 1px 3px 1px rgba(0, 0, 0, 0.15);\n",
              "      filter: drop-shadow(0px 1px 2px rgba(0, 0, 0, 0.3));\n",
              "      fill: #FFFFFF;\n",
              "    }\n",
              "  </style>\n",
              "\n",
              "      <script>\n",
              "        const buttonEl =\n",
              "          document.querySelector('#df-b1e5f8db-46cf-4a92-b312-ce98bef0a88e button.colab-df-convert');\n",
              "        buttonEl.style.display =\n",
              "          google.colab.kernel.accessAllowed ? 'block' : 'none';\n",
              "\n",
              "        async function convertToInteractive(key) {\n",
              "          const element = document.querySelector('#df-b1e5f8db-46cf-4a92-b312-ce98bef0a88e');\n",
              "          const dataTable =\n",
              "            await google.colab.kernel.invokeFunction('convertToInteractive',\n",
              "                                                     [key], {});\n",
              "          if (!dataTable) return;\n",
              "\n",
              "          const docLinkHtml = 'Like what you see? Visit the ' +\n",
              "            '<a target=\"_blank\" href=https://colab.research.google.com/notebooks/data_table.ipynb>data table notebook</a>'\n",
              "            + ' to learn more about interactive tables.';\n",
              "          element.innerHTML = '';\n",
              "          dataTable['output_type'] = 'display_data';\n",
              "          await google.colab.output.renderOutput(dataTable, element);\n",
              "          const docLink = document.createElement('div');\n",
              "          docLink.innerHTML = docLinkHtml;\n",
              "          element.appendChild(docLink);\n",
              "        }\n",
              "      </script>\n",
              "    </div>\n",
              "  </div>\n",
              "  "
            ]
          },
          "metadata": {},
          "execution_count": 44
        }
      ]
    },
    {
      "cell_type": "code",
      "source": [
        "df['sentiment'] = df['R5'].apply(lambda score: \"positive\" if score >= 3 else \"negative\")\n",
        "df['sentiment'] = df['sentiment'].map({'positive':1,'negative':0})"
      ],
      "metadata": {
        "id": "i7n-5keomJWi"
      },
      "execution_count": 45,
      "outputs": []
    },
    {
      "cell_type": "code",
      "source": [
        "df.head()"
      ],
      "metadata": {
        "colab": {
          "base_uri": "https://localhost:8080/",
          "height": 337
        },
        "id": "LHeOSPNIm9ut",
        "outputId": "4aca4758-9e63-4305-984c-64a30c193316"
      },
      "execution_count": 46,
      "outputs": [
        {
          "output_type": "execute_result",
          "data": {
            "text/plain": [
              "                        Review-Title              rating  \\\n",
              "0                   Worst phone ever  1.0 out of 5 stars   \n",
              "1          Ok !!! Not up to the mark  2.0 out of 5 stars   \n",
              "2                       Awesome look  5.0 out of 5 stars   \n",
              "3  One plus losing is originality!!!  3.0 out of 5 stars   \n",
              "4                               Read  1.0 out of 5 stars   \n",
              "\n",
              "                                         Review-Body  \\\n",
              "0                                       Hang problem   \n",
              "1  I'm writing this review after using 3days !!!B...   \n",
              "2  Camera is so good n very fast phone back look ...   \n",
              "3  The media could not be loaded.\\n              ...   \n",
              "4  I got my delivery on 23 feb when I unboxed the...   \n",
              "\n",
              "                                        Product Name  R5  sentiment  \n",
              "0  OnePlus Nord CE 2 5G (Gray Mirror, 8GB RAM, 12...   1          0  \n",
              "1  OnePlus Nord CE 2 5G (Gray Mirror, 8GB RAM, 12...   2          0  \n",
              "2  OnePlus Nord CE 2 5G (Gray Mirror, 8GB RAM, 12...   5          1  \n",
              "3  OnePlus Nord CE 2 5G (Gray Mirror, 8GB RAM, 12...   3          1  \n",
              "4  OnePlus Nord CE 2 5G (Gray Mirror, 8GB RAM, 12...   1          0  "
            ],
            "text/html": [
              "\n",
              "  <div id=\"df-2d3bf71e-e28c-4f33-a136-2f9ee18bd3fb\">\n",
              "    <div class=\"colab-df-container\">\n",
              "      <div>\n",
              "<style scoped>\n",
              "    .dataframe tbody tr th:only-of-type {\n",
              "        vertical-align: middle;\n",
              "    }\n",
              "\n",
              "    .dataframe tbody tr th {\n",
              "        vertical-align: top;\n",
              "    }\n",
              "\n",
              "    .dataframe thead th {\n",
              "        text-align: right;\n",
              "    }\n",
              "</style>\n",
              "<table border=\"1\" class=\"dataframe\">\n",
              "  <thead>\n",
              "    <tr style=\"text-align: right;\">\n",
              "      <th></th>\n",
              "      <th>Review-Title</th>\n",
              "      <th>rating</th>\n",
              "      <th>Review-Body</th>\n",
              "      <th>Product Name</th>\n",
              "      <th>R5</th>\n",
              "      <th>sentiment</th>\n",
              "    </tr>\n",
              "  </thead>\n",
              "  <tbody>\n",
              "    <tr>\n",
              "      <th>0</th>\n",
              "      <td>Worst phone ever</td>\n",
              "      <td>1.0 out of 5 stars</td>\n",
              "      <td>Hang problem</td>\n",
              "      <td>OnePlus Nord CE 2 5G (Gray Mirror, 8GB RAM, 12...</td>\n",
              "      <td>1</td>\n",
              "      <td>0</td>\n",
              "    </tr>\n",
              "    <tr>\n",
              "      <th>1</th>\n",
              "      <td>Ok !!! Not up to the mark</td>\n",
              "      <td>2.0 out of 5 stars</td>\n",
              "      <td>I'm writing this review after using 3days !!!B...</td>\n",
              "      <td>OnePlus Nord CE 2 5G (Gray Mirror, 8GB RAM, 12...</td>\n",
              "      <td>2</td>\n",
              "      <td>0</td>\n",
              "    </tr>\n",
              "    <tr>\n",
              "      <th>2</th>\n",
              "      <td>Awesome look</td>\n",
              "      <td>5.0 out of 5 stars</td>\n",
              "      <td>Camera is so good n very fast phone back look ...</td>\n",
              "      <td>OnePlus Nord CE 2 5G (Gray Mirror, 8GB RAM, 12...</td>\n",
              "      <td>5</td>\n",
              "      <td>1</td>\n",
              "    </tr>\n",
              "    <tr>\n",
              "      <th>3</th>\n",
              "      <td>One plus losing is originality!!!</td>\n",
              "      <td>3.0 out of 5 stars</td>\n",
              "      <td>The media could not be loaded.\\n              ...</td>\n",
              "      <td>OnePlus Nord CE 2 5G (Gray Mirror, 8GB RAM, 12...</td>\n",
              "      <td>3</td>\n",
              "      <td>1</td>\n",
              "    </tr>\n",
              "    <tr>\n",
              "      <th>4</th>\n",
              "      <td>Read</td>\n",
              "      <td>1.0 out of 5 stars</td>\n",
              "      <td>I got my delivery on 23 feb when I unboxed the...</td>\n",
              "      <td>OnePlus Nord CE 2 5G (Gray Mirror, 8GB RAM, 12...</td>\n",
              "      <td>1</td>\n",
              "      <td>0</td>\n",
              "    </tr>\n",
              "  </tbody>\n",
              "</table>\n",
              "</div>\n",
              "      <button class=\"colab-df-convert\" onclick=\"convertToInteractive('df-2d3bf71e-e28c-4f33-a136-2f9ee18bd3fb')\"\n",
              "              title=\"Convert this dataframe to an interactive table.\"\n",
              "              style=\"display:none;\">\n",
              "        \n",
              "  <svg xmlns=\"http://www.w3.org/2000/svg\" height=\"24px\"viewBox=\"0 0 24 24\"\n",
              "       width=\"24px\">\n",
              "    <path d=\"M0 0h24v24H0V0z\" fill=\"none\"/>\n",
              "    <path d=\"M18.56 5.44l.94 2.06.94-2.06 2.06-.94-2.06-.94-.94-2.06-.94 2.06-2.06.94zm-11 1L8.5 8.5l.94-2.06 2.06-.94-2.06-.94L8.5 2.5l-.94 2.06-2.06.94zm10 10l.94 2.06.94-2.06 2.06-.94-2.06-.94-.94-2.06-.94 2.06-2.06.94z\"/><path d=\"M17.41 7.96l-1.37-1.37c-.4-.4-.92-.59-1.43-.59-.52 0-1.04.2-1.43.59L10.3 9.45l-7.72 7.72c-.78.78-.78 2.05 0 2.83L4 21.41c.39.39.9.59 1.41.59.51 0 1.02-.2 1.41-.59l7.78-7.78 2.81-2.81c.8-.78.8-2.07 0-2.86zM5.41 20L4 18.59l7.72-7.72 1.47 1.35L5.41 20z\"/>\n",
              "  </svg>\n",
              "      </button>\n",
              "      \n",
              "  <style>\n",
              "    .colab-df-container {\n",
              "      display:flex;\n",
              "      flex-wrap:wrap;\n",
              "      gap: 12px;\n",
              "    }\n",
              "\n",
              "    .colab-df-convert {\n",
              "      background-color: #E8F0FE;\n",
              "      border: none;\n",
              "      border-radius: 50%;\n",
              "      cursor: pointer;\n",
              "      display: none;\n",
              "      fill: #1967D2;\n",
              "      height: 32px;\n",
              "      padding: 0 0 0 0;\n",
              "      width: 32px;\n",
              "    }\n",
              "\n",
              "    .colab-df-convert:hover {\n",
              "      background-color: #E2EBFA;\n",
              "      box-shadow: 0px 1px 2px rgba(60, 64, 67, 0.3), 0px 1px 3px 1px rgba(60, 64, 67, 0.15);\n",
              "      fill: #174EA6;\n",
              "    }\n",
              "\n",
              "    [theme=dark] .colab-df-convert {\n",
              "      background-color: #3B4455;\n",
              "      fill: #D2E3FC;\n",
              "    }\n",
              "\n",
              "    [theme=dark] .colab-df-convert:hover {\n",
              "      background-color: #434B5C;\n",
              "      box-shadow: 0px 1px 3px 1px rgba(0, 0, 0, 0.15);\n",
              "      filter: drop-shadow(0px 1px 2px rgba(0, 0, 0, 0.3));\n",
              "      fill: #FFFFFF;\n",
              "    }\n",
              "  </style>\n",
              "\n",
              "      <script>\n",
              "        const buttonEl =\n",
              "          document.querySelector('#df-2d3bf71e-e28c-4f33-a136-2f9ee18bd3fb button.colab-df-convert');\n",
              "        buttonEl.style.display =\n",
              "          google.colab.kernel.accessAllowed ? 'block' : 'none';\n",
              "\n",
              "        async function convertToInteractive(key) {\n",
              "          const element = document.querySelector('#df-2d3bf71e-e28c-4f33-a136-2f9ee18bd3fb');\n",
              "          const dataTable =\n",
              "            await google.colab.kernel.invokeFunction('convertToInteractive',\n",
              "                                                     [key], {});\n",
              "          if (!dataTable) return;\n",
              "\n",
              "          const docLinkHtml = 'Like what you see? Visit the ' +\n",
              "            '<a target=\"_blank\" href=https://colab.research.google.com/notebooks/data_table.ipynb>data table notebook</a>'\n",
              "            + ' to learn more about interactive tables.';\n",
              "          element.innerHTML = '';\n",
              "          dataTable['output_type'] = 'display_data';\n",
              "          await google.colab.output.renderOutput(dataTable, element);\n",
              "          const docLink = document.createElement('div');\n",
              "          docLink.innerHTML = docLinkHtml;\n",
              "          element.appendChild(docLink);\n",
              "        }\n",
              "      </script>\n",
              "    </div>\n",
              "  </div>\n",
              "  "
            ]
          },
          "metadata": {},
          "execution_count": 46
        }
      ]
    },
    {
      "cell_type": "code",
      "source": [
        "df = df[['Review-Body','Product Name','sentiment']]\n",
        "df.head()"
      ],
      "metadata": {
        "colab": {
          "base_uri": "https://localhost:8080/",
          "height": 206
        },
        "id": "74DhEw8XnEmQ",
        "outputId": "3582bae4-caba-478b-c155-d0efae8cc1b8"
      },
      "execution_count": 47,
      "outputs": [
        {
          "output_type": "execute_result",
          "data": {
            "text/plain": [
              "                                         Review-Body  \\\n",
              "0                                       Hang problem   \n",
              "1  I'm writing this review after using 3days !!!B...   \n",
              "2  Camera is so good n very fast phone back look ...   \n",
              "3  The media could not be loaded.\\n              ...   \n",
              "4  I got my delivery on 23 feb when I unboxed the...   \n",
              "\n",
              "                                        Product Name  sentiment  \n",
              "0  OnePlus Nord CE 2 5G (Gray Mirror, 8GB RAM, 12...          0  \n",
              "1  OnePlus Nord CE 2 5G (Gray Mirror, 8GB RAM, 12...          0  \n",
              "2  OnePlus Nord CE 2 5G (Gray Mirror, 8GB RAM, 12...          1  \n",
              "3  OnePlus Nord CE 2 5G (Gray Mirror, 8GB RAM, 12...          1  \n",
              "4  OnePlus Nord CE 2 5G (Gray Mirror, 8GB RAM, 12...          0  "
            ],
            "text/html": [
              "\n",
              "  <div id=\"df-a8f781fb-aabf-4700-acf6-c8af0f130281\">\n",
              "    <div class=\"colab-df-container\">\n",
              "      <div>\n",
              "<style scoped>\n",
              "    .dataframe tbody tr th:only-of-type {\n",
              "        vertical-align: middle;\n",
              "    }\n",
              "\n",
              "    .dataframe tbody tr th {\n",
              "        vertical-align: top;\n",
              "    }\n",
              "\n",
              "    .dataframe thead th {\n",
              "        text-align: right;\n",
              "    }\n",
              "</style>\n",
              "<table border=\"1\" class=\"dataframe\">\n",
              "  <thead>\n",
              "    <tr style=\"text-align: right;\">\n",
              "      <th></th>\n",
              "      <th>Review-Body</th>\n",
              "      <th>Product Name</th>\n",
              "      <th>sentiment</th>\n",
              "    </tr>\n",
              "  </thead>\n",
              "  <tbody>\n",
              "    <tr>\n",
              "      <th>0</th>\n",
              "      <td>Hang problem</td>\n",
              "      <td>OnePlus Nord CE 2 5G (Gray Mirror, 8GB RAM, 12...</td>\n",
              "      <td>0</td>\n",
              "    </tr>\n",
              "    <tr>\n",
              "      <th>1</th>\n",
              "      <td>I'm writing this review after using 3days !!!B...</td>\n",
              "      <td>OnePlus Nord CE 2 5G (Gray Mirror, 8GB RAM, 12...</td>\n",
              "      <td>0</td>\n",
              "    </tr>\n",
              "    <tr>\n",
              "      <th>2</th>\n",
              "      <td>Camera is so good n very fast phone back look ...</td>\n",
              "      <td>OnePlus Nord CE 2 5G (Gray Mirror, 8GB RAM, 12...</td>\n",
              "      <td>1</td>\n",
              "    </tr>\n",
              "    <tr>\n",
              "      <th>3</th>\n",
              "      <td>The media could not be loaded.\\n              ...</td>\n",
              "      <td>OnePlus Nord CE 2 5G (Gray Mirror, 8GB RAM, 12...</td>\n",
              "      <td>1</td>\n",
              "    </tr>\n",
              "    <tr>\n",
              "      <th>4</th>\n",
              "      <td>I got my delivery on 23 feb when I unboxed the...</td>\n",
              "      <td>OnePlus Nord CE 2 5G (Gray Mirror, 8GB RAM, 12...</td>\n",
              "      <td>0</td>\n",
              "    </tr>\n",
              "  </tbody>\n",
              "</table>\n",
              "</div>\n",
              "      <button class=\"colab-df-convert\" onclick=\"convertToInteractive('df-a8f781fb-aabf-4700-acf6-c8af0f130281')\"\n",
              "              title=\"Convert this dataframe to an interactive table.\"\n",
              "              style=\"display:none;\">\n",
              "        \n",
              "  <svg xmlns=\"http://www.w3.org/2000/svg\" height=\"24px\"viewBox=\"0 0 24 24\"\n",
              "       width=\"24px\">\n",
              "    <path d=\"M0 0h24v24H0V0z\" fill=\"none\"/>\n",
              "    <path d=\"M18.56 5.44l.94 2.06.94-2.06 2.06-.94-2.06-.94-.94-2.06-.94 2.06-2.06.94zm-11 1L8.5 8.5l.94-2.06 2.06-.94-2.06-.94L8.5 2.5l-.94 2.06-2.06.94zm10 10l.94 2.06.94-2.06 2.06-.94-2.06-.94-.94-2.06-.94 2.06-2.06.94z\"/><path d=\"M17.41 7.96l-1.37-1.37c-.4-.4-.92-.59-1.43-.59-.52 0-1.04.2-1.43.59L10.3 9.45l-7.72 7.72c-.78.78-.78 2.05 0 2.83L4 21.41c.39.39.9.59 1.41.59.51 0 1.02-.2 1.41-.59l7.78-7.78 2.81-2.81c.8-.78.8-2.07 0-2.86zM5.41 20L4 18.59l7.72-7.72 1.47 1.35L5.41 20z\"/>\n",
              "  </svg>\n",
              "      </button>\n",
              "      \n",
              "  <style>\n",
              "    .colab-df-container {\n",
              "      display:flex;\n",
              "      flex-wrap:wrap;\n",
              "      gap: 12px;\n",
              "    }\n",
              "\n",
              "    .colab-df-convert {\n",
              "      background-color: #E8F0FE;\n",
              "      border: none;\n",
              "      border-radius: 50%;\n",
              "      cursor: pointer;\n",
              "      display: none;\n",
              "      fill: #1967D2;\n",
              "      height: 32px;\n",
              "      padding: 0 0 0 0;\n",
              "      width: 32px;\n",
              "    }\n",
              "\n",
              "    .colab-df-convert:hover {\n",
              "      background-color: #E2EBFA;\n",
              "      box-shadow: 0px 1px 2px rgba(60, 64, 67, 0.3), 0px 1px 3px 1px rgba(60, 64, 67, 0.15);\n",
              "      fill: #174EA6;\n",
              "    }\n",
              "\n",
              "    [theme=dark] .colab-df-convert {\n",
              "      background-color: #3B4455;\n",
              "      fill: #D2E3FC;\n",
              "    }\n",
              "\n",
              "    [theme=dark] .colab-df-convert:hover {\n",
              "      background-color: #434B5C;\n",
              "      box-shadow: 0px 1px 3px 1px rgba(0, 0, 0, 0.15);\n",
              "      filter: drop-shadow(0px 1px 2px rgba(0, 0, 0, 0.3));\n",
              "      fill: #FFFFFF;\n",
              "    }\n",
              "  </style>\n",
              "\n",
              "      <script>\n",
              "        const buttonEl =\n",
              "          document.querySelector('#df-a8f781fb-aabf-4700-acf6-c8af0f130281 button.colab-df-convert');\n",
              "        buttonEl.style.display =\n",
              "          google.colab.kernel.accessAllowed ? 'block' : 'none';\n",
              "\n",
              "        async function convertToInteractive(key) {\n",
              "          const element = document.querySelector('#df-a8f781fb-aabf-4700-acf6-c8af0f130281');\n",
              "          const dataTable =\n",
              "            await google.colab.kernel.invokeFunction('convertToInteractive',\n",
              "                                                     [key], {});\n",
              "          if (!dataTable) return;\n",
              "\n",
              "          const docLinkHtml = 'Like what you see? Visit the ' +\n",
              "            '<a target=\"_blank\" href=https://colab.research.google.com/notebooks/data_table.ipynb>data table notebook</a>'\n",
              "            + ' to learn more about interactive tables.';\n",
              "          element.innerHTML = '';\n",
              "          dataTable['output_type'] = 'display_data';\n",
              "          await google.colab.output.renderOutput(dataTable, element);\n",
              "          const docLink = document.createElement('div');\n",
              "          docLink.innerHTML = docLinkHtml;\n",
              "          element.appendChild(docLink);\n",
              "        }\n",
              "      </script>\n",
              "    </div>\n",
              "  </div>\n",
              "  "
            ]
          },
          "metadata": {},
          "execution_count": 47
        }
      ]
    },
    {
      "cell_type": "code",
      "source": [
        "df['Product Name'].value_counts()"
      ],
      "metadata": {
        "colab": {
          "base_uri": "https://localhost:8080/"
        },
        "id": "svF4y3vPoLCn",
        "outputId": "6f5bd20e-9f21-49c8-b11a-9f1e41453fe5"
      },
      "execution_count": 58,
      "outputs": [
        {
          "output_type": "execute_result",
          "data": {
            "text/plain": [
              "Redmi 9 Activ (Carbon Black, 4GB RAM, 64GB Storage)           4460\n",
              "OPPO A31 (Mystery Black, 6GB RAM, 128GB Storage)              4330\n",
              "Redmi 10 Prime (Bifrost Blue 4GB RAM 64GB ROM                 3768\n",
              "OnePlus Nord CE 2 5G (Gray Mirror, 8GB RAM, 128GB Storage)    3570\n",
              "Redmi Note 11 (Space Black, 4GB RAM, 64GB Storage)            2724\n",
              "realme narzo 50A (Oxygen Blue , 4GB RAM + 64 GB Storage)      2166\n",
              "vivo iQOO Z6 5G (Chromatic Blue, 6GB RAM, 128GB Storage)      1419\n",
              "Samsung Galaxy M32                                            1340\n",
              "Name: Product Name, dtype: int64"
            ]
          },
          "metadata": {},
          "execution_count": 58
        }
      ]
    },
    {
      "cell_type": "markdown",
      "source": [
        "#@ Finding the percentage of positive words and negative words ,for each mobile model."
      ],
      "metadata": {
        "id": "Yw0nOdS6qKMe"
      }
    },
    {
      "cell_type": "code",
      "source": [
        "p1 = (len(df[(df['Product Name'] == 'Redmi 9 Activ (Carbon Black, 4GB RAM, 64GB Storage)') & \n",
        "             (df['sentiment'] == 1)])/len(df[df['Product Name'] == 'Redmi 9 Activ (Carbon Black, 4GB RAM, 64GB Storage)']))*100"
      ],
      "metadata": {
        "colab": {
          "base_uri": "https://localhost:8080/"
        },
        "id": "lULpE5BsnQrP",
        "outputId": "cdc69b00-7596-4bc4-ac8d-69eb0385ac52"
      },
      "execution_count": 54,
      "outputs": [
        {
          "output_type": "execute_result",
          "data": {
            "text/plain": [
              "70.2914798206278"
            ]
          },
          "metadata": {},
          "execution_count": 54
        }
      ]
    },
    {
      "cell_type": "code",
      "source": [
        "x['Product Name'][0]"
      ],
      "metadata": {
        "colab": {
          "base_uri": "https://localhost:8080/",
          "height": 35
        },
        "id": "dbBFAxRLrlq7",
        "outputId": "f15ea837-9fe4-4bf4-f71e-8b6900c5cac6"
      },
      "execution_count": 69,
      "outputs": [
        {
          "output_type": "execute_result",
          "data": {
            "text/plain": [
              "'Samsung Galaxy M32'"
            ],
            "application/vnd.google.colaboratory.intrinsic+json": {
              "type": "string"
            }
          },
          "metadata": {},
          "execution_count": 69
        }
      ]
    },
    {
      "cell_type": "code",
      "source": [
        "for i in range(len(x)):\n",
        "  print('positive review percentage of ',x['Product Name'][i],'is\\n',round((len(df[(df['Product Name'] == x['Product Name'][i]) & \n",
        "             (df['sentiment'] == 1)])/len(df[df['Product Name'] == x['Product Name'][i]]))*100,2))"
      ],
      "metadata": {
        "colab": {
          "base_uri": "https://localhost:8080/"
        },
        "id": "_knlxmb8rUji",
        "outputId": "dbcbf2c4-5d75-475e-a93b-af884c510d6c"
      },
      "execution_count": 74,
      "outputs": [
        {
          "output_type": "stream",
          "name": "stdout",
          "text": [
            "positive review percentage of  Samsung Galaxy M32 is\n",
            " 63.51\n",
            "positive review percentage of  Redmi 10 Prime (Bifrost Blue 4GB RAM 64GB ROM  is\n",
            " 64.89\n",
            "positive review percentage of  Redmi Note 11 (Space Black, 4GB RAM, 64GB Storage) is\n",
            " 68.21\n",
            "positive review percentage of  vivo iQOO Z6 5G (Chromatic Blue, 6GB RAM, 128GB Storage) is\n",
            " 68.22\n",
            "positive review percentage of  Redmi 9 Activ (Carbon Black, 4GB RAM, 64GB Storage) is\n",
            " 70.29\n",
            "positive review percentage of  realme narzo 50A (Oxygen Blue , 4GB RAM + 64 GB Storage) is\n",
            " 76.22\n",
            "positive review percentage of  OPPO A31 (Mystery Black, 6GB RAM, 128GB Storage) is\n",
            " 76.19\n",
            "positive review percentage of  OnePlus Nord CE 2 5G (Gray Mirror, 8GB RAM, 128GB Storage) is\n",
            " 77.9\n"
          ]
        }
      ]
    },
    {
      "cell_type": "code",
      "source": [
        "for i in range(len(x)):\n",
        "  print('Negative review percentage of ',x['Product Name'][i],'is\\n',round((len(df[(df['Product Name'] == x['Product Name'][i]) & \n",
        "             (df['sentiment'] == 0)])/len(df[df['Product Name'] == x['Product Name'][i]]))*100,2))"
      ],
      "metadata": {
        "colab": {
          "base_uri": "https://localhost:8080/"
        },
        "id": "-2L10Sm1t3m0",
        "outputId": "004bdd3e-e6f1-49e2-d51c-977792f65762"
      },
      "execution_count": 75,
      "outputs": [
        {
          "output_type": "stream",
          "name": "stdout",
          "text": [
            "Negative review percentage of  Samsung Galaxy M32 is\n",
            " 36.49\n",
            "Negative review percentage of  Redmi 10 Prime (Bifrost Blue 4GB RAM 64GB ROM  is\n",
            " 35.11\n",
            "Negative review percentage of  Redmi Note 11 (Space Black, 4GB RAM, 64GB Storage) is\n",
            " 31.79\n",
            "Negative review percentage of  vivo iQOO Z6 5G (Chromatic Blue, 6GB RAM, 128GB Storage) is\n",
            " 31.78\n",
            "Negative review percentage of  Redmi 9 Activ (Carbon Black, 4GB RAM, 64GB Storage) is\n",
            " 29.71\n",
            "Negative review percentage of  realme narzo 50A (Oxygen Blue , 4GB RAM + 64 GB Storage) is\n",
            " 23.78\n",
            "Negative review percentage of  OPPO A31 (Mystery Black, 6GB RAM, 128GB Storage) is\n",
            " 23.81\n",
            "Negative review percentage of  OnePlus Nord CE 2 5G (Gray Mirror, 8GB RAM, 128GB Storage) is\n",
            " 22.1\n"
          ]
        }
      ]
    },
    {
      "cell_type": "code",
      "source": [
        ""
      ],
      "metadata": {
        "id": "viP3gR1c1_i-"
      },
      "execution_count": null,
      "outputs": []
    }
  ]
}