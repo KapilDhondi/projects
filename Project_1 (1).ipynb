{
  "nbformat": 4,
  "nbformat_minor": 0,
  "metadata": {
    "colab": {
      "name": "Project 1.ipynb",
      "provenance": [],
      "collapsed_sections": [
        "pQAkG4Jbf-pb",
        "n9WEit2dnpX1",
        "xDWE7ydw3ROf",
        "-BwAkxxn5DMW",
        "z89hRRix9LFJ"
      ]
    },
    "kernelspec": {
      "name": "python3",
      "display_name": "Python 3"
    },
    "language_info": {
      "name": "python"
    }
  },
  "cells": [
    {
      "cell_type": "code",
      "execution_count": 1,
      "metadata": {
        "id": "zaw9zYpCQ_Ga"
      },
      "outputs": [],
      "source": [
        "import numpy as np\n",
        "import pandas as pd\n",
        "import matplotlib.pyplot as plt\n",
        "import seaborn as sns"
      ]
    },
    {
      "cell_type": "code",
      "source": [
        "df = pd.read_csv('train-chennai-sale.csv')\n",
        "df"
      ],
      "metadata": {
        "colab": {
          "base_uri": "https://localhost:8080/",
          "height": 661
        },
        "id": "xmOwcwnoRJvV",
        "outputId": "f10004b1-56ef-4c38-ca4a-8be6e6a4ea4d"
      },
      "execution_count": 2,
      "outputs": [
        {
          "output_type": "execute_result",
          "data": {
            "text/plain": [
              "      PRT_ID        AREA  INT_SQFT   DATE_SALE  DIST_MAINROAD  N_BEDROOM  \\\n",
              "0     P03210  Karapakkam      1004  04-05-2011            131        1.0   \n",
              "1     P09411  Anna Nagar      1986  19-12-2006             26        2.0   \n",
              "2     P01812       Adyar       909  04-02-2012             70        1.0   \n",
              "3     P05346   Velachery      1855  13-03-2010             14        3.0   \n",
              "4     P06210  Karapakkam      1226  05-10-2009             84        1.0   \n",
              "...      ...         ...       ...         ...            ...        ...   \n",
              "7104  P03834  Karapakkam       598  03-01-2011             51        1.0   \n",
              "7105  P10000   Velachery      1897  08-04-2004             52        3.0   \n",
              "7106  P09594   Velachery      1614  25-08-2006            152        2.0   \n",
              "7107  P06508  Karapakkam       787  03-08-2009             40        1.0   \n",
              "7108  P09794   Velachery      1896  13-07-2005            156        3.0   \n",
              "\n",
              "      N_BATHROOM  N_ROOM    SALE_COND PARK_FACIL  ... UTILITY_AVAIL  \\\n",
              "0            1.0       3     AbNormal        Yes  ...        AllPub   \n",
              "1            1.0       5     AbNormal         No  ...        AllPub   \n",
              "2            1.0       3     AbNormal        Yes  ...           ELO   \n",
              "3            2.0       5       Family         No  ...       NoSewr    \n",
              "4            1.0       3     AbNormal        Yes  ...        AllPub   \n",
              "...          ...     ...          ...        ...  ...           ...   \n",
              "7104         1.0       2      AdjLand         No  ...           ELO   \n",
              "7105         2.0       5       Family        Yes  ...        NoSeWa   \n",
              "7106         1.0       4  Normal Sale         No  ...        NoSeWa   \n",
              "7107         1.0       2      Partial        Yes  ...           ELO   \n",
              "7108         2.0       5      Partial        Yes  ...           ELO   \n",
              "\n",
              "         STREET MZZONE QS_ROOMS QS_BATHROOM  QS_BEDROOM  QS_OVERALL  REG_FEE  \\\n",
              "0         Paved      A      4.0         3.9         4.9       4.330   380000   \n",
              "1        Gravel     RH      4.9         4.2         2.5       3.765   760122   \n",
              "2        Gravel     RL      4.1         3.8         2.2       3.090   421094   \n",
              "3         Paved      I      4.7         3.9         3.6       4.010   356321   \n",
              "4        Gravel      C      3.0         2.5         4.1       3.290   237000   \n",
              "...         ...    ...      ...         ...         ...         ...      ...   \n",
              "7104  No Access     RM      3.0         2.2         2.4       2.520   208767   \n",
              "7105  No Access     RH      3.6         4.5         3.3       3.920   346191   \n",
              "7106     Gravel      I      4.3         4.2         2.9       3.840   317354   \n",
              "7107      Paved     RL      4.6         3.8         4.1       4.160   425350   \n",
              "7108      Paved      I      3.1         3.5         4.3       3.640   349177   \n",
              "\n",
              "      COMMIS  SALES_PRICE  \n",
              "0     144400      7600000  \n",
              "1     304049     21717770  \n",
              "2      92114     13159200  \n",
              "3      77042      9630290  \n",
              "4      74063      7406250  \n",
              "...      ...          ...  \n",
              "7104  107060      5353000  \n",
              "7105  205551     10818480  \n",
              "7106  167028      8351410  \n",
              "7107  119098      8507000  \n",
              "7108   79812      9976480  \n",
              "\n",
              "[7109 rows x 22 columns]"
            ],
            "text/html": [
              "\n",
              "  <div id=\"df-e0f86104-9853-407b-a9e5-86ca1944b9ce\">\n",
              "    <div class=\"colab-df-container\">\n",
              "      <div>\n",
              "<style scoped>\n",
              "    .dataframe tbody tr th:only-of-type {\n",
              "        vertical-align: middle;\n",
              "    }\n",
              "\n",
              "    .dataframe tbody tr th {\n",
              "        vertical-align: top;\n",
              "    }\n",
              "\n",
              "    .dataframe thead th {\n",
              "        text-align: right;\n",
              "    }\n",
              "</style>\n",
              "<table border=\"1\" class=\"dataframe\">\n",
              "  <thead>\n",
              "    <tr style=\"text-align: right;\">\n",
              "      <th></th>\n",
              "      <th>PRT_ID</th>\n",
              "      <th>AREA</th>\n",
              "      <th>INT_SQFT</th>\n",
              "      <th>DATE_SALE</th>\n",
              "      <th>DIST_MAINROAD</th>\n",
              "      <th>N_BEDROOM</th>\n",
              "      <th>N_BATHROOM</th>\n",
              "      <th>N_ROOM</th>\n",
              "      <th>SALE_COND</th>\n",
              "      <th>PARK_FACIL</th>\n",
              "      <th>...</th>\n",
              "      <th>UTILITY_AVAIL</th>\n",
              "      <th>STREET</th>\n",
              "      <th>MZZONE</th>\n",
              "      <th>QS_ROOMS</th>\n",
              "      <th>QS_BATHROOM</th>\n",
              "      <th>QS_BEDROOM</th>\n",
              "      <th>QS_OVERALL</th>\n",
              "      <th>REG_FEE</th>\n",
              "      <th>COMMIS</th>\n",
              "      <th>SALES_PRICE</th>\n",
              "    </tr>\n",
              "  </thead>\n",
              "  <tbody>\n",
              "    <tr>\n",
              "      <th>0</th>\n",
              "      <td>P03210</td>\n",
              "      <td>Karapakkam</td>\n",
              "      <td>1004</td>\n",
              "      <td>04-05-2011</td>\n",
              "      <td>131</td>\n",
              "      <td>1.0</td>\n",
              "      <td>1.0</td>\n",
              "      <td>3</td>\n",
              "      <td>AbNormal</td>\n",
              "      <td>Yes</td>\n",
              "      <td>...</td>\n",
              "      <td>AllPub</td>\n",
              "      <td>Paved</td>\n",
              "      <td>A</td>\n",
              "      <td>4.0</td>\n",
              "      <td>3.9</td>\n",
              "      <td>4.9</td>\n",
              "      <td>4.330</td>\n",
              "      <td>380000</td>\n",
              "      <td>144400</td>\n",
              "      <td>7600000</td>\n",
              "    </tr>\n",
              "    <tr>\n",
              "      <th>1</th>\n",
              "      <td>P09411</td>\n",
              "      <td>Anna Nagar</td>\n",
              "      <td>1986</td>\n",
              "      <td>19-12-2006</td>\n",
              "      <td>26</td>\n",
              "      <td>2.0</td>\n",
              "      <td>1.0</td>\n",
              "      <td>5</td>\n",
              "      <td>AbNormal</td>\n",
              "      <td>No</td>\n",
              "      <td>...</td>\n",
              "      <td>AllPub</td>\n",
              "      <td>Gravel</td>\n",
              "      <td>RH</td>\n",
              "      <td>4.9</td>\n",
              "      <td>4.2</td>\n",
              "      <td>2.5</td>\n",
              "      <td>3.765</td>\n",
              "      <td>760122</td>\n",
              "      <td>304049</td>\n",
              "      <td>21717770</td>\n",
              "    </tr>\n",
              "    <tr>\n",
              "      <th>2</th>\n",
              "      <td>P01812</td>\n",
              "      <td>Adyar</td>\n",
              "      <td>909</td>\n",
              "      <td>04-02-2012</td>\n",
              "      <td>70</td>\n",
              "      <td>1.0</td>\n",
              "      <td>1.0</td>\n",
              "      <td>3</td>\n",
              "      <td>AbNormal</td>\n",
              "      <td>Yes</td>\n",
              "      <td>...</td>\n",
              "      <td>ELO</td>\n",
              "      <td>Gravel</td>\n",
              "      <td>RL</td>\n",
              "      <td>4.1</td>\n",
              "      <td>3.8</td>\n",
              "      <td>2.2</td>\n",
              "      <td>3.090</td>\n",
              "      <td>421094</td>\n",
              "      <td>92114</td>\n",
              "      <td>13159200</td>\n",
              "    </tr>\n",
              "    <tr>\n",
              "      <th>3</th>\n",
              "      <td>P05346</td>\n",
              "      <td>Velachery</td>\n",
              "      <td>1855</td>\n",
              "      <td>13-03-2010</td>\n",
              "      <td>14</td>\n",
              "      <td>3.0</td>\n",
              "      <td>2.0</td>\n",
              "      <td>5</td>\n",
              "      <td>Family</td>\n",
              "      <td>No</td>\n",
              "      <td>...</td>\n",
              "      <td>NoSewr</td>\n",
              "      <td>Paved</td>\n",
              "      <td>I</td>\n",
              "      <td>4.7</td>\n",
              "      <td>3.9</td>\n",
              "      <td>3.6</td>\n",
              "      <td>4.010</td>\n",
              "      <td>356321</td>\n",
              "      <td>77042</td>\n",
              "      <td>9630290</td>\n",
              "    </tr>\n",
              "    <tr>\n",
              "      <th>4</th>\n",
              "      <td>P06210</td>\n",
              "      <td>Karapakkam</td>\n",
              "      <td>1226</td>\n",
              "      <td>05-10-2009</td>\n",
              "      <td>84</td>\n",
              "      <td>1.0</td>\n",
              "      <td>1.0</td>\n",
              "      <td>3</td>\n",
              "      <td>AbNormal</td>\n",
              "      <td>Yes</td>\n",
              "      <td>...</td>\n",
              "      <td>AllPub</td>\n",
              "      <td>Gravel</td>\n",
              "      <td>C</td>\n",
              "      <td>3.0</td>\n",
              "      <td>2.5</td>\n",
              "      <td>4.1</td>\n",
              "      <td>3.290</td>\n",
              "      <td>237000</td>\n",
              "      <td>74063</td>\n",
              "      <td>7406250</td>\n",
              "    </tr>\n",
              "    <tr>\n",
              "      <th>...</th>\n",
              "      <td>...</td>\n",
              "      <td>...</td>\n",
              "      <td>...</td>\n",
              "      <td>...</td>\n",
              "      <td>...</td>\n",
              "      <td>...</td>\n",
              "      <td>...</td>\n",
              "      <td>...</td>\n",
              "      <td>...</td>\n",
              "      <td>...</td>\n",
              "      <td>...</td>\n",
              "      <td>...</td>\n",
              "      <td>...</td>\n",
              "      <td>...</td>\n",
              "      <td>...</td>\n",
              "      <td>...</td>\n",
              "      <td>...</td>\n",
              "      <td>...</td>\n",
              "      <td>...</td>\n",
              "      <td>...</td>\n",
              "      <td>...</td>\n",
              "    </tr>\n",
              "    <tr>\n",
              "      <th>7104</th>\n",
              "      <td>P03834</td>\n",
              "      <td>Karapakkam</td>\n",
              "      <td>598</td>\n",
              "      <td>03-01-2011</td>\n",
              "      <td>51</td>\n",
              "      <td>1.0</td>\n",
              "      <td>1.0</td>\n",
              "      <td>2</td>\n",
              "      <td>AdjLand</td>\n",
              "      <td>No</td>\n",
              "      <td>...</td>\n",
              "      <td>ELO</td>\n",
              "      <td>No Access</td>\n",
              "      <td>RM</td>\n",
              "      <td>3.0</td>\n",
              "      <td>2.2</td>\n",
              "      <td>2.4</td>\n",
              "      <td>2.520</td>\n",
              "      <td>208767</td>\n",
              "      <td>107060</td>\n",
              "      <td>5353000</td>\n",
              "    </tr>\n",
              "    <tr>\n",
              "      <th>7105</th>\n",
              "      <td>P10000</td>\n",
              "      <td>Velachery</td>\n",
              "      <td>1897</td>\n",
              "      <td>08-04-2004</td>\n",
              "      <td>52</td>\n",
              "      <td>3.0</td>\n",
              "      <td>2.0</td>\n",
              "      <td>5</td>\n",
              "      <td>Family</td>\n",
              "      <td>Yes</td>\n",
              "      <td>...</td>\n",
              "      <td>NoSeWa</td>\n",
              "      <td>No Access</td>\n",
              "      <td>RH</td>\n",
              "      <td>3.6</td>\n",
              "      <td>4.5</td>\n",
              "      <td>3.3</td>\n",
              "      <td>3.920</td>\n",
              "      <td>346191</td>\n",
              "      <td>205551</td>\n",
              "      <td>10818480</td>\n",
              "    </tr>\n",
              "    <tr>\n",
              "      <th>7106</th>\n",
              "      <td>P09594</td>\n",
              "      <td>Velachery</td>\n",
              "      <td>1614</td>\n",
              "      <td>25-08-2006</td>\n",
              "      <td>152</td>\n",
              "      <td>2.0</td>\n",
              "      <td>1.0</td>\n",
              "      <td>4</td>\n",
              "      <td>Normal Sale</td>\n",
              "      <td>No</td>\n",
              "      <td>...</td>\n",
              "      <td>NoSeWa</td>\n",
              "      <td>Gravel</td>\n",
              "      <td>I</td>\n",
              "      <td>4.3</td>\n",
              "      <td>4.2</td>\n",
              "      <td>2.9</td>\n",
              "      <td>3.840</td>\n",
              "      <td>317354</td>\n",
              "      <td>167028</td>\n",
              "      <td>8351410</td>\n",
              "    </tr>\n",
              "    <tr>\n",
              "      <th>7107</th>\n",
              "      <td>P06508</td>\n",
              "      <td>Karapakkam</td>\n",
              "      <td>787</td>\n",
              "      <td>03-08-2009</td>\n",
              "      <td>40</td>\n",
              "      <td>1.0</td>\n",
              "      <td>1.0</td>\n",
              "      <td>2</td>\n",
              "      <td>Partial</td>\n",
              "      <td>Yes</td>\n",
              "      <td>...</td>\n",
              "      <td>ELO</td>\n",
              "      <td>Paved</td>\n",
              "      <td>RL</td>\n",
              "      <td>4.6</td>\n",
              "      <td>3.8</td>\n",
              "      <td>4.1</td>\n",
              "      <td>4.160</td>\n",
              "      <td>425350</td>\n",
              "      <td>119098</td>\n",
              "      <td>8507000</td>\n",
              "    </tr>\n",
              "    <tr>\n",
              "      <th>7108</th>\n",
              "      <td>P09794</td>\n",
              "      <td>Velachery</td>\n",
              "      <td>1896</td>\n",
              "      <td>13-07-2005</td>\n",
              "      <td>156</td>\n",
              "      <td>3.0</td>\n",
              "      <td>2.0</td>\n",
              "      <td>5</td>\n",
              "      <td>Partial</td>\n",
              "      <td>Yes</td>\n",
              "      <td>...</td>\n",
              "      <td>ELO</td>\n",
              "      <td>Paved</td>\n",
              "      <td>I</td>\n",
              "      <td>3.1</td>\n",
              "      <td>3.5</td>\n",
              "      <td>4.3</td>\n",
              "      <td>3.640</td>\n",
              "      <td>349177</td>\n",
              "      <td>79812</td>\n",
              "      <td>9976480</td>\n",
              "    </tr>\n",
              "  </tbody>\n",
              "</table>\n",
              "<p>7109 rows × 22 columns</p>\n",
              "</div>\n",
              "      <button class=\"colab-df-convert\" onclick=\"convertToInteractive('df-e0f86104-9853-407b-a9e5-86ca1944b9ce')\"\n",
              "              title=\"Convert this dataframe to an interactive table.\"\n",
              "              style=\"display:none;\">\n",
              "        \n",
              "  <svg xmlns=\"http://www.w3.org/2000/svg\" height=\"24px\"viewBox=\"0 0 24 24\"\n",
              "       width=\"24px\">\n",
              "    <path d=\"M0 0h24v24H0V0z\" fill=\"none\"/>\n",
              "    <path d=\"M18.56 5.44l.94 2.06.94-2.06 2.06-.94-2.06-.94-.94-2.06-.94 2.06-2.06.94zm-11 1L8.5 8.5l.94-2.06 2.06-.94-2.06-.94L8.5 2.5l-.94 2.06-2.06.94zm10 10l.94 2.06.94-2.06 2.06-.94-2.06-.94-.94-2.06-.94 2.06-2.06.94z\"/><path d=\"M17.41 7.96l-1.37-1.37c-.4-.4-.92-.59-1.43-.59-.52 0-1.04.2-1.43.59L10.3 9.45l-7.72 7.72c-.78.78-.78 2.05 0 2.83L4 21.41c.39.39.9.59 1.41.59.51 0 1.02-.2 1.41-.59l7.78-7.78 2.81-2.81c.8-.78.8-2.07 0-2.86zM5.41 20L4 18.59l7.72-7.72 1.47 1.35L5.41 20z\"/>\n",
              "  </svg>\n",
              "      </button>\n",
              "      \n",
              "  <style>\n",
              "    .colab-df-container {\n",
              "      display:flex;\n",
              "      flex-wrap:wrap;\n",
              "      gap: 12px;\n",
              "    }\n",
              "\n",
              "    .colab-df-convert {\n",
              "      background-color: #E8F0FE;\n",
              "      border: none;\n",
              "      border-radius: 50%;\n",
              "      cursor: pointer;\n",
              "      display: none;\n",
              "      fill: #1967D2;\n",
              "      height: 32px;\n",
              "      padding: 0 0 0 0;\n",
              "      width: 32px;\n",
              "    }\n",
              "\n",
              "    .colab-df-convert:hover {\n",
              "      background-color: #E2EBFA;\n",
              "      box-shadow: 0px 1px 2px rgba(60, 64, 67, 0.3), 0px 1px 3px 1px rgba(60, 64, 67, 0.15);\n",
              "      fill: #174EA6;\n",
              "    }\n",
              "\n",
              "    [theme=dark] .colab-df-convert {\n",
              "      background-color: #3B4455;\n",
              "      fill: #D2E3FC;\n",
              "    }\n",
              "\n",
              "    [theme=dark] .colab-df-convert:hover {\n",
              "      background-color: #434B5C;\n",
              "      box-shadow: 0px 1px 3px 1px rgba(0, 0, 0, 0.15);\n",
              "      filter: drop-shadow(0px 1px 2px rgba(0, 0, 0, 0.3));\n",
              "      fill: #FFFFFF;\n",
              "    }\n",
              "  </style>\n",
              "\n",
              "      <script>\n",
              "        const buttonEl =\n",
              "          document.querySelector('#df-e0f86104-9853-407b-a9e5-86ca1944b9ce button.colab-df-convert');\n",
              "        buttonEl.style.display =\n",
              "          google.colab.kernel.accessAllowed ? 'block' : 'none';\n",
              "\n",
              "        async function convertToInteractive(key) {\n",
              "          const element = document.querySelector('#df-e0f86104-9853-407b-a9e5-86ca1944b9ce');\n",
              "          const dataTable =\n",
              "            await google.colab.kernel.invokeFunction('convertToInteractive',\n",
              "                                                     [key], {});\n",
              "          if (!dataTable) return;\n",
              "\n",
              "          const docLinkHtml = 'Like what you see? Visit the ' +\n",
              "            '<a target=\"_blank\" href=https://colab.research.google.com/notebooks/data_table.ipynb>data table notebook</a>'\n",
              "            + ' to learn more about interactive tables.';\n",
              "          element.innerHTML = '';\n",
              "          dataTable['output_type'] = 'display_data';\n",
              "          await google.colab.output.renderOutput(dataTable, element);\n",
              "          const docLink = document.createElement('div');\n",
              "          docLink.innerHTML = docLinkHtml;\n",
              "          element.appendChild(docLink);\n",
              "        }\n",
              "      </script>\n",
              "    </div>\n",
              "  </div>\n",
              "  "
            ]
          },
          "metadata": {},
          "execution_count": 2
        }
      ]
    },
    {
      "cell_type": "code",
      "source": [
        "df.drop(['PRT_ID'],axis = 1,inplace = True)\n",
        "df.head()"
      ],
      "metadata": {
        "colab": {
          "base_uri": "https://localhost:8080/",
          "height": 386
        },
        "id": "mJpdl9jIRsb9",
        "outputId": "6e7cd517-066a-4d81-ab12-3ba04fcd62c6"
      },
      "execution_count": 3,
      "outputs": [
        {
          "output_type": "execute_result",
          "data": {
            "text/plain": [
              "         AREA  INT_SQFT   DATE_SALE  DIST_MAINROAD  N_BEDROOM  N_BATHROOM  \\\n",
              "0  Karapakkam      1004  04-05-2011            131        1.0         1.0   \n",
              "1  Anna Nagar      1986  19-12-2006             26        2.0         1.0   \n",
              "2       Adyar       909  04-02-2012             70        1.0         1.0   \n",
              "3   Velachery      1855  13-03-2010             14        3.0         2.0   \n",
              "4  Karapakkam      1226  05-10-2009             84        1.0         1.0   \n",
              "\n",
              "   N_ROOM SALE_COND PARK_FACIL  DATE_BUILD  ... UTILITY_AVAIL  STREET MZZONE  \\\n",
              "0       3  AbNormal        Yes  15-05-1967  ...        AllPub   Paved      A   \n",
              "1       5  AbNormal         No  22-12-1995  ...        AllPub  Gravel     RH   \n",
              "2       3  AbNormal        Yes  09-02-1992  ...           ELO  Gravel     RL   \n",
              "3       5    Family         No  18-03-1988  ...       NoSewr    Paved      I   \n",
              "4       3  AbNormal        Yes  13-10-1979  ...        AllPub  Gravel      C   \n",
              "\n",
              "  QS_ROOMS  QS_BATHROOM  QS_BEDROOM  QS_OVERALL  REG_FEE  COMMIS  SALES_PRICE  \n",
              "0      4.0          3.9         4.9       4.330   380000  144400      7600000  \n",
              "1      4.9          4.2         2.5       3.765   760122  304049     21717770  \n",
              "2      4.1          3.8         2.2       3.090   421094   92114     13159200  \n",
              "3      4.7          3.9         3.6       4.010   356321   77042      9630290  \n",
              "4      3.0          2.5         4.1       3.290   237000   74063      7406250  \n",
              "\n",
              "[5 rows x 21 columns]"
            ],
            "text/html": [
              "\n",
              "  <div id=\"df-193686e6-5b8e-45d0-8355-2eed6c93c8fb\">\n",
              "    <div class=\"colab-df-container\">\n",
              "      <div>\n",
              "<style scoped>\n",
              "    .dataframe tbody tr th:only-of-type {\n",
              "        vertical-align: middle;\n",
              "    }\n",
              "\n",
              "    .dataframe tbody tr th {\n",
              "        vertical-align: top;\n",
              "    }\n",
              "\n",
              "    .dataframe thead th {\n",
              "        text-align: right;\n",
              "    }\n",
              "</style>\n",
              "<table border=\"1\" class=\"dataframe\">\n",
              "  <thead>\n",
              "    <tr style=\"text-align: right;\">\n",
              "      <th></th>\n",
              "      <th>AREA</th>\n",
              "      <th>INT_SQFT</th>\n",
              "      <th>DATE_SALE</th>\n",
              "      <th>DIST_MAINROAD</th>\n",
              "      <th>N_BEDROOM</th>\n",
              "      <th>N_BATHROOM</th>\n",
              "      <th>N_ROOM</th>\n",
              "      <th>SALE_COND</th>\n",
              "      <th>PARK_FACIL</th>\n",
              "      <th>DATE_BUILD</th>\n",
              "      <th>...</th>\n",
              "      <th>UTILITY_AVAIL</th>\n",
              "      <th>STREET</th>\n",
              "      <th>MZZONE</th>\n",
              "      <th>QS_ROOMS</th>\n",
              "      <th>QS_BATHROOM</th>\n",
              "      <th>QS_BEDROOM</th>\n",
              "      <th>QS_OVERALL</th>\n",
              "      <th>REG_FEE</th>\n",
              "      <th>COMMIS</th>\n",
              "      <th>SALES_PRICE</th>\n",
              "    </tr>\n",
              "  </thead>\n",
              "  <tbody>\n",
              "    <tr>\n",
              "      <th>0</th>\n",
              "      <td>Karapakkam</td>\n",
              "      <td>1004</td>\n",
              "      <td>04-05-2011</td>\n",
              "      <td>131</td>\n",
              "      <td>1.0</td>\n",
              "      <td>1.0</td>\n",
              "      <td>3</td>\n",
              "      <td>AbNormal</td>\n",
              "      <td>Yes</td>\n",
              "      <td>15-05-1967</td>\n",
              "      <td>...</td>\n",
              "      <td>AllPub</td>\n",
              "      <td>Paved</td>\n",
              "      <td>A</td>\n",
              "      <td>4.0</td>\n",
              "      <td>3.9</td>\n",
              "      <td>4.9</td>\n",
              "      <td>4.330</td>\n",
              "      <td>380000</td>\n",
              "      <td>144400</td>\n",
              "      <td>7600000</td>\n",
              "    </tr>\n",
              "    <tr>\n",
              "      <th>1</th>\n",
              "      <td>Anna Nagar</td>\n",
              "      <td>1986</td>\n",
              "      <td>19-12-2006</td>\n",
              "      <td>26</td>\n",
              "      <td>2.0</td>\n",
              "      <td>1.0</td>\n",
              "      <td>5</td>\n",
              "      <td>AbNormal</td>\n",
              "      <td>No</td>\n",
              "      <td>22-12-1995</td>\n",
              "      <td>...</td>\n",
              "      <td>AllPub</td>\n",
              "      <td>Gravel</td>\n",
              "      <td>RH</td>\n",
              "      <td>4.9</td>\n",
              "      <td>4.2</td>\n",
              "      <td>2.5</td>\n",
              "      <td>3.765</td>\n",
              "      <td>760122</td>\n",
              "      <td>304049</td>\n",
              "      <td>21717770</td>\n",
              "    </tr>\n",
              "    <tr>\n",
              "      <th>2</th>\n",
              "      <td>Adyar</td>\n",
              "      <td>909</td>\n",
              "      <td>04-02-2012</td>\n",
              "      <td>70</td>\n",
              "      <td>1.0</td>\n",
              "      <td>1.0</td>\n",
              "      <td>3</td>\n",
              "      <td>AbNormal</td>\n",
              "      <td>Yes</td>\n",
              "      <td>09-02-1992</td>\n",
              "      <td>...</td>\n",
              "      <td>ELO</td>\n",
              "      <td>Gravel</td>\n",
              "      <td>RL</td>\n",
              "      <td>4.1</td>\n",
              "      <td>3.8</td>\n",
              "      <td>2.2</td>\n",
              "      <td>3.090</td>\n",
              "      <td>421094</td>\n",
              "      <td>92114</td>\n",
              "      <td>13159200</td>\n",
              "    </tr>\n",
              "    <tr>\n",
              "      <th>3</th>\n",
              "      <td>Velachery</td>\n",
              "      <td>1855</td>\n",
              "      <td>13-03-2010</td>\n",
              "      <td>14</td>\n",
              "      <td>3.0</td>\n",
              "      <td>2.0</td>\n",
              "      <td>5</td>\n",
              "      <td>Family</td>\n",
              "      <td>No</td>\n",
              "      <td>18-03-1988</td>\n",
              "      <td>...</td>\n",
              "      <td>NoSewr</td>\n",
              "      <td>Paved</td>\n",
              "      <td>I</td>\n",
              "      <td>4.7</td>\n",
              "      <td>3.9</td>\n",
              "      <td>3.6</td>\n",
              "      <td>4.010</td>\n",
              "      <td>356321</td>\n",
              "      <td>77042</td>\n",
              "      <td>9630290</td>\n",
              "    </tr>\n",
              "    <tr>\n",
              "      <th>4</th>\n",
              "      <td>Karapakkam</td>\n",
              "      <td>1226</td>\n",
              "      <td>05-10-2009</td>\n",
              "      <td>84</td>\n",
              "      <td>1.0</td>\n",
              "      <td>1.0</td>\n",
              "      <td>3</td>\n",
              "      <td>AbNormal</td>\n",
              "      <td>Yes</td>\n",
              "      <td>13-10-1979</td>\n",
              "      <td>...</td>\n",
              "      <td>AllPub</td>\n",
              "      <td>Gravel</td>\n",
              "      <td>C</td>\n",
              "      <td>3.0</td>\n",
              "      <td>2.5</td>\n",
              "      <td>4.1</td>\n",
              "      <td>3.290</td>\n",
              "      <td>237000</td>\n",
              "      <td>74063</td>\n",
              "      <td>7406250</td>\n",
              "    </tr>\n",
              "  </tbody>\n",
              "</table>\n",
              "<p>5 rows × 21 columns</p>\n",
              "</div>\n",
              "      <button class=\"colab-df-convert\" onclick=\"convertToInteractive('df-193686e6-5b8e-45d0-8355-2eed6c93c8fb')\"\n",
              "              title=\"Convert this dataframe to an interactive table.\"\n",
              "              style=\"display:none;\">\n",
              "        \n",
              "  <svg xmlns=\"http://www.w3.org/2000/svg\" height=\"24px\"viewBox=\"0 0 24 24\"\n",
              "       width=\"24px\">\n",
              "    <path d=\"M0 0h24v24H0V0z\" fill=\"none\"/>\n",
              "    <path d=\"M18.56 5.44l.94 2.06.94-2.06 2.06-.94-2.06-.94-.94-2.06-.94 2.06-2.06.94zm-11 1L8.5 8.5l.94-2.06 2.06-.94-2.06-.94L8.5 2.5l-.94 2.06-2.06.94zm10 10l.94 2.06.94-2.06 2.06-.94-2.06-.94-.94-2.06-.94 2.06-2.06.94z\"/><path d=\"M17.41 7.96l-1.37-1.37c-.4-.4-.92-.59-1.43-.59-.52 0-1.04.2-1.43.59L10.3 9.45l-7.72 7.72c-.78.78-.78 2.05 0 2.83L4 21.41c.39.39.9.59 1.41.59.51 0 1.02-.2 1.41-.59l7.78-7.78 2.81-2.81c.8-.78.8-2.07 0-2.86zM5.41 20L4 18.59l7.72-7.72 1.47 1.35L5.41 20z\"/>\n",
              "  </svg>\n",
              "      </button>\n",
              "      \n",
              "  <style>\n",
              "    .colab-df-container {\n",
              "      display:flex;\n",
              "      flex-wrap:wrap;\n",
              "      gap: 12px;\n",
              "    }\n",
              "\n",
              "    .colab-df-convert {\n",
              "      background-color: #E8F0FE;\n",
              "      border: none;\n",
              "      border-radius: 50%;\n",
              "      cursor: pointer;\n",
              "      display: none;\n",
              "      fill: #1967D2;\n",
              "      height: 32px;\n",
              "      padding: 0 0 0 0;\n",
              "      width: 32px;\n",
              "    }\n",
              "\n",
              "    .colab-df-convert:hover {\n",
              "      background-color: #E2EBFA;\n",
              "      box-shadow: 0px 1px 2px rgba(60, 64, 67, 0.3), 0px 1px 3px 1px rgba(60, 64, 67, 0.15);\n",
              "      fill: #174EA6;\n",
              "    }\n",
              "\n",
              "    [theme=dark] .colab-df-convert {\n",
              "      background-color: #3B4455;\n",
              "      fill: #D2E3FC;\n",
              "    }\n",
              "\n",
              "    [theme=dark] .colab-df-convert:hover {\n",
              "      background-color: #434B5C;\n",
              "      box-shadow: 0px 1px 3px 1px rgba(0, 0, 0, 0.15);\n",
              "      filter: drop-shadow(0px 1px 2px rgba(0, 0, 0, 0.3));\n",
              "      fill: #FFFFFF;\n",
              "    }\n",
              "  </style>\n",
              "\n",
              "      <script>\n",
              "        const buttonEl =\n",
              "          document.querySelector('#df-193686e6-5b8e-45d0-8355-2eed6c93c8fb button.colab-df-convert');\n",
              "        buttonEl.style.display =\n",
              "          google.colab.kernel.accessAllowed ? 'block' : 'none';\n",
              "\n",
              "        async function convertToInteractive(key) {\n",
              "          const element = document.querySelector('#df-193686e6-5b8e-45d0-8355-2eed6c93c8fb');\n",
              "          const dataTable =\n",
              "            await google.colab.kernel.invokeFunction('convertToInteractive',\n",
              "                                                     [key], {});\n",
              "          if (!dataTable) return;\n",
              "\n",
              "          const docLinkHtml = 'Like what you see? Visit the ' +\n",
              "            '<a target=\"_blank\" href=https://colab.research.google.com/notebooks/data_table.ipynb>data table notebook</a>'\n",
              "            + ' to learn more about interactive tables.';\n",
              "          element.innerHTML = '';\n",
              "          dataTable['output_type'] = 'display_data';\n",
              "          await google.colab.output.renderOutput(dataTable, element);\n",
              "          const docLink = document.createElement('div');\n",
              "          docLink.innerHTML = docLinkHtml;\n",
              "          element.appendChild(docLink);\n",
              "        }\n",
              "      </script>\n",
              "    </div>\n",
              "  </div>\n",
              "  "
            ]
          },
          "metadata": {},
          "execution_count": 3
        }
      ]
    },
    {
      "cell_type": "code",
      "source": [
        "df.columns"
      ],
      "metadata": {
        "colab": {
          "base_uri": "https://localhost:8080/"
        },
        "id": "QC-8yJq81xgw",
        "outputId": "d12c96d3-a867-433c-b1af-313cf9cf23a2"
      },
      "execution_count": 4,
      "outputs": [
        {
          "output_type": "execute_result",
          "data": {
            "text/plain": [
              "Index(['AREA', 'INT_SQFT', 'DATE_SALE', 'DIST_MAINROAD', 'N_BEDROOM',\n",
              "       'N_BATHROOM', 'N_ROOM', 'SALE_COND', 'PARK_FACIL', 'DATE_BUILD',\n",
              "       'BUILDTYPE', 'UTILITY_AVAIL', 'STREET', 'MZZONE', 'QS_ROOMS',\n",
              "       'QS_BATHROOM', 'QS_BEDROOM', 'QS_OVERALL', 'REG_FEE', 'COMMIS',\n",
              "       'SALES_PRICE'],\n",
              "      dtype='object')"
            ]
          },
          "metadata": {},
          "execution_count": 4
        }
      ]
    },
    {
      "cell_type": "markdown",
      "source": [
        "#@ Working AREA column"
      ],
      "metadata": {
        "id": "ABEx6PiCwk0H"
      }
    },
    {
      "cell_type": "code",
      "source": [
        "df['AREA'].isna().sum()  #There are no null values in 'AREA' column."
      ],
      "metadata": {
        "colab": {
          "base_uri": "https://localhost:8080/"
        },
        "id": "Q7FKTRqdw_El",
        "outputId": "3c93ca03-9239-42ad-daea-6b0264fad277"
      },
      "execution_count": 5,
      "outputs": [
        {
          "output_type": "execute_result",
          "data": {
            "text/plain": [
              "0"
            ]
          },
          "metadata": {},
          "execution_count": 5
        }
      ]
    },
    {
      "cell_type": "code",
      "source": [
        "df['AREA'].value_counts()"
      ],
      "metadata": {
        "colab": {
          "base_uri": "https://localhost:8080/"
        },
        "id": "8QkKCTwJSiMA",
        "outputId": "9367118c-de46-4797-c2be-97512d7f62e3"
      },
      "execution_count": 6,
      "outputs": [
        {
          "output_type": "execute_result",
          "data": {
            "text/plain": [
              "Chrompet      1681\n",
              "Karapakkam    1363\n",
              "KK Nagar       996\n",
              "Velachery      979\n",
              "Anna Nagar     783\n",
              "Adyar          773\n",
              "T Nagar        496\n",
              "Chrompt          9\n",
              "Chrmpet          6\n",
              "Chormpet         6\n",
              "TNagar           5\n",
              "Karapakam        3\n",
              "Ana Nagar        3\n",
              "Velchery         2\n",
              "Ann Nagar        2\n",
              "Adyr             1\n",
              "KKNagar          1\n",
              "Name: AREA, dtype: int64"
            ]
          },
          "metadata": {},
          "execution_count": 6
        }
      ]
    },
    {
      "cell_type": "code",
      "source": [
        "df['AREA'].values "
      ],
      "metadata": {
        "colab": {
          "base_uri": "https://localhost:8080/"
        },
        "id": "3Z42klN6rbaK",
        "outputId": "867082a6-874d-4fc5-8743-ec4b19ed0507"
      },
      "execution_count": 7,
      "outputs": [
        {
          "output_type": "execute_result",
          "data": {
            "text/plain": [
              "array(['Karapakkam', 'Anna Nagar', 'Adyar', ..., 'Velachery',\n",
              "       'Karapakkam', 'Velachery'], dtype=object)"
            ]
          },
          "metadata": {},
          "execution_count": 7
        }
      ]
    },
    {
      "cell_type": "code",
      "source": [
        "df['AREA'].unique()\n",
        "#Here we can see that same area name is repeated with spelling mistakes."
      ],
      "metadata": {
        "colab": {
          "base_uri": "https://localhost:8080/"
        },
        "id": "D-YL_M9XxTJt",
        "outputId": "c3a51469-92dc-42a9-bb24-f2673b00a08b"
      },
      "execution_count": 8,
      "outputs": [
        {
          "output_type": "execute_result",
          "data": {
            "text/plain": [
              "array(['Karapakkam', 'Anna Nagar', 'Adyar', 'Velachery', 'Chrompet',\n",
              "       'KK Nagar', 'TNagar', 'T Nagar', 'Chrompt', 'Chrmpet', 'Karapakam',\n",
              "       'Ana Nagar', 'Chormpet', 'Adyr', 'Velchery', 'Ann Nagar',\n",
              "       'KKNagar'], dtype=object)"
            ]
          },
          "metadata": {},
          "execution_count": 8
        }
      ]
    },
    {
      "cell_type": "code",
      "source": [
        "df['AREA'] = df['AREA'].replace({'TNagar':'T Nagar','Chrompt':'Chrompet','Chrmpet':'Chrompet','Karapakam':'Karapakkam','Ana Nagar':'Anna Nagar','Chormpet':'Chrompet','Adyr':'Adyar','Velchery':'Velachery','Ann Nagar':'Anna Nagar','KKNagar':'KK Nagar'})"
      ],
      "metadata": {
        "id": "3E-soSkjxZ7L"
      },
      "execution_count": 9,
      "outputs": []
    },
    {
      "cell_type": "code",
      "source": [
        "# WE have replaced the duplicate area names to original area names, lets see what are the unique areas we have.\n",
        "df['AREA'].unique()"
      ],
      "metadata": {
        "colab": {
          "base_uri": "https://localhost:8080/"
        },
        "id": "cBd41kE7zYPM",
        "outputId": "7aaa9f60-d892-4b60-e138-4e6aced3ab2b"
      },
      "execution_count": 10,
      "outputs": [
        {
          "output_type": "execute_result",
          "data": {
            "text/plain": [
              "array(['Karapakkam', 'Anna Nagar', 'Adyar', 'Velachery', 'Chrompet',\n",
              "       'KK Nagar', 'T Nagar'], dtype=object)"
            ]
          },
          "metadata": {},
          "execution_count": 10
        }
      ]
    },
    {
      "cell_type": "code",
      "source": [
        "#Ploting distribution of feature=\"AREA\" plot\n",
        "sns.displot(df['AREA'])\n",
        "plt.show"
      ],
      "metadata": {
        "colab": {
          "base_uri": "https://localhost:8080/",
          "height": 386
        },
        "id": "t63E7R73zuuY",
        "outputId": "154a82cd-bdb0-4e55-e7c3-9a73c03c05eb"
      },
      "execution_count": 11,
      "outputs": [
        {
          "output_type": "execute_result",
          "data": {
            "text/plain": [
              "<function matplotlib.pyplot.show>"
            ]
          },
          "metadata": {},
          "execution_count": 11
        },
        {
          "output_type": "display_data",
          "data": {
            "text/plain": [
              "<Figure size 360x360 with 1 Axes>"
            ],
            "image/png": "[encoded data removed]"
          },
          "metadata": {
            "needs_background": "light"
          }
        }
      ]
    },
    {
      "cell_type": "code",
      "source": [
        "df['AREA'].value_counts().plot.bar()   \n",
        "\"\"\"\n",
        "THESE IS THE PLOT WHICH SHOW US, IN WHICH AREA MORE NUMBER OF SALES HAVE DONE.\n",
        "\"\"\""
      ],
      "metadata": {
        "colab": {
          "base_uri": "https://localhost:8080/",
          "height": 337
        },
        "id": "Qg9PxcQa2UCd",
        "outputId": "bb61a66a-ddca-46a8-a0b6-fdfb4186b8ee"
      },
      "execution_count": 12,
      "outputs": [
        {
          "output_type": "execute_result",
          "data": {
            "text/plain": [
              "'\\nTHESE IS THE PLOT WHICH SHOW US, IN WHICH AREA MORE NUMBER OF SALES HAVE DONE.\\n'"
            ],
            "application/vnd.google.colaboratory.intrinsic+json": {
              "type": "string"
            }
          },
          "metadata": {},
          "execution_count": 12
        },
        {
          "output_type": "display_data",
          "data": {
            "text/plain": [
              "<Figure size 432x288 with 1 Axes>"
            ],
            "image/png": "[encoded data removed]"
          },
          "metadata": {
            "needs_background": "light"
          }
        }
      ]
    },
    {
      "cell_type": "code",
      "source": [
        "#let's if there is a relationship btw 'AREA' and price of the house.\n",
        "df.groupby('AREA')['SALES_PRICE'].mean().sort_values(ascending=True).plot.bar()\n",
        "\n",
        "\n",
        "#we can see a linear relationship btw \"AREA\" and \"SALES_PRICE\".\n",
        "\"\"\"\n",
        "There is a linear relationship btw \"AREA\" and \"SALES_PRICE\".\n",
        "we can label encode the \"AREA\" feature.\n",
        "\"\"\""
      ],
      "metadata": {
        "colab": {
          "base_uri": "https://localhost:8080/",
          "height": 362
        },
        "id": "8cqzOZ5q1dtu",
        "outputId": "6cd704cb-5b00-4082-911f-9c737187c717"
      },
      "execution_count": 13,
      "outputs": [
        {
          "output_type": "execute_result",
          "data": {
            "text/plain": [
              "'\\nThere is a linear relationship btw \"AREA\" and \"SALES_PRICE\".\\nwe can label encode the \"AREA\" feature.\\n'"
            ],
            "application/vnd.google.colaboratory.intrinsic+json": {
              "type": "string"
            }
          },
          "metadata": {},
          "execution_count": 13
        },
        {
          "output_type": "display_data",
          "data": {
            "text/plain": [
              "<Figure size 432x288 with 1 Axes>"
            ],
            "image/png": "[encoded data removed]"
          },
          "metadata": {
            "needs_background": "light"
          }
        }
      ]
    },
    {
      "cell_type": "code",
      "source": [
        "#lets give values to areas orderly according to avg sales price to that area\n",
        "area = {'Karapakkam':0,'Adyar':1,'Chrompet':2,'Velachery':3,'KK Nagar':4,'Anna Nagar':5,'T Nagar':6}"
      ],
      "metadata": {
        "id": "D2Gf-ESo3qrn"
      },
      "execution_count": 14,
      "outputs": []
    },
    {
      "cell_type": "code",
      "source": [
        "df['AREA'] = df['AREA'].replace(area)"
      ],
      "metadata": {
        "id": "3prp4Miw9enO"
      },
      "execution_count": 15,
      "outputs": []
    },
    {
      "cell_type": "code",
      "source": [
        "df.columns"
      ],
      "metadata": {
        "id": "D_wRRhmhTMEG",
        "outputId": "52c8c51c-15f2-47b1-ed1f-963c6c0d8e22",
        "colab": {
          "base_uri": "https://localhost:8080/"
        }
      },
      "execution_count": 16,
      "outputs": [
        {
          "output_type": "execute_result",
          "data": {
            "text/plain": [
              "Index(['AREA', 'INT_SQFT', 'DATE_SALE', 'DIST_MAINROAD', 'N_BEDROOM',\n",
              "       'N_BATHROOM', 'N_ROOM', 'SALE_COND', 'PARK_FACIL', 'DATE_BUILD',\n",
              "       'BUILDTYPE', 'UTILITY_AVAIL', 'STREET', 'MZZONE', 'QS_ROOMS',\n",
              "       'QS_BATHROOM', 'QS_BEDROOM', 'QS_OVERALL', 'REG_FEE', 'COMMIS',\n",
              "       'SALES_PRICE'],\n",
              "      dtype='object')"
            ]
          },
          "metadata": {},
          "execution_count": 16
        }
      ]
    },
    {
      "cell_type": "markdown",
      "source": [
        "#@ working on \"INT_SQFT\" column"
      ],
      "metadata": {
        "id": "5u2y_bm69nTU"
      }
    },
    {
      "cell_type": "code",
      "source": [
        "df['INT_SQFT'].values"
      ],
      "metadata": {
        "colab": {
          "base_uri": "https://localhost:8080/"
        },
        "id": "g1EYME779uzv",
        "outputId": "6937ac20-54ea-4f97-ddb2-bf7510a29dcd"
      },
      "execution_count": 17,
      "outputs": [
        {
          "output_type": "execute_result",
          "data": {
            "text/plain": [
              "array([1004, 1986,  909, ..., 1614,  787, 1896])"
            ]
          },
          "metadata": {},
          "execution_count": 17
        }
      ]
    },
    {
      "cell_type": "code",
      "source": [
        "df['INT_SQFT'].isna().sum()  \n",
        "#There are no null values in 'INT_SQFT' column"
      ],
      "metadata": {
        "colab": {
          "base_uri": "https://localhost:8080/"
        },
        "id": "e4q67-Dl9zuQ",
        "outputId": "62c4d254-009e-44bd-d68d-492c96a59f87"
      },
      "execution_count": 18,
      "outputs": [
        {
          "output_type": "execute_result",
          "data": {
            "text/plain": [
              "0"
            ]
          },
          "metadata": {},
          "execution_count": 18
        }
      ]
    },
    {
      "cell_type": "code",
      "source": [
        "#let's check for outliers in this column\n",
        "df['INT_SQFT'].describe()"
      ],
      "metadata": {
        "colab": {
          "base_uri": "https://localhost:8080/"
        },
        "id": "wMMm65hL-A-N",
        "outputId": "dd094516-a6ec-4e73-a850-c67747706750"
      },
      "execution_count": 19,
      "outputs": [
        {
          "output_type": "execute_result",
          "data": {
            "text/plain": [
              "count    7109.000000\n",
              "mean     1382.073006\n",
              "std       457.410902\n",
              "min       500.000000\n",
              "25%       993.000000\n",
              "50%      1373.000000\n",
              "75%      1744.000000\n",
              "max      2500.000000\n",
              "Name: INT_SQFT, dtype: float64"
            ]
          },
          "metadata": {},
          "execution_count": 19
        }
      ]
    },
    {
      "cell_type": "code",
      "source": [
        "q3 = df['INT_SQFT'].quantile(0.75)\n",
        "q1 = df['INT_SQFT'].quantile(0.25)\n",
        "iqr = q3 - q1\n",
        "iqr"
      ],
      "metadata": {
        "colab": {
          "base_uri": "https://localhost:8080/"
        },
        "id": "f2kAnvYQ-N2a",
        "outputId": "9aea1123-1ebb-4adb-d624-6711b3a18a25"
      },
      "execution_count": 20,
      "outputs": [
        {
          "output_type": "execute_result",
          "data": {
            "text/plain": [
              "751.0"
            ]
          },
          "metadata": {},
          "execution_count": 20
        }
      ]
    },
    {
      "cell_type": "code",
      "source": [
        "q3 + 1.5*iqr\n",
        "# There is no value greater than '2870.5' in column"
      ],
      "metadata": {
        "colab": {
          "base_uri": "https://localhost:8080/"
        },
        "id": "_ZOvN0-p-cBc",
        "outputId": "b0afdd43-e191-4c83-8ce4-58a85e982fd5"
      },
      "execution_count": 21,
      "outputs": [
        {
          "output_type": "execute_result",
          "data": {
            "text/plain": [
              "2870.5"
            ]
          },
          "metadata": {},
          "execution_count": 21
        }
      ]
    },
    {
      "cell_type": "code",
      "source": [
        "q1 - 1.5*iqr\n",
        "# There is no such value which is greater than '-133.5' in this column"
      ],
      "metadata": {
        "colab": {
          "base_uri": "https://localhost:8080/"
        },
        "id": "MONy-bsm-sZb",
        "outputId": "b6b74c46-ede5-427f-bb36-bd1c6993e83d"
      },
      "execution_count": 22,
      "outputs": [
        {
          "output_type": "execute_result",
          "data": {
            "text/plain": [
              "-133.5"
            ]
          },
          "metadata": {},
          "execution_count": 22
        }
      ]
    },
    {
      "cell_type": "code",
      "source": [
        "#checking with box plot\n",
        "plt.boxplot(df['INT_SQFT'])\n",
        "plt.show()"
      ],
      "metadata": {
        "colab": {
          "base_uri": "https://localhost:8080/",
          "height": 265
        },
        "id": "vxI4nlsC_P2t",
        "outputId": "0d2bcbcc-9bbc-412f-ef4d-7e7e69c09b32"
      },
      "execution_count": 23,
      "outputs": [
        {
          "output_type": "display_data",
          "data": {
            "text/plain": [
              "<Figure size 432x288 with 1 Axes>"
            ],
            "image/png": "[encoded data removed]"
          },
          "metadata": {
            "needs_background": "light"
          }
        }
      ]
    },
    {
      "cell_type": "code",
      "source": [
        "\"\"\"\n",
        "THERE ARE NO OUTLIERS IN COLUMN 'INT_SQFT'\n",
        "\"\"\""
      ],
      "metadata": {
        "colab": {
          "base_uri": "https://localhost:8080/",
          "height": 36
        },
        "id": "4cy12B5--3Ip",
        "outputId": "5a2df9fb-bc08-4e8c-cb23-b1552ceaad5a"
      },
      "execution_count": 24,
      "outputs": [
        {
          "output_type": "execute_result",
          "data": {
            "text/plain": [
              "\"\\nTHERE ARE NO OUTLIERS IN COLUMN 'INT_SQFT'\\n\""
            ],
            "application/vnd.google.colaboratory.intrinsic+json": {
              "type": "string"
            }
          },
          "metadata": {},
          "execution_count": 24
        }
      ]
    },
    {
      "cell_type": "code",
      "source": [
        "#Ploting distribution of feature=\"INT_SQFT\" plot\n",
        "sns.displot(df['INT_SQFT'])\n",
        "plt.show"
      ],
      "metadata": {
        "colab": {
          "base_uri": "https://localhost:8080/",
          "height": 386
        },
        "id": "2rPvBFzh_AUN",
        "outputId": "fbfc1c80-a6b2-4a33-89f2-f0e9e0c143d4"
      },
      "execution_count": 25,
      "outputs": [
        {
          "output_type": "execute_result",
          "data": {
            "text/plain": [
              "<function matplotlib.pyplot.show>"
            ]
          },
          "metadata": {},
          "execution_count": 25
        },
        {
          "output_type": "display_data",
          "data": {
            "text/plain": [
              "<Figure size 360x360 with 1 Axes>"
            ],
            "image/png": "[encoded data removed]"
          },
          "metadata": {
            "needs_background": "light"
          }
        }
      ]
    },
    {
      "cell_type": "code",
      "source": [
        "df['INT_SQFT'].value_counts().plot.bar()   \n"
      ],
      "metadata": {
        "colab": {
          "base_uri": "https://localhost:8080/",
          "height": 298
        },
        "id": "4prT8XhgAAUE",
        "outputId": "76f790a9-39fc-43db-bdae-e8329a70c7c0"
      },
      "execution_count": 26,
      "outputs": [
        {
          "output_type": "execute_result",
          "data": {
            "text/plain": [
              "<matplotlib.axes._subplots.AxesSubplot at 0x7fe8c92c7c90>"
            ]
          },
          "metadata": {},
          "execution_count": 26
        },
        {
          "output_type": "display_data",
          "data": {
            "text/plain": [
              "<Figure size 432x288 with 1 Axes>"
            ],
            "image/png": "[encoded data removed]"
          },
          "metadata": {
            "needs_background": "light"
          }
        }
      ]
    },
    {
      "cell_type": "code",
      "source": [
        "sns.scatterplot(x = 'INT_SQFT',\n",
        "                y = 'SALES_PRICE',\n",
        "                data = df[['INT_SQFT','SALES_PRICE']])\n",
        "\n",
        "\"\"\"\n",
        "There may not be clear linear relationship btw 'INT_SQFT' and 'SALES_PRICE' ,but we can say that there is a positive correaltion btw these two columns\n",
        "\"\"\""
      ],
      "metadata": {
        "colab": {
          "base_uri": "https://localhost:8080/",
          "height": 310
        },
        "id": "fqbk3aeKAq_p",
        "outputId": "c72cb58c-a068-4d39-9bd7-3146b1f0e38e"
      },
      "execution_count": 27,
      "outputs": [
        {
          "output_type": "execute_result",
          "data": {
            "text/plain": [
              "\"\\nThere may not be clear linear relationship btw 'INT_SQFT' and 'SALES_PRICE' ,but we can say that there is a positive correaltion btw these two columns\\n\""
            ],
            "application/vnd.google.colaboratory.intrinsic+json": {
              "type": "string"
            }
          },
          "metadata": {},
          "execution_count": 27
        },
        {
          "output_type": "display_data",
          "data": {
            "text/plain": [
              "<Figure size 432x288 with 1 Axes>"
            ],
            "image/png": "[encoded data removed]"
          },
          "metadata": {
            "needs_background": "light"
          }
        }
      ]
    },
    {
      "cell_type": "code",
      "source": [
        "df[['INT_SQFT','SALES_PRICE']].corr()\n",
        "\n",
        "#Here we can see that there is a significant correlation btw 'INT_SQFT' and 'SALES_PRICE'."
      ],
      "metadata": {
        "colab": {
          "base_uri": "https://localhost:8080/",
          "height": 112
        },
        "id": "PdosaHRpBiQZ",
        "outputId": "00eaf6df-d914-4018-89cd-a5c71264c9b0"
      },
      "execution_count": 28,
      "outputs": [
        {
          "output_type": "execute_result",
          "data": {
            "text/plain": [
              "             INT_SQFT  SALES_PRICE\n",
              "INT_SQFT     1.000000     0.612125\n",
              "SALES_PRICE  0.612125     1.000000"
            ],
            "text/html": [
              "\n",
              "  <div id=\"df-39158128-9f83-4c82-80fd-c2d78092f6bb\">\n",
              "    <div class=\"colab-df-container\">\n",
              "      <div>\n",
              "<style scoped>\n",
              "    .dataframe tbody tr th:only-of-type {\n",
              "        vertical-align: middle;\n",
              "    }\n",
              "\n",
              "    .dataframe tbody tr th {\n",
              "        vertical-align: top;\n",
              "    }\n",
              "\n",
              "    .dataframe thead th {\n",
              "        text-align: right;\n",
              "    }\n",
              "</style>\n",
              "<table border=\"1\" class=\"dataframe\">\n",
              "  <thead>\n",
              "    <tr style=\"text-align: right;\">\n",
              "      <th></th>\n",
              "      <th>INT_SQFT</th>\n",
              "      <th>SALES_PRICE</th>\n",
              "    </tr>\n",
              "  </thead>\n",
              "  <tbody>\n",
              "    <tr>\n",
              "      <th>INT_SQFT</th>\n",
              "      <td>1.000000</td>\n",
              "      <td>0.612125</td>\n",
              "    </tr>\n",
              "    <tr>\n",
              "      <th>SALES_PRICE</th>\n",
              "      <td>0.612125</td>\n",
              "      <td>1.000000</td>\n",
              "    </tr>\n",
              "  </tbody>\n",
              "</table>\n",
              "</div>\n",
              "      <button class=\"colab-df-convert\" onclick=\"convertToInteractive('df-39158128-9f83-4c82-80fd-c2d78092f6bb')\"\n",
              "              title=\"Convert this dataframe to an interactive table.\"\n",
              "              style=\"display:none;\">\n",
              "        \n",
              "  <svg xmlns=\"http://www.w3.org/2000/svg\" height=\"24px\"viewBox=\"0 0 24 24\"\n",
              "       width=\"24px\">\n",
              "    <path d=\"M0 0h24v24H0V0z\" fill=\"none\"/>\n",
              "    <path d=\"M18.56 5.44l.94 2.06.94-2.06 2.06-.94-2.06-.94-.94-2.06-.94 2.06-2.06.94zm-11 1L8.5 8.5l.94-2.06 2.06-.94-2.06-.94L8.5 2.5l-.94 2.06-2.06.94zm10 10l.94 2.06.94-2.06 2.06-.94-2.06-.94-.94-2.06-.94 2.06-2.06.94z\"/><path d=\"M17.41 7.96l-1.37-1.37c-.4-.4-.92-.59-1.43-.59-.52 0-1.04.2-1.43.59L10.3 9.45l-7.72 7.72c-.78.78-.78 2.05 0 2.83L4 21.41c.39.39.9.59 1.41.59.51 0 1.02-.2 1.41-.59l7.78-7.78 2.81-2.81c.8-.78.8-2.07 0-2.86zM5.41 20L4 18.59l7.72-7.72 1.47 1.35L5.41 20z\"/>\n",
              "  </svg>\n",
              "      </button>\n",
              "      \n",
              "  <style>\n",
              "    .colab-df-container {\n",
              "      display:flex;\n",
              "      flex-wrap:wrap;\n",
              "      gap: 12px;\n",
              "    }\n",
              "\n",
              "    .colab-df-convert {\n",
              "      background-color: #E8F0FE;\n",
              "      border: none;\n",
              "      border-radius: 50%;\n",
              "      cursor: pointer;\n",
              "      display: none;\n",
              "      fill: #1967D2;\n",
              "      height: 32px;\n",
              "      padding: 0 0 0 0;\n",
              "      width: 32px;\n",
              "    }\n",
              "\n",
              "    .colab-df-convert:hover {\n",
              "      background-color: #E2EBFA;\n",
              "      box-shadow: 0px 1px 2px rgba(60, 64, 67, 0.3), 0px 1px 3px 1px rgba(60, 64, 67, 0.15);\n",
              "      fill: #174EA6;\n",
              "    }\n",
              "\n",
              "    [theme=dark] .colab-df-convert {\n",
              "      background-color: #3B4455;\n",
              "      fill: #D2E3FC;\n",
              "    }\n",
              "\n",
              "    [theme=dark] .colab-df-convert:hover {\n",
              "      background-color: #434B5C;\n",
              "      box-shadow: 0px 1px 3px 1px rgba(0, 0, 0, 0.15);\n",
              "      filter: drop-shadow(0px 1px 2px rgba(0, 0, 0, 0.3));\n",
              "      fill: #FFFFFF;\n",
              "    }\n",
              "  </style>\n",
              "\n",
              "      <script>\n",
              "        const buttonEl =\n",
              "          document.querySelector('#df-39158128-9f83-4c82-80fd-c2d78092f6bb button.colab-df-convert');\n",
              "        buttonEl.style.display =\n",
              "          google.colab.kernel.accessAllowed ? 'block' : 'none';\n",
              "\n",
              "        async function convertToInteractive(key) {\n",
              "          const element = document.querySelector('#df-39158128-9f83-4c82-80fd-c2d78092f6bb');\n",
              "          const dataTable =\n",
              "            await google.colab.kernel.invokeFunction('convertToInteractive',\n",
              "                                                     [key], {});\n",
              "          if (!dataTable) return;\n",
              "\n",
              "          const docLinkHtml = 'Like what you see? Visit the ' +\n",
              "            '<a target=\"_blank\" href=https://colab.research.google.com/notebooks/data_table.ipynb>data table notebook</a>'\n",
              "            + ' to learn more about interactive tables.';\n",
              "          element.innerHTML = '';\n",
              "          dataTable['output_type'] = 'display_data';\n",
              "          await google.colab.output.renderOutput(dataTable, element);\n",
              "          const docLink = document.createElement('div');\n",
              "          docLink.innerHTML = docLinkHtml;\n",
              "          element.appendChild(docLink);\n",
              "        }\n",
              "      </script>\n",
              "    </div>\n",
              "  </div>\n",
              "  "
            ]
          },
          "metadata": {},
          "execution_count": 28
        }
      ]
    },
    {
      "cell_type": "markdown",
      "source": [
        "#@ Date_sale"
      ],
      "metadata": {
        "id": "BLaPfc8rX1MG"
      }
    },
    {
      "cell_type": "code",
      "source": [
        "df['DATE_SALE'].values"
      ],
      "metadata": {
        "colab": {
          "base_uri": "https://localhost:8080/"
        },
        "id": "fLrYp5icBzUd",
        "outputId": "063a4e62-afec-47d1-8c08-4bea52e31c64"
      },
      "execution_count": 29,
      "outputs": [
        {
          "output_type": "execute_result",
          "data": {
            "text/plain": [
              "array(['04-05-2011', '19-12-2006', '04-02-2012', ..., '25-08-2006',\n",
              "       '03-08-2009', '13-07-2005'], dtype=object)"
            ]
          },
          "metadata": {},
          "execution_count": 29
        }
      ]
    },
    {
      "cell_type": "code",
      "source": [
        "df['DATE_SALE'].dtype  #It is object data type."
      ],
      "metadata": {
        "colab": {
          "base_uri": "https://localhost:8080/"
        },
        "id": "A5dXVuo5YVxu",
        "outputId": "10ca454a-23d2-4f8f-c3da-88f28b90a2cb"
      },
      "execution_count": 30,
      "outputs": [
        {
          "output_type": "execute_result",
          "data": {
            "text/plain": [
              "dtype('O')"
            ]
          },
          "metadata": {},
          "execution_count": 30
        }
      ]
    },
    {
      "cell_type": "code",
      "source": [
        "df['DATE_SALE'] = pd.to_datetime(df['DATE_SALE'])"
      ],
      "metadata": {
        "id": "zfM1eMCxYeS1"
      },
      "execution_count": 31,
      "outputs": []
    },
    {
      "cell_type": "code",
      "source": [
        "df['DATE_SALE'].dtype  #Now it has converted into date time format."
      ],
      "metadata": {
        "colab": {
          "base_uri": "https://localhost:8080/"
        },
        "id": "mgYZsIy5YmwP",
        "outputId": "bcf23212-f01d-4c42-a402-23c921a2517e"
      },
      "execution_count": 32,
      "outputs": [
        {
          "output_type": "execute_result",
          "data": {
            "text/plain": [
              "dtype('<M8[ns]')"
            ]
          },
          "metadata": {},
          "execution_count": 32
        }
      ]
    },
    {
      "cell_type": "code",
      "source": [
        "df['SALE_YEAR'] = pd.DatetimeIndex(df['DATE_SALE']).year"
      ],
      "metadata": {
        "id": "F_A0wlvsYtYj"
      },
      "execution_count": 33,
      "outputs": []
    },
    {
      "cell_type": "code",
      "source": [
        "df['SALE_YEAR'].value_counts()"
      ],
      "metadata": {
        "colab": {
          "base_uri": "https://localhost:8080/"
        },
        "id": "eMl9CKKrZBwV",
        "outputId": "6837bfb5-ce83-453d-a151-a1c6adc39feb"
      },
      "execution_count": 34,
      "outputs": [
        {
          "output_type": "execute_result",
          "data": {
            "text/plain": [
              "2010    1341\n",
              "2011    1300\n",
              "2009    1122\n",
              "2008     814\n",
              "2012     654\n",
              "2007     651\n",
              "2013     365\n",
              "2014     335\n",
              "2006     253\n",
              "2004     116\n",
              "2005     107\n",
              "2015      51\n",
              "Name: SALE_YEAR, dtype: int64"
            ]
          },
          "metadata": {},
          "execution_count": 34
        }
      ]
    },
    {
      "cell_type": "code",
      "source": [
        "#Ploting distribution of feature=\"SALE_YEAR\" plot\n",
        "sns.displot(df['SALE_YEAR'])\n",
        "plt.show   \n",
        "\n",
        "#2010 is the year which have most number of sales"
      ],
      "metadata": {
        "colab": {
          "base_uri": "https://localhost:8080/",
          "height": 386
        },
        "id": "SvnA22szZWJJ",
        "outputId": "02d60db2-7b3d-4c83-9ef2-210e00f42d0f"
      },
      "execution_count": 35,
      "outputs": [
        {
          "output_type": "execute_result",
          "data": {
            "text/plain": [
              "<function matplotlib.pyplot.show>"
            ]
          },
          "metadata": {},
          "execution_count": 35
        },
        {
          "output_type": "display_data",
          "data": {
            "text/plain": [
              "<Figure size 360x360 with 1 Axes>"
            ],
            "image/png": "[encoded data removed]"
          },
          "metadata": {
            "needs_background": "light"
          }
        }
      ]
    },
    {
      "cell_type": "code",
      "source": [
        "df.info()"
      ],
      "metadata": {
        "colab": {
          "base_uri": "https://localhost:8080/"
        },
        "id": "oNWaXKUkZizP",
        "outputId": "96ea2f83-1b0a-4b5b-a754-9e8aa77e3241"
      },
      "execution_count": 36,
      "outputs": [
        {
          "output_type": "stream",
          "name": "stdout",
          "text": [
            "<class 'pandas.core.frame.DataFrame'>\n",
            "RangeIndex: 7109 entries, 0 to 7108\n",
            "Data columns (total 22 columns):\n",
            " #   Column         Non-Null Count  Dtype         \n",
            "---  ------         --------------  -----         \n",
            " 0   AREA           7109 non-null   int64         \n",
            " 1   INT_SQFT       7109 non-null   int64         \n",
            " 2   DATE_SALE      7109 non-null   datetime64[ns]\n",
            " 3   DIST_MAINROAD  7109 non-null   int64         \n",
            " 4   N_BEDROOM      7108 non-null   float64       \n",
            " 5   N_BATHROOM     7104 non-null   float64       \n",
            " 6   N_ROOM         7109 non-null   int64         \n",
            " 7   SALE_COND      7109 non-null   object        \n",
            " 8   PARK_FACIL     7109 non-null   object        \n",
            " 9   DATE_BUILD     7109 non-null   object        \n",
            " 10  BUILDTYPE      7109 non-null   object        \n",
            " 11  UTILITY_AVAIL  7109 non-null   object        \n",
            " 12  STREET         7109 non-null   object        \n",
            " 13  MZZONE         7109 non-null   object        \n",
            " 14  QS_ROOMS       7109 non-null   float64       \n",
            " 15  QS_BATHROOM    7109 non-null   float64       \n",
            " 16  QS_BEDROOM     7109 non-null   float64       \n",
            " 17  QS_OVERALL     7061 non-null   float64       \n",
            " 18  REG_FEE        7109 non-null   int64         \n",
            " 19  COMMIS         7109 non-null   int64         \n",
            " 20  SALES_PRICE    7109 non-null   int64         \n",
            " 21  SALE_YEAR      7109 non-null   int64         \n",
            "dtypes: datetime64[ns](1), float64(6), int64(8), object(7)\n",
            "memory usage: 1.2+ MB\n"
          ]
        }
      ]
    },
    {
      "cell_type": "code",
      "source": [
        "df['SALE_YEAR'].isna().sum() # There are no null values in SALE_YEAR"
      ],
      "metadata": {
        "colab": {
          "base_uri": "https://localhost:8080/"
        },
        "id": "hDDyQ3AdZtOe",
        "outputId": "48f30c14-66d3-4354-e243-c6826ba8c41d"
      },
      "execution_count": 37,
      "outputs": [
        {
          "output_type": "execute_result",
          "data": {
            "text/plain": [
              "0"
            ]
          },
          "metadata": {},
          "execution_count": 37
        }
      ]
    },
    {
      "cell_type": "code",
      "source": [
        "sns.scatterplot(x = 'SALE_YEAR',\n",
        "                y = 'SALES_PRICE',\n",
        "                data = df[['SALE_YEAR','SALES_PRICE']])"
      ],
      "metadata": {
        "colab": {
          "base_uri": "https://localhost:8080/",
          "height": 308
        },
        "id": "u6_EF9ifgV0t",
        "outputId": "67e8b65e-83ee-4101-940e-9025d960e1e7"
      },
      "execution_count": 38,
      "outputs": [
        {
          "output_type": "execute_result",
          "data": {
            "text/plain": [
              "<matplotlib.axes._subplots.AxesSubplot at 0x7fe8c4007490>"
            ]
          },
          "metadata": {},
          "execution_count": 38
        },
        {
          "output_type": "display_data",
          "data": {
            "text/plain": [
              "<Figure size 432x288 with 1 Axes>"
            ],
            "image/png": "[encoded data removed]"
          },
          "metadata": {
            "needs_background": "light"
          }
        }
      ]
    },
    {
      "cell_type": "markdown",
      "source": [
        "#@ DIST_MAINROAD column"
      ],
      "metadata": {
        "id": "pQAkG4Jbf-pb"
      }
    },
    {
      "cell_type": "code",
      "source": [
        "df['DIST_MAINROAD'].values"
      ],
      "metadata": {
        "colab": {
          "base_uri": "https://localhost:8080/"
        },
        "id": "bvkhOCCJgH-J",
        "outputId": "1a899be2-c4b3-428f-f6a3-c3a294351243"
      },
      "execution_count": 39,
      "outputs": [
        {
          "output_type": "execute_result",
          "data": {
            "text/plain": [
              "array([131,  26,  70, ..., 152,  40, 156])"
            ]
          },
          "metadata": {},
          "execution_count": 39
        }
      ]
    },
    {
      "cell_type": "code",
      "source": [
        "df['DIST_MAINROAD'].isna().sum()  #There are no null values in 'DIST_MAINROAD' column"
      ],
      "metadata": {
        "colab": {
          "base_uri": "https://localhost:8080/"
        },
        "id": "RJrm8veRf5Uy",
        "outputId": "4de62ebf-5308-41a9-8fb8-fa1a64808529"
      },
      "execution_count": 40,
      "outputs": [
        {
          "output_type": "execute_result",
          "data": {
            "text/plain": [
              "0"
            ]
          },
          "metadata": {},
          "execution_count": 40
        }
      ]
    },
    {
      "cell_type": "code",
      "source": [
        "df['DIST_MAINROAD'].dtype"
      ],
      "metadata": {
        "colab": {
          "base_uri": "https://localhost:8080/"
        },
        "id": "Gh9DRlPMjk--",
        "outputId": "b9b7b6ee-4200-4cce-db54-f34759452e08"
      },
      "execution_count": 41,
      "outputs": [
        {
          "output_type": "execute_result",
          "data": {
            "text/plain": [
              "dtype('int64')"
            ]
          },
          "metadata": {},
          "execution_count": 41
        }
      ]
    },
    {
      "cell_type": "code",
      "source": [
        "#let's check for outliers in this column\n",
        "df['DIST_MAINROAD'].describe()"
      ],
      "metadata": {
        "colab": {
          "base_uri": "https://localhost:8080/"
        },
        "id": "BoBRexPPhMCk",
        "outputId": "300733ce-704b-42c0-a90c-de87b5910867"
      },
      "execution_count": 42,
      "outputs": [
        {
          "output_type": "execute_result",
          "data": {
            "text/plain": [
              "count    7109.000000\n",
              "mean       99.603179\n",
              "std        57.403110\n",
              "min         0.000000\n",
              "25%        50.000000\n",
              "50%        99.000000\n",
              "75%       148.000000\n",
              "max       200.000000\n",
              "Name: DIST_MAINROAD, dtype: float64"
            ]
          },
          "metadata": {},
          "execution_count": 42
        }
      ]
    },
    {
      "cell_type": "code",
      "source": [
        "q3 = df['DIST_MAINROAD'].quantile(0.75)\n",
        "q1 = df['DIST_MAINROAD'].quantile(0.25)\n",
        "iqr = q3 - q1\n",
        "iqr"
      ],
      "metadata": {
        "colab": {
          "base_uri": "https://localhost:8080/"
        },
        "id": "n0cp_JrWhXcc",
        "outputId": "5c01f67b-0731-45f2-c955-3bf53536aef8"
      },
      "execution_count": 43,
      "outputs": [
        {
          "output_type": "execute_result",
          "data": {
            "text/plain": [
              "98.0"
            ]
          },
          "metadata": {},
          "execution_count": 43
        }
      ]
    },
    {
      "cell_type": "code",
      "source": [
        "q3 + 1.5*q3 #There is no value greater than '370.0'"
      ],
      "metadata": {
        "colab": {
          "base_uri": "https://localhost:8080/"
        },
        "id": "3ZRv4TSlhm64",
        "outputId": "ff97c40c-e6cb-4328-d780-13017f005668"
      },
      "execution_count": 44,
      "outputs": [
        {
          "output_type": "execute_result",
          "data": {
            "text/plain": [
              "370.0"
            ]
          },
          "metadata": {},
          "execution_count": 44
        }
      ]
    },
    {
      "cell_type": "code",
      "source": [
        "q1 - 1.5*iqr #There is no value less than '-97.0'"
      ],
      "metadata": {
        "colab": {
          "base_uri": "https://localhost:8080/"
        },
        "id": "-FBVPGsjhwBx",
        "outputId": "8ea62bae-c03f-42ba-896b-683c2e722e3a"
      },
      "execution_count": 45,
      "outputs": [
        {
          "output_type": "execute_result",
          "data": {
            "text/plain": [
              "-97.0"
            ]
          },
          "metadata": {},
          "execution_count": 45
        }
      ]
    },
    {
      "cell_type": "code",
      "source": [
        "\"\"\"\n",
        "There are no outliers in 'DIST_MAINROAD' column\n",
        "\"\"\""
      ],
      "metadata": {
        "colab": {
          "base_uri": "https://localhost:8080/",
          "height": 0
        },
        "id": "Ucu1fWVLh4ly",
        "outputId": "ff3bb3e0-cd06-4923-a936-118b59d67010"
      },
      "execution_count": 46,
      "outputs": [
        {
          "output_type": "execute_result",
          "data": {
            "text/plain": [
              "\"\\nThere are no outliers in 'DIST_MAINROAD' column\\n\""
            ],
            "application/vnd.google.colaboratory.intrinsic+json": {
              "type": "string"
            }
          },
          "metadata": {},
          "execution_count": 46
        }
      ]
    },
    {
      "cell_type": "code",
      "source": [
        "#checking with box plot\n",
        "plt.boxplot(df['DIST_MAINROAD'])\n",
        "plt.show()"
      ],
      "metadata": {
        "colab": {
          "base_uri": "https://localhost:8080/",
          "height": 0
        },
        "id": "ox7kytcih_ci",
        "outputId": "4bd023bd-07dd-48e7-a61a-6d3e028f706d"
      },
      "execution_count": 47,
      "outputs": [
        {
          "output_type": "display_data",
          "data": {
            "text/plain": [
              "<Figure size 432x288 with 1 Axes>"
            ],
            "image/png": "[encoded data removed]"
          },
          "metadata": {
            "needs_background": "light"
          }
        }
      ]
    },
    {
      "cell_type": "code",
      "source": [
        "#Ploting distribution of feature=\"DIST_MAINROAD\" plot\n",
        "sns.displot(df['DIST_MAINROAD'])\n",
        "plt.show"
      ],
      "metadata": {
        "colab": {
          "base_uri": "https://localhost:8080/",
          "height": 0
        },
        "id": "a_8nTKbfiMqv",
        "outputId": "494230c6-0383-4249-a4f7-3a76a6cbeb02"
      },
      "execution_count": 48,
      "outputs": [
        {
          "output_type": "execute_result",
          "data": {
            "text/plain": [
              "<function matplotlib.pyplot.show>"
            ]
          },
          "metadata": {},
          "execution_count": 48
        },
        {
          "output_type": "display_data",
          "data": {
            "text/plain": [
              "<Figure size 360x360 with 1 Axes>"
            ],
            "image/png": "[encoded data removed]"
          },
          "metadata": {
            "needs_background": "light"
          }
        }
      ]
    },
    {
      "cell_type": "code",
      "source": [
        "df['DIST_MAINROAD'].value_counts().plot.bar() "
      ],
      "metadata": {
        "colab": {
          "base_uri": "https://localhost:8080/",
          "height": 0
        },
        "id": "SjtSi-iPihrO",
        "outputId": "b62d858c-7d21-497c-b94d-e9f30d7b4475"
      },
      "execution_count": 49,
      "outputs": [
        {
          "output_type": "execute_result",
          "data": {
            "text/plain": [
              "<matplotlib.axes._subplots.AxesSubplot at 0x7fe8c2284d10>"
            ]
          },
          "metadata": {},
          "execution_count": 49
        },
        {
          "output_type": "display_data",
          "data": {
            "text/plain": [
              "<Figure size 432x288 with 1 Axes>"
            ],
            "image/png": "[encoded data removed]"
          },
          "metadata": {
            "needs_background": "light"
          }
        }
      ]
    },
    {
      "cell_type": "code",
      "source": [
        "sns.scatterplot(x = 'DIST_MAINROAD',\n",
        "                y = 'SALES_PRICE',\n",
        "                data = df[['DIST_MAINROAD','SALES_PRICE']])\n",
        "\"\"\"\n",
        "There is no clear relationship btw 'DIST_MAINROAD' and 'SALES_PRICE'\n",
        "\"\"\""
      ],
      "metadata": {
        "colab": {
          "base_uri": "https://localhost:8080/",
          "height": 0
        },
        "id": "C20FX6uWi3LZ",
        "outputId": "e5034940-a326-45ce-a406-d92a1141d276"
      },
      "execution_count": 50,
      "outputs": [
        {
          "output_type": "execute_result",
          "data": {
            "text/plain": [
              "\"\\nThere is no clear relationship btw 'DIST_MAINROAD' and 'SALES_PRICE'\\n\""
            ],
            "application/vnd.google.colaboratory.intrinsic+json": {
              "type": "string"
            }
          },
          "metadata": {},
          "execution_count": 50
        },
        {
          "output_type": "display_data",
          "data": {
            "text/plain": [
              "<Figure size 432x288 with 1 Axes>"
            ],
            "image/png": "[encoded data removed]"
          },
          "metadata": {
            "needs_background": "light"
          }
        }
      ]
    },
    {
      "cell_type": "code",
      "source": [
        "df[['DIST_MAINROAD','SALES_PRICE']].corr()\n",
        "\"\"\"\n",
        "There is not much correlation between 'Distance from main road' and 'sales price of house'\n",
        "\"\"\""
      ],
      "metadata": {
        "colab": {
          "base_uri": "https://localhost:8080/",
          "height": 0
        },
        "id": "gmA7NEOBi9ss",
        "outputId": "200a6c6d-c002-4109-f510-62579f2a0612"
      },
      "execution_count": 51,
      "outputs": [
        {
          "output_type": "execute_result",
          "data": {
            "text/plain": [
              "\"\\nThere is not much correlation between 'Distance from main road' and 'sales price of house'\\n\""
            ],
            "application/vnd.google.colaboratory.intrinsic+json": {
              "type": "string"
            }
          },
          "metadata": {},
          "execution_count": 51
        }
      ]
    },
    {
      "cell_type": "code",
      "source": [
        "\"\"\"\n",
        "we can drop this columnn if it has no significant relation for prediction of the sale price of the house.\n",
        "\"\"\""
      ],
      "metadata": {
        "colab": {
          "base_uri": "https://localhost:8080/",
          "height": 0
        },
        "id": "wrDMURk22d_H",
        "outputId": "68199fa9-5548-4aee-9f14-61334a41908d"
      },
      "execution_count": 52,
      "outputs": [
        {
          "output_type": "execute_result",
          "data": {
            "text/plain": [
              "'\\nwe can drop this columnn if it has no significant relation for prediction of the sale price of the house.\\n'"
            ],
            "application/vnd.google.colaboratory.intrinsic+json": {
              "type": "string"
            }
          },
          "metadata": {},
          "execution_count": 52
        }
      ]
    },
    {
      "cell_type": "markdown",
      "source": [
        "#@ N_BEDROOM"
      ],
      "metadata": {
        "id": "kO84sGjNkque"
      }
    },
    {
      "cell_type": "code",
      "source": [
        "df['N_BEDROOM'].values"
      ],
      "metadata": {
        "colab": {
          "base_uri": "https://localhost:8080/"
        },
        "id": "EjDA2X_nlA4B",
        "outputId": "e7d4ed7b-77d4-4cb6-c438-fa773daf65b5"
      },
      "execution_count": 53,
      "outputs": [
        {
          "output_type": "execute_result",
          "data": {
            "text/plain": [
              "array([1., 2., 1., ..., 2., 1., 3.])"
            ]
          },
          "metadata": {},
          "execution_count": 53
        }
      ]
    },
    {
      "cell_type": "code",
      "source": [
        "df['N_BEDROOM'].isna().sum()"
      ],
      "metadata": {
        "colab": {
          "base_uri": "https://localhost:8080/"
        },
        "id": "_wHq0B9klLAJ",
        "outputId": "a2c2d3a4-322e-4e23-c3f0-365d8ea8e404"
      },
      "execution_count": 54,
      "outputs": [
        {
          "output_type": "execute_result",
          "data": {
            "text/plain": [
              "1"
            ]
          },
          "metadata": {},
          "execution_count": 54
        }
      ]
    },
    {
      "cell_type": "code",
      "source": [
        "df['N_BEDROOM'].describe()"
      ],
      "metadata": {
        "colab": {
          "base_uri": "https://localhost:8080/"
        },
        "id": "6k4O8vVwoM09",
        "outputId": "87047ee9-c92c-450a-b554-3846fdb0faf7"
      },
      "execution_count": 55,
      "outputs": [
        {
          "output_type": "execute_result",
          "data": {
            "text/plain": [
              "count    7108.000000\n",
              "mean        1.637029\n",
              "std         0.802902\n",
              "min         1.000000\n",
              "25%         1.000000\n",
              "50%         1.000000\n",
              "75%         2.000000\n",
              "max         4.000000\n",
              "Name: N_BEDROOM, dtype: float64"
            ]
          },
          "metadata": {},
          "execution_count": 55
        }
      ]
    },
    {
      "cell_type": "code",
      "source": [
        "df['N_BEDROOM'].fillna(int(df['N_BEDROOM'].mode()),inplace=True)"
      ],
      "metadata": {
        "id": "OeoL3ZXolikc"
      },
      "execution_count": 56,
      "outputs": []
    },
    {
      "cell_type": "code",
      "source": [
        "df['N_BEDROOM'] = df['N_BEDROOM'].astype(int)"
      ],
      "metadata": {
        "id": "pAIE4-Phnwgt"
      },
      "execution_count": 57,
      "outputs": []
    },
    {
      "cell_type": "code",
      "source": [
        "df['N_BEDROOM'].isna().sum()"
      ],
      "metadata": {
        "colab": {
          "base_uri": "https://localhost:8080/"
        },
        "id": "i16nkyMKlwAR",
        "outputId": "c21f1c35-de72-4a41-ab6f-f85bf7f37c75"
      },
      "execution_count": 58,
      "outputs": [
        {
          "output_type": "execute_result",
          "data": {
            "text/plain": [
              "0"
            ]
          },
          "metadata": {},
          "execution_count": 58
        }
      ]
    },
    {
      "cell_type": "code",
      "source": [
        "df['N_BEDROOM'].value_counts()"
      ],
      "metadata": {
        "colab": {
          "base_uri": "https://localhost:8080/"
        },
        "id": "SxTIhQGKlQvw",
        "outputId": "ac45d5ca-8270-499c-fc46-efa4dffa483e"
      },
      "execution_count": 59,
      "outputs": [
        {
          "output_type": "execute_result",
          "data": {
            "text/plain": [
              "1    3796\n",
              "2    2352\n",
              "3     707\n",
              "4     254\n",
              "Name: N_BEDROOM, dtype: int64"
            ]
          },
          "metadata": {},
          "execution_count": 59
        }
      ]
    },
    {
      "cell_type": "code",
      "source": [
        "#Ploting distribution of feature=\"N_BEDROOM\" plot\n",
        "sns.displot(df['N_BEDROOM'])\n",
        "plt.show\n",
        "\n",
        "#Here we can see that 1 bedroom flats are sold more number of times."
      ],
      "metadata": {
        "colab": {
          "base_uri": "https://localhost:8080/",
          "height": 386
        },
        "id": "upFfTwx4l5WN",
        "outputId": "6d1d63da-f9c1-42ef-b5ad-214c48f139b4"
      },
      "execution_count": 60,
      "outputs": [
        {
          "output_type": "execute_result",
          "data": {
            "text/plain": [
              "<function matplotlib.pyplot.show>"
            ]
          },
          "metadata": {},
          "execution_count": 60
        },
        {
          "output_type": "display_data",
          "data": {
            "text/plain": [
              "<Figure size 360x360 with 1 Axes>"
            ],
            "image/png": "[encoded data removed]"
          },
          "metadata": {
            "needs_background": "light"
          }
        }
      ]
    },
    {
      "cell_type": "code",
      "source": [
        "df['N_BEDROOM'].value_counts().plot.bar() \n",
        "\n",
        "#It shows the same data but with bar graph."
      ],
      "metadata": {
        "colab": {
          "base_uri": "https://localhost:8080/",
          "height": 279
        },
        "id": "q741atJimh2f",
        "outputId": "d94198cf-a43a-41f0-96d8-e33aa662cbae"
      },
      "execution_count": 61,
      "outputs": [
        {
          "output_type": "execute_result",
          "data": {
            "text/plain": [
              "<matplotlib.axes._subplots.AxesSubplot at 0x7fe8c1c38e90>"
            ]
          },
          "metadata": {},
          "execution_count": 61
        },
        {
          "output_type": "display_data",
          "data": {
            "text/plain": [
              "<Figure size 432x288 with 1 Axes>"
            ],
            "image/png": "[encoded data removed]"
          },
          "metadata": {
            "needs_background": "light"
          }
        }
      ]
    },
    {
      "cell_type": "code",
      "source": [
        "#let's if there is a relationship btw 'N_BEDROOM' and price of the house.\n",
        "df.groupby('N_BEDROOM')['SALES_PRICE'].mean().sort_values(ascending=True).plot.bar()\n",
        "\n",
        "\"\"\"\n",
        "Here we can clearly see that, there is an increase in price as we increase the number of bedrooms.\n",
        "\"\"\""
      ],
      "metadata": {
        "colab": {
          "base_uri": "https://localhost:8080/",
          "height": 307
        },
        "id": "iMHjVa01m8qJ",
        "outputId": "4f5e6720-a89c-4269-9baf-4233c6517272"
      },
      "execution_count": 62,
      "outputs": [
        {
          "output_type": "execute_result",
          "data": {
            "text/plain": [
              "'\\nHere we can clearly see that, there is an increase in price as we increase the number of bedrooms.\\n'"
            ],
            "application/vnd.google.colaboratory.intrinsic+json": {
              "type": "string"
            }
          },
          "metadata": {},
          "execution_count": 62
        },
        {
          "output_type": "display_data",
          "data": {
            "text/plain": [
              "<Figure size 432x288 with 1 Axes>"
            ],
            "image/png": "[encoded data removed]"
          },
          "metadata": {
            "needs_background": "light"
          }
        }
      ]
    },
    {
      "cell_type": "markdown",
      "source": [
        "#@ N_BATHROOM"
      ],
      "metadata": {
        "id": "n9WEit2dnpX1"
      }
    },
    {
      "cell_type": "code",
      "source": [
        "df['N_BATHROOM'].values"
      ],
      "metadata": {
        "colab": {
          "base_uri": "https://localhost:8080/"
        },
        "id": "cFKDnrMQneKM",
        "outputId": "efa84257-5abf-4401-a86e-3485947831d0"
      },
      "execution_count": 63,
      "outputs": [
        {
          "output_type": "execute_result",
          "data": {
            "text/plain": [
              "array([1., 1., 1., ..., 1., 1., 2.])"
            ]
          },
          "metadata": {},
          "execution_count": 63
        }
      ]
    },
    {
      "cell_type": "code",
      "source": [
        "df['N_BATHROOM'].isna().sum()"
      ],
      "metadata": {
        "colab": {
          "base_uri": "https://localhost:8080/"
        },
        "id": "chtNzJIw0Z-s",
        "outputId": "c4cddbbb-b1ca-4623-a145-815afc0b1439"
      },
      "execution_count": 64,
      "outputs": [
        {
          "output_type": "execute_result",
          "data": {
            "text/plain": [
              "5"
            ]
          },
          "metadata": {},
          "execution_count": 64
        }
      ]
    },
    {
      "cell_type": "code",
      "source": [
        "df.info()"
      ],
      "metadata": {
        "colab": {
          "base_uri": "https://localhost:8080/"
        },
        "id": "gKPh_pkikA2F",
        "outputId": "1f2dd7d1-ea2d-4fe3-ef6d-63f71463c8fc"
      },
      "execution_count": 65,
      "outputs": [
        {
          "output_type": "stream",
          "name": "stdout",
          "text": [
            "<class 'pandas.core.frame.DataFrame'>\n",
            "RangeIndex: 7109 entries, 0 to 7108\n",
            "Data columns (total 22 columns):\n",
            " #   Column         Non-Null Count  Dtype         \n",
            "---  ------         --------------  -----         \n",
            " 0   AREA           7109 non-null   int64         \n",
            " 1   INT_SQFT       7109 non-null   int64         \n",
            " 2   DATE_SALE      7109 non-null   datetime64[ns]\n",
            " 3   DIST_MAINROAD  7109 non-null   int64         \n",
            " 4   N_BEDROOM      7109 non-null   int64         \n",
            " 5   N_BATHROOM     7104 non-null   float64       \n",
            " 6   N_ROOM         7109 non-null   int64         \n",
            " 7   SALE_COND      7109 non-null   object        \n",
            " 8   PARK_FACIL     7109 non-null   object        \n",
            " 9   DATE_BUILD     7109 non-null   object        \n",
            " 10  BUILDTYPE      7109 non-null   object        \n",
            " 11  UTILITY_AVAIL  7109 non-null   object        \n",
            " 12  STREET         7109 non-null   object        \n",
            " 13  MZZONE         7109 non-null   object        \n",
            " 14  QS_ROOMS       7109 non-null   float64       \n",
            " 15  QS_BATHROOM    7109 non-null   float64       \n",
            " 16  QS_BEDROOM     7109 non-null   float64       \n",
            " 17  QS_OVERALL     7061 non-null   float64       \n",
            " 18  REG_FEE        7109 non-null   int64         \n",
            " 19  COMMIS         7109 non-null   int64         \n",
            " 20  SALES_PRICE    7109 non-null   int64         \n",
            " 21  SALE_YEAR      7109 non-null   int64         \n",
            "dtypes: datetime64[ns](1), float64(5), int64(9), object(7)\n",
            "memory usage: 1.2+ MB\n"
          ]
        }
      ]
    },
    {
      "cell_type": "code",
      "source": [
        "df['N_BATHROOM'].fillna(int(df['N_BATHROOM'].mode()),inplace=True)"
      ],
      "metadata": {
        "id": "BvYLKB6a0nJi"
      },
      "execution_count": 66,
      "outputs": []
    },
    {
      "cell_type": "code",
      "source": [
        "df['N_BATHROOM'] = df['N_BATHROOM'].astype(int)"
      ],
      "metadata": {
        "id": "sHbtwFCc1EmB"
      },
      "execution_count": 67,
      "outputs": []
    },
    {
      "cell_type": "code",
      "source": [
        "df['N_BATHROOM'].isna().sum()  #There are no null values in number of bathrooms colummns."
      ],
      "metadata": {
        "colab": {
          "base_uri": "https://localhost:8080/"
        },
        "id": "CrWKxGIY1Kox",
        "outputId": "c1208029-dbb2-4eb9-c5d7-53dcc369d65c"
      },
      "execution_count": 68,
      "outputs": [
        {
          "output_type": "execute_result",
          "data": {
            "text/plain": [
              "0"
            ]
          },
          "metadata": {},
          "execution_count": 68
        }
      ]
    },
    {
      "cell_type": "code",
      "source": [
        "df['N_BATHROOM'].value_counts()"
      ],
      "metadata": {
        "colab": {
          "base_uri": "https://localhost:8080/"
        },
        "id": "-AwPasuA1Udy",
        "outputId": "1c24106d-2b4e-4758-e78a-a4a51cab992b"
      },
      "execution_count": 69,
      "outputs": [
        {
          "output_type": "execute_result",
          "data": {
            "text/plain": [
              "1    5594\n",
              "2    1515\n",
              "Name: N_BATHROOM, dtype: int64"
            ]
          },
          "metadata": {},
          "execution_count": 69
        }
      ]
    },
    {
      "cell_type": "code",
      "source": [
        "#Ploting distribution of feature=\"N_BATHROOM\" plot\n",
        "sns.displot(df['N_BATHROOM'])\n",
        "plt.show \n",
        "\n",
        "#Here we can see that 1 bathroom houses sold more number number of times."
      ],
      "metadata": {
        "colab": {
          "base_uri": "https://localhost:8080/",
          "height": 0
        },
        "id": "ZWAT6Fd81efv",
        "outputId": "a42d587b-bb0f-4cf9-9a64-f28ffed9ce31"
      },
      "execution_count": 70,
      "outputs": [
        {
          "output_type": "execute_result",
          "data": {
            "text/plain": [
              "<function matplotlib.pyplot.show>"
            ]
          },
          "metadata": {},
          "execution_count": 70
        },
        {
          "output_type": "display_data",
          "data": {
            "text/plain": [
              "<Figure size 360x360 with 1 Axes>"
            ],
            "image/png": "[encoded data removed]"
          },
          "metadata": {
            "needs_background": "light"
          }
        }
      ]
    },
    {
      "cell_type": "code",
      "source": [
        "#let's is there any relationship btw number of bathrooms and sale price.\n",
        "df.groupby('N_BATHROOM')['SALES_PRICE'].mean().sort_values(ascending=True).plot.bar()\n",
        "\n",
        "#there is a slight linear relation btw number of bathrooms and sale price of the house.\n",
        "#As th number of batrooms increases , then sale price of the house also increases."
      ],
      "metadata": {
        "colab": {
          "base_uri": "https://localhost:8080/",
          "height": 0
        },
        "id": "Dg6oWjZZ1xMc",
        "outputId": "5b667ad2-52a4-4b80-d537-cc866e42654f"
      },
      "execution_count": 71,
      "outputs": [
        {
          "output_type": "execute_result",
          "data": {
            "text/plain": [
              "<matplotlib.axes._subplots.AxesSubplot at 0x7fe8c1b1a510>"
            ]
          },
          "metadata": {},
          "execution_count": 71
        },
        {
          "output_type": "display_data",
          "data": {
            "text/plain": [
              "<Figure size 432x288 with 1 Axes>"
            ],
            "image/png": "[encoded data removed]"
          },
          "metadata": {
            "needs_background": "light"
          }
        }
      ]
    },
    {
      "cell_type": "markdown",
      "source": [
        "#@ N_ROOMS COLUMN."
      ],
      "metadata": {
        "id": "xDWE7ydw3ROf"
      }
    },
    {
      "cell_type": "code",
      "source": [
        "df['N_ROOM'].values"
      ],
      "metadata": {
        "colab": {
          "base_uri": "https://localhost:8080/"
        },
        "id": "n-NKyD2O2V9d",
        "outputId": "05d9c721-e586-4d1a-8ac3-d7e92571b1e8"
      },
      "execution_count": 72,
      "outputs": [
        {
          "output_type": "execute_result",
          "data": {
            "text/plain": [
              "array([3, 5, 3, ..., 4, 2, 5])"
            ]
          },
          "metadata": {},
          "execution_count": 72
        }
      ]
    },
    {
      "cell_type": "code",
      "source": [
        "df['N_ROOM'].isna().sum() #there are no null values."
      ],
      "metadata": {
        "colab": {
          "base_uri": "https://localhost:8080/"
        },
        "id": "OYOZZ1Rw3hcn",
        "outputId": "f1bfead7-f85a-465f-e99e-51b74e85721a"
      },
      "execution_count": 73,
      "outputs": [
        {
          "output_type": "execute_result",
          "data": {
            "text/plain": [
              "0"
            ]
          },
          "metadata": {},
          "execution_count": 73
        }
      ]
    },
    {
      "cell_type": "code",
      "source": [
        "df['N_ROOM'].value_counts()"
      ],
      "metadata": {
        "colab": {
          "base_uri": "https://localhost:8080/"
        },
        "id": "2YN6pIzF2JqG",
        "outputId": "6ba39ea7-44e4-4834-93ba-e63f73e117cd"
      },
      "execution_count": 74,
      "outputs": [
        {
          "output_type": "execute_result",
          "data": {
            "text/plain": [
              "4    2563\n",
              "3    2125\n",
              "5    1246\n",
              "2     921\n",
              "6     254\n",
              "Name: N_ROOM, dtype: int64"
            ]
          },
          "metadata": {},
          "execution_count": 74
        }
      ]
    },
    {
      "cell_type": "code",
      "source": [
        "#ploting distribution of 'N_ROOM'\n",
        "sns.displot(df['N_ROOM'])\n",
        "plt.show()\n",
        "\n",
        "#Most of the houses that we have are with 4 room , continued by 3,2,5,6."
      ],
      "metadata": {
        "colab": {
          "base_uri": "https://localhost:8080/",
          "height": 0
        },
        "id": "14opB4nn1Ou5",
        "outputId": "ce97a6f4-7b97-4c5c-f435-fbfc062b9554"
      },
      "execution_count": 75,
      "outputs": [
        {
          "output_type": "display_data",
          "data": {
            "text/plain": [
              "<Figure size 360x360 with 1 Axes>"
            ],
            "image/png": "[encoded data removed]"
          },
          "metadata": {
            "needs_background": "light"
          }
        }
      ]
    },
    {
      "cell_type": "code",
      "source": [
        "#let's the relation btw number of rooms and sale price.\n",
        "df.groupby('N_ROOM')['SALES_PRICE'].mean().plot.bar()\n",
        " \n",
        "#As the number of rooms is increasing sales price also increasing."
      ],
      "metadata": {
        "colab": {
          "base_uri": "https://localhost:8080/",
          "height": 0
        },
        "id": "bl4CzKYB4St1",
        "outputId": "544396ed-6815-4e7d-c231-ca2929bcef1d"
      },
      "execution_count": 76,
      "outputs": [
        {
          "output_type": "execute_result",
          "data": {
            "text/plain": [
              "<matplotlib.axes._subplots.AxesSubplot at 0x7fe8c1996cd0>"
            ]
          },
          "metadata": {},
          "execution_count": 76
        },
        {
          "output_type": "display_data",
          "data": {
            "text/plain": [
              "<Figure size 432x288 with 1 Axes>"
            ],
            "image/png": "[encoded data removed]"
          },
          "metadata": {
            "needs_background": "light"
          }
        }
      ]
    },
    {
      "cell_type": "markdown",
      "source": [
        "#@ sale condition column"
      ],
      "metadata": {
        "id": "-BwAkxxn5DMW"
      }
    },
    {
      "cell_type": "code",
      "source": [
        "df['SALE_COND'].values"
      ],
      "metadata": {
        "colab": {
          "base_uri": "https://localhost:8080/"
        },
        "id": "2lFgk2Ee5CRU",
        "outputId": "7b92e4fe-a686-4ba2-fb76-8d1f250d4ed3"
      },
      "execution_count": 77,
      "outputs": [
        {
          "output_type": "execute_result",
          "data": {
            "text/plain": [
              "array(['AbNormal', 'AbNormal', 'AbNormal', ..., 'Normal Sale', 'Partial',\n",
              "       'Partial'], dtype=object)"
            ]
          },
          "metadata": {},
          "execution_count": 77
        }
      ]
    },
    {
      "cell_type": "code",
      "source": [
        "df['SALE_COND'].unique()"
      ],
      "metadata": {
        "colab": {
          "base_uri": "https://localhost:8080/"
        },
        "id": "DduSO3nf5RO4",
        "outputId": "3769719a-ea5e-459c-8f81-f18ef47240a6"
      },
      "execution_count": 78,
      "outputs": [
        {
          "output_type": "execute_result",
          "data": {
            "text/plain": [
              "array(['AbNormal', 'Family', 'Partial', 'AdjLand', 'Normal Sale',\n",
              "       'Ab Normal', 'Partiall', 'Adj Land', 'PartiaLl'], dtype=object)"
            ]
          },
          "metadata": {},
          "execution_count": 78
        }
      ]
    },
    {
      "cell_type": "code",
      "source": [
        "df['SALE_COND'] = df['SALE_COND'].replace({'AbNormal':'Ab Normal','Partiall':'Partial','AdjLand':'Adj Land','PartiaLl':'Partial'})"
      ],
      "metadata": {
        "id": "YjyCP0Og45Je"
      },
      "execution_count": 79,
      "outputs": []
    },
    {
      "cell_type": "code",
      "source": [
        "df['SALE_COND'].unique()"
      ],
      "metadata": {
        "colab": {
          "base_uri": "https://localhost:8080/"
        },
        "id": "9unPOnrh59k4",
        "outputId": "f74d64ce-11f6-4b9d-b524-9224cd015097"
      },
      "execution_count": 80,
      "outputs": [
        {
          "output_type": "execute_result",
          "data": {
            "text/plain": [
              "array(['Ab Normal', 'Family', 'Partial', 'Adj Land', 'Normal Sale'],\n",
              "      dtype=object)"
            ]
          },
          "metadata": {},
          "execution_count": 80
        }
      ]
    },
    {
      "cell_type": "code",
      "source": [
        "df['SALE_COND'].value_counts()"
      ],
      "metadata": {
        "colab": {
          "base_uri": "https://localhost:8080/"
        },
        "id": "7TTI8QSt6KQQ",
        "outputId": "01cee738-349e-46bf-deff-a8b93fd225e7"
      },
      "execution_count": 81,
      "outputs": [
        {
          "output_type": "execute_result",
          "data": {
            "text/plain": [
              "Adj Land       1439\n",
              "Partial        1433\n",
              "Normal Sale    1423\n",
              "Ab Normal      1411\n",
              "Family         1403\n",
              "Name: SALE_COND, dtype: int64"
            ]
          },
          "metadata": {},
          "execution_count": 81
        }
      ]
    },
    {
      "cell_type": "code",
      "source": [
        "#distribution plot of sale conditon.\n",
        "sns.displot(df['SALE_COND'])\n",
        "plt.show()"
      ],
      "metadata": {
        "colab": {
          "base_uri": "https://localhost:8080/",
          "height": 0
        },
        "id": "58BhvAhU6Pf_",
        "outputId": "3a2828e1-acc3-4cfa-a7f6-9374acc2e928"
      },
      "execution_count": 82,
      "outputs": [
        {
          "output_type": "display_data",
          "data": {
            "text/plain": [
              "<Figure size 360x360 with 1 Axes>"
            ],
            "image/png": "[encoded data removed]"
          },
          "metadata": {
            "needs_background": "light"
          }
        }
      ]
    },
    {
      "cell_type": "code",
      "source": [
        "#Finding relation btw sale condition and sale price.\n",
        "df.groupby('SALE_COND')['SALES_PRICE'].mean().sort_values(ascending=True).plot.bar()\n",
        "#There is slight linear relation btw sale condition and sale price\n",
        "#we need to do label encoding"
      ],
      "metadata": {
        "colab": {
          "base_uri": "https://localhost:8080/",
          "height": 0
        },
        "id": "_8KafGhz6ct1",
        "outputId": "32b936ac-4bfe-4fb2-fcf0-bc54e42d9e85"
      },
      "execution_count": 83,
      "outputs": [
        {
          "output_type": "execute_result",
          "data": {
            "text/plain": [
              "<matplotlib.axes._subplots.AxesSubplot at 0x7fe8c188d450>"
            ]
          },
          "metadata": {},
          "execution_count": 83
        },
        {
          "output_type": "display_data",
          "data": {
            "text/plain": [
              "<Figure size 432x288 with 1 Axes>"
            ],
            "image/png": "[encoded data removed]"
          },
          "metadata": {
            "needs_background": "light"
          }
        }
      ]
    },
    {
      "cell_type": "code",
      "source": [
        "#we are now encoding the sale condition column\n",
        "#we encoding ['Partial':0,'Family':1,'Ab Normal':2,'Normal Sale':3,'Adj Land':4]\n",
        "df['SALE_COND'] = df['SALE_COND'].replace({'Partial':0,'Family':1,'Ab Normal':2,'Normal Sale':3,'Adj Land':4})"
      ],
      "metadata": {
        "id": "LQ-F7GI78B_U"
      },
      "execution_count": 84,
      "outputs": []
    },
    {
      "cell_type": "code",
      "source": [
        "# df.head()\n",
        "# df.info()"
      ],
      "metadata": {
        "id": "YKjcmPiW7yda"
      },
      "execution_count": 85,
      "outputs": []
    },
    {
      "cell_type": "markdown",
      "source": [
        "#@ PARK_FACIL"
      ],
      "metadata": {
        "id": "z89hRRix9LFJ"
      }
    },
    {
      "cell_type": "code",
      "source": [
        "#Parking facility is binary categorical column , we always do label encoding\n",
        "df['PARK_FACIL'].value_counts()"
      ],
      "metadata": {
        "colab": {
          "base_uri": "https://localhost:8080/"
        },
        "id": "LSw-6NtS8_PZ",
        "outputId": "e27a5708-ba8e-4d24-89ec-d5db3dfd8da3"
      },
      "execution_count": 86,
      "outputs": [
        {
          "output_type": "execute_result",
          "data": {
            "text/plain": [
              "Yes    3587\n",
              "No     3520\n",
              "Noo       2\n",
              "Name: PARK_FACIL, dtype: int64"
            ]
          },
          "metadata": {},
          "execution_count": 86
        }
      ]
    },
    {
      "cell_type": "code",
      "source": [
        "df['PARK_FACIL'] = df['PARK_FACIL'].replace({'Noo':0,'No':0,'Yes':1})"
      ],
      "metadata": {
        "id": "E1sv49M97U7R"
      },
      "execution_count": 87,
      "outputs": []
    },
    {
      "cell_type": "code",
      "source": [
        "df['PARK_FACIL'].value_counts()"
      ],
      "metadata": {
        "colab": {
          "base_uri": "https://localhost:8080/"
        },
        "id": "Hll2XzBA69Z3",
        "outputId": "a3d33cc5-03a5-457e-fdf1-6f2501ee7274"
      },
      "execution_count": 88,
      "outputs": [
        {
          "output_type": "execute_result",
          "data": {
            "text/plain": [
              "1    3587\n",
              "0    3522\n",
              "Name: PARK_FACIL, dtype: int64"
            ]
          },
          "metadata": {},
          "execution_count": 88
        }
      ]
    },
    {
      "cell_type": "code",
      "source": [
        "#Distribution plot\n",
        "sns.displot(df['PARK_FACIL'])\n",
        "plt.show()"
      ],
      "metadata": {
        "colab": {
          "base_uri": "https://localhost:8080/",
          "height": 0
        },
        "id": "O4sRof7u-J18",
        "outputId": "97a46d6e-090f-4147-9e41-7c5941b37b86"
      },
      "execution_count": 89,
      "outputs": [
        {
          "output_type": "display_data",
          "data": {
            "text/plain": [
              "<Figure size 360x360 with 1 Axes>"
            ],
            "image/png": "[encoded data removed]"
          },
          "metadata": {
            "needs_background": "light"
          }
        }
      ]
    },
    {
      "cell_type": "code",
      "source": [
        "#finding relation between parking facility and sales price.\n",
        "df.groupby('PARK_FACIL')['SALES_PRICE'].mean().sort_values().plot.bar()\n",
        "\n",
        "#If there is parking facility then the AVG of sales price is more\n",
        "#If there is no parking facility then AVG of sale sprice is less.\n",
        "#lets keep it in the way it is."
      ],
      "metadata": {
        "colab": {
          "base_uri": "https://localhost:8080/",
          "height": 0
        },
        "id": "AgF2ciPT-SeW",
        "outputId": "52e2a922-a869-4d2e-a611-e6cbd302b0e2"
      },
      "execution_count": 90,
      "outputs": [
        {
          "output_type": "execute_result",
          "data": {
            "text/plain": [
              "<matplotlib.axes._subplots.AxesSubplot at 0x7fe8c1803b90>"
            ]
          },
          "metadata": {},
          "execution_count": 90
        },
        {
          "output_type": "display_data",
          "data": {
            "text/plain": [
              "<Figure size 432x288 with 1 Axes>"
            ],
            "image/png": "[encoded data removed]"
          },
          "metadata": {
            "needs_background": "light"
          }
        }
      ]
    },
    {
      "cell_type": "markdown",
      "source": [
        "#@ DATE_BUILD"
      ],
      "metadata": {
        "id": "5p6b_COv-_h1"
      }
    },
    {
      "cell_type": "code",
      "source": [
        "df['DATE_BUILD'].isna().sum() #There are no null values in date build column."
      ],
      "metadata": {
        "colab": {
          "base_uri": "https://localhost:8080/"
        },
        "id": "WNKki3YX-_Fa",
        "outputId": "b7bf6537-43ef-4ac1-f7eb-641bb9178ae3"
      },
      "execution_count": 91,
      "outputs": [
        {
          "output_type": "execute_result",
          "data": {
            "text/plain": [
              "0"
            ]
          },
          "metadata": {},
          "execution_count": 91
        }
      ]
    },
    {
      "cell_type": "code",
      "source": [
        "df['DATE_BUILD'].dtype  #it is object datatype"
      ],
      "metadata": {
        "colab": {
          "base_uri": "https://localhost:8080/"
        },
        "id": "IpkAfjR__TVr",
        "outputId": "175143ba-0958-4419-ef9f-8b8c48b66d0f"
      },
      "execution_count": 92,
      "outputs": [
        {
          "output_type": "execute_result",
          "data": {
            "text/plain": [
              "dtype('O')"
            ]
          },
          "metadata": {},
          "execution_count": 92
        }
      ]
    },
    {
      "cell_type": "code",
      "source": [
        "#changing form object datatype to datetime datatype.\n",
        "df['DATE_BUILD'] = pd.to_datetime(df['DATE_BUILD'])"
      ],
      "metadata": {
        "id": "L0vm8ACgAbjQ"
      },
      "execution_count": 93,
      "outputs": []
    },
    {
      "cell_type": "code",
      "source": [
        "df['DATE_BUILD'].dtype "
      ],
      "metadata": {
        "colab": {
          "base_uri": "https://localhost:8080/"
        },
        "id": "XUQ8YkvgAuAy",
        "outputId": "d507fb97-ab3c-4afd-9d72-d97b087e49c8"
      },
      "execution_count": 94,
      "outputs": [
        {
          "output_type": "execute_result",
          "data": {
            "text/plain": [
              "dtype('<M8[ns]')"
            ]
          },
          "metadata": {},
          "execution_count": 94
        }
      ]
    },
    {
      "cell_type": "code",
      "source": [
        "df['BUILD_YEAR'] = pd.DatetimeIndex(df['DATE_BUILD']).year"
      ],
      "metadata": {
        "id": "1sKxF4o0Awdx"
      },
      "execution_count": 95,
      "outputs": []
    },
    {
      "cell_type": "markdown",
      "source": [
        "#@ Creating age of building"
      ],
      "metadata": {
        "id": "Qi2Np1O0C8TG"
      }
    },
    {
      "cell_type": "code",
      "source": [
        "#creating a feature called \"AGE\" using build year and sale year\n",
        "df['AGE'] = df['SALE_YEAR'] - df['BUILD_YEAR']"
      ],
      "metadata": {
        "id": "SXgH8mS7BHrO"
      },
      "execution_count": 96,
      "outputs": []
    },
    {
      "cell_type": "code",
      "source": [
        "# df['AGE'].value_counts()\n",
        "#Distribution plot\n",
        "sns.displot(df['AGE'])\n",
        "plt.show()\n",
        "#The buildings with age nearer to 30 have sold more number of times"
      ],
      "metadata": {
        "colab": {
          "base_uri": "https://localhost:8080/",
          "height": 369
        },
        "id": "NFF2ydkT-874",
        "outputId": "76814fec-7973-4ea1-a956-cd07074ec389"
      },
      "execution_count": 97,
      "outputs": [
        {
          "output_type": "display_data",
          "data": {
            "text/plain": [
              "<Figure size 360x360 with 1 Axes>"
            ],
            "image/png": "[encoded data removed]"
          },
          "metadata": {
            "needs_background": "light"
          }
        }
      ]
    },
    {
      "cell_type": "code",
      "source": [
        "#finding relation between age of the building and sale price of the building.\n",
        "df.groupby('AGE')['SALES_PRICE'].mean().sort_values().plot.bar()"
      ],
      "metadata": {
        "colab": {
          "base_uri": "https://localhost:8080/",
          "height": 310
        },
        "id": "PIgNEGj2CY5n",
        "outputId": "72d1648d-85fc-4090-8eb7-54b29dc5aef6"
      },
      "execution_count": 98,
      "outputs": [
        {
          "output_type": "execute_result",
          "data": {
            "text/plain": [
              "<matplotlib.axes._subplots.AxesSubplot at 0x7fe8c1b99510>"
            ]
          },
          "metadata": {},
          "execution_count": 98
        },
        {
          "output_type": "display_data",
          "data": {
            "text/plain": [
              "<Figure size 432x288 with 1 Axes>"
            ],
            "image/png": "[encoded data removed]"
          },
          "metadata": {
            "needs_background": "light"
          }
        }
      ]
    },
    {
      "cell_type": "code",
      "source": [
        "#sctter ploting the age and sales price.\n",
        "sns.scatterplot(x = 'AGE',\n",
        "                y = 'SALES_PRICE',\n",
        "                data = df[['AGE','SALES_PRICE']])\n",
        "#There is no clear result of this scatter plot"
      ],
      "metadata": {
        "colab": {
          "base_uri": "https://localhost:8080/",
          "height": 307
        },
        "id": "YnlVlBOaDOQW",
        "outputId": "e7ac58f0-16e2-467a-91ce-e61e59e91571"
      },
      "execution_count": 99,
      "outputs": [
        {
          "output_type": "execute_result",
          "data": {
            "text/plain": [
              "<matplotlib.axes._subplots.AxesSubplot at 0x7fe8c1bc2210>"
            ]
          },
          "metadata": {},
          "execution_count": 99
        },
        {
          "output_type": "display_data",
          "data": {
            "text/plain": [
              "<Figure size 432x288 with 1 Axes>"
            ],
            "image/png": "[encoded data removed]"
          },
          "metadata": {
            "needs_background": "light"
          }
        }
      ]
    },
    {
      "cell_type": "code",
      "source": [
        "df['AGE'].describe()"
      ],
      "metadata": {
        "colab": {
          "base_uri": "https://localhost:8080/"
        },
        "id": "ZOmBvqRtDo8c",
        "outputId": "28f89156-4e6d-424d-f2c3-b2a1f29b04f8"
      },
      "execution_count": 100,
      "outputs": [
        {
          "output_type": "execute_result",
          "data": {
            "text/plain": [
              "count    7109.000000\n",
              "mean       24.276270\n",
              "std        12.334164\n",
              "min         3.000000\n",
              "25%        14.000000\n",
              "50%        23.000000\n",
              "75%        34.000000\n",
              "max        55.000000\n",
              "Name: AGE, dtype: float64"
            ]
          },
          "metadata": {},
          "execution_count": 100
        }
      ]
    },
    {
      "cell_type": "code",
      "source": [
        "q3 = df['AGE'].quantile(0.75)\n",
        "q1 = df['AGE'].quantile(0.25)\n",
        "iqr = q3 -q1\n",
        "iqr"
      ],
      "metadata": {
        "colab": {
          "base_uri": "https://localhost:8080/"
        },
        "id": "1x55IpOAD71j",
        "outputId": "a1490cc2-3bd7-4917-e9b6-46ca9f545c72"
      },
      "execution_count": 101,
      "outputs": [
        {
          "output_type": "execute_result",
          "data": {
            "text/plain": [
              "20.0"
            ]
          },
          "metadata": {},
          "execution_count": 101
        }
      ]
    },
    {
      "cell_type": "code",
      "source": [
        "q3 + 1.5*iqr  #There is no building with age is more than 64.0"
      ],
      "metadata": {
        "colab": {
          "base_uri": "https://localhost:8080/"
        },
        "id": "FG7yY-EBEJnF",
        "outputId": "d86a052c-199d-4774-ec48-8249d7d9397a"
      },
      "execution_count": 102,
      "outputs": [
        {
          "output_type": "execute_result",
          "data": {
            "text/plain": [
              "64.0"
            ]
          },
          "metadata": {},
          "execution_count": 102
        }
      ]
    },
    {
      "cell_type": "code",
      "source": [
        "q1 - 1.5*iqr  #There is no building with age less than -16.0"
      ],
      "metadata": {
        "colab": {
          "base_uri": "https://localhost:8080/"
        },
        "id": "Vv2Q9DyPESbu",
        "outputId": "04aff0e2-db77-4f59-fc30-a74aef9d45bc"
      },
      "execution_count": 103,
      "outputs": [
        {
          "output_type": "execute_result",
          "data": {
            "text/plain": [
              "-16.0"
            ]
          },
          "metadata": {},
          "execution_count": 103
        }
      ]
    },
    {
      "cell_type": "code",
      "source": [
        "# df.info()\n",
        "#going to drop the columns ['SALE_YEAR','BUILD_YEAR','DATE_SALE','DATE_BUILD']\n",
        "df = df.drop(columns=['SALE_YEAR','BUILD_YEAR','DATE_SALE','DATE_BUILD'])\n",
        "df.info()"
      ],
      "metadata": {
        "colab": {
          "base_uri": "https://localhost:8080/"
        },
        "id": "yGtcPE_bEYjk",
        "outputId": "e4798b31-73af-4b10-9242-5bd4e3637b03"
      },
      "execution_count": 104,
      "outputs": [
        {
          "output_type": "stream",
          "name": "stdout",
          "text": [
            "<class 'pandas.core.frame.DataFrame'>\n",
            "RangeIndex: 7109 entries, 0 to 7108\n",
            "Data columns (total 20 columns):\n",
            " #   Column         Non-Null Count  Dtype  \n",
            "---  ------         --------------  -----  \n",
            " 0   AREA           7109 non-null   int64  \n",
            " 1   INT_SQFT       7109 non-null   int64  \n",
            " 2   DIST_MAINROAD  7109 non-null   int64  \n",
            " 3   N_BEDROOM      7109 non-null   int64  \n",
            " 4   N_BATHROOM     7109 non-null   int64  \n",
            " 5   N_ROOM         7109 non-null   int64  \n",
            " 6   SALE_COND      7109 non-null   int64  \n",
            " 7   PARK_FACIL     7109 non-null   int64  \n",
            " 8   BUILDTYPE      7109 non-null   object \n",
            " 9   UTILITY_AVAIL  7109 non-null   object \n",
            " 10  STREET         7109 non-null   object \n",
            " 11  MZZONE         7109 non-null   object \n",
            " 12  QS_ROOMS       7109 non-null   float64\n",
            " 13  QS_BATHROOM    7109 non-null   float64\n",
            " 14  QS_BEDROOM     7109 non-null   float64\n",
            " 15  QS_OVERALL     7061 non-null   float64\n",
            " 16  REG_FEE        7109 non-null   int64  \n",
            " 17  COMMIS         7109 non-null   int64  \n",
            " 18  SALES_PRICE    7109 non-null   int64  \n",
            " 19  AGE            7109 non-null   int64  \n",
            "dtypes: float64(4), int64(12), object(4)\n",
            "memory usage: 1.1+ MB\n"
          ]
        }
      ]
    },
    {
      "cell_type": "markdown",
      "source": [
        "#@ Working on build type"
      ],
      "metadata": {
        "id": "iwpV1wJWFHE6"
      }
    },
    {
      "cell_type": "code",
      "source": [
        "df['BUILDTYPE'].values"
      ],
      "metadata": {
        "colab": {
          "base_uri": "https://localhost:8080/"
        },
        "id": "ZFYfBmdpFGVQ",
        "outputId": "3216595f-e874-4718-cb08-a3d9ea578586"
      },
      "execution_count": 105,
      "outputs": [
        {
          "output_type": "execute_result",
          "data": {
            "text/plain": [
              "array(['Commercial', 'Commercial', 'Commercial', ..., 'House',\n",
              "       'Commercial', 'Others'], dtype=object)"
            ]
          },
          "metadata": {},
          "execution_count": 105
        }
      ]
    },
    {
      "cell_type": "code",
      "source": [
        "df['BUILDTYPE'].unique()  #Basically there are only three types of build types."
      ],
      "metadata": {
        "colab": {
          "base_uri": "https://localhost:8080/"
        },
        "id": "4RC4vdwdFONt",
        "outputId": "3f71fbcc-83e5-47ef-aca8-13a33030cc35"
      },
      "execution_count": 106,
      "outputs": [
        {
          "output_type": "execute_result",
          "data": {
            "text/plain": [
              "array(['Commercial', 'Others', 'Other', 'House', 'Comercial'],\n",
              "      dtype=object)"
            ]
          },
          "metadata": {},
          "execution_count": 106
        }
      ]
    },
    {
      "cell_type": "code",
      "source": [
        "df['BUILDTYPE'] =df['BUILDTYPE'].replace({'Comercial':'Commercial','Others':'Other'})\n",
        "df['BUILDTYPE'].unique()"
      ],
      "metadata": {
        "colab": {
          "base_uri": "https://localhost:8080/"
        },
        "id": "txhXPaolFayg",
        "outputId": "ee068f65-07b3-47f4-9db4-6c661faf2c6d"
      },
      "execution_count": 107,
      "outputs": [
        {
          "output_type": "execute_result",
          "data": {
            "text/plain": [
              "array(['Commercial', 'Other', 'House'], dtype=object)"
            ]
          },
          "metadata": {},
          "execution_count": 107
        }
      ]
    },
    {
      "cell_type": "code",
      "source": [
        "#ploting distribution plot\n",
        "sns.displot(df['BUILDTYPE'])\n",
        "plt.show()\n",
        "#House type of buildings are sold more number of times."
      ],
      "metadata": {
        "colab": {
          "base_uri": "https://localhost:8080/",
          "height": 369
        },
        "id": "vsBuyAMTFzO7",
        "outputId": "2a92493b-6b13-461a-bdb7-506faecd16ab"
      },
      "execution_count": 108,
      "outputs": [
        {
          "output_type": "display_data",
          "data": {
            "text/plain": [
              "<Figure size 360x360 with 1 Axes>"
            ],
            "image/png": "[encoded data removed]"
          },
          "metadata": {
            "needs_background": "light"
          }
        }
      ]
    },
    {
      "cell_type": "code",
      "source": [
        "#finding a relation between building type and sales price.\n",
        "df.groupby('BUILDTYPE')['SALES_PRICE'].mean().sort_values().plot.bar()\n",
        "#There is no clear linear relationship between build type and sales price.\n",
        "#we have to do one hot encoding.\n",
        "#for one hot encoding pd.get_dummies(columns=['BUILDTYPE'])"
      ],
      "metadata": {
        "colab": {
          "base_uri": "https://localhost:8080/",
          "height": 357
        },
        "id": "5bddGnqoGLwB",
        "outputId": "b1b62604-68f6-4753-f8c1-ca4fe4f30a45"
      },
      "execution_count": 109,
      "outputs": [
        {
          "output_type": "execute_result",
          "data": {
            "text/plain": [
              "<matplotlib.axes._subplots.AxesSubplot at 0x7fe8c53dcdd0>"
            ]
          },
          "metadata": {},
          "execution_count": 109
        },
        {
          "output_type": "display_data",
          "data": {
            "text/plain": [
              "<Figure size 432x288 with 1 Axes>"
            ],
            "image/png": "[encoded data removed]"
          },
          "metadata": {
            "needs_background": "light"
          }
        }
      ]
    },
    {
      "cell_type": "markdown",
      "source": [
        "#@ UTILITY_AVAIL"
      ],
      "metadata": {
        "id": "xEHfnshZLWl2"
      }
    },
    {
      "cell_type": "code",
      "source": [
        " df['UTILITY_AVAIL'].unique()"
      ],
      "metadata": {
        "colab": {
          "base_uri": "https://localhost:8080/"
        },
        "id": "--s84qy4LQkW",
        "outputId": "94c83f5e-3c2b-490c-d7a4-7ab351eeda97"
      },
      "execution_count": 110,
      "outputs": [
        {
          "output_type": "execute_result",
          "data": {
            "text/plain": [
              "array(['AllPub', 'ELO', 'NoSewr ', 'NoSeWa', 'All Pub'], dtype=object)"
            ]
          },
          "metadata": {},
          "execution_count": 110
        }
      ]
    },
    {
      "cell_type": "code",
      "source": [
        "df['UTILITY_AVAIL'].isna().sum() #There are no null values in utility available column."
      ],
      "metadata": {
        "colab": {
          "base_uri": "https://localhost:8080/"
        },
        "id": "4WYkiUuJLl1J",
        "outputId": "42aec663-1bc9-4006-fa27-91f16b344b12"
      },
      "execution_count": 111,
      "outputs": [
        {
          "output_type": "execute_result",
          "data": {
            "text/plain": [
              "0"
            ]
          },
          "metadata": {},
          "execution_count": 111
        }
      ]
    },
    {
      "cell_type": "code",
      "source": [
        "#replacing miss spelled values in the column\n",
        "df['UTILITY_AVAIL'] = df['UTILITY_AVAIL'].replace({'All Pub':'AllPub','NoSewr ':'NoSewr'})\n",
        "df['UTILITY_AVAIL'].unique()"
      ],
      "metadata": {
        "colab": {
          "base_uri": "https://localhost:8080/"
        },
        "id": "xEhFhSRFL4q3",
        "outputId": "b8451fb2-95ed-4ed1-97cc-08d8a98682c4"
      },
      "execution_count": 112,
      "outputs": [
        {
          "output_type": "execute_result",
          "data": {
            "text/plain": [
              "array(['AllPub', 'ELO', 'NoSewr', 'NoSeWa'], dtype=object)"
            ]
          },
          "metadata": {},
          "execution_count": 112
        }
      ]
    },
    {
      "cell_type": "code",
      "source": [
        "df['UTILITY_AVAIL'].value_counts()"
      ],
      "metadata": {
        "colab": {
          "base_uri": "https://localhost:8080/"
        },
        "id": "fbH6v6rAMXAW",
        "outputId": "64e1f887-9f87-46de-a1e7-c12d54800acb"
      },
      "execution_count": 113,
      "outputs": [
        {
          "output_type": "execute_result",
          "data": {
            "text/plain": [
              "AllPub    1887\n",
              "NoSeWa    1871\n",
              "NoSewr    1829\n",
              "ELO       1522\n",
              "Name: UTILITY_AVAIL, dtype: int64"
            ]
          },
          "metadata": {},
          "execution_count": 113
        }
      ]
    },
    {
      "cell_type": "code",
      "source": [
        "#distribution plotting\n",
        "sns.displot(df['UTILITY_AVAIL'])\n",
        "plt.show()"
      ],
      "metadata": {
        "colab": {
          "base_uri": "https://localhost:8080/",
          "height": 369
        },
        "id": "iI-6iOerMcSt",
        "outputId": "84dcc1de-77b3-437f-998f-2c368ae7b9df"
      },
      "execution_count": 114,
      "outputs": [
        {
          "output_type": "display_data",
          "data": {
            "text/plain": [
              "<Figure size 360x360 with 1 Axes>"
            ],
            "image/png": "[encoded data removed]"
          },
          "metadata": {
            "needs_background": "light"
          }
        }
      ]
    },
    {
      "cell_type": "code",
      "source": [
        "df.groupby('UTILITY_AVAIL')['SALES_PRICE'].mean().sort_values().plot.bar()\n",
        "#There is a clear linear relationship between utility availabel and sales price.\n",
        "#we can do label encoding."
      ],
      "metadata": {
        "colab": {
          "base_uri": "https://localhost:8080/",
          "height": 339
        },
        "id": "UAIvSX4WMosa",
        "outputId": "cef7e7dc-3a7d-490b-bed5-af2bf116d6ae"
      },
      "execution_count": 115,
      "outputs": [
        {
          "output_type": "execute_result",
          "data": {
            "text/plain": [
              "<matplotlib.axes._subplots.AxesSubplot at 0x7fe8c406c590>"
            ]
          },
          "metadata": {},
          "execution_count": 115
        },
        {
          "output_type": "display_data",
          "data": {
            "text/plain": [
              "<Figure size 432x288 with 1 Axes>"
            ],
            "image/png": "[encoded data removed]"
          },
          "metadata": {
            "needs_background": "light"
          }
        }
      ]
    },
    {
      "cell_type": "code",
      "source": [
        "df['UTILITY_AVAIL'] = df['UTILITY_AVAIL'].replace({'ELO':0,'NoSeWa':1,'NoSewr':2,'AllPub':3})"
      ],
      "metadata": {
        "id": "osqlP_YeNk2n"
      },
      "execution_count": 116,
      "outputs": []
    },
    {
      "cell_type": "code",
      "source": [
        "df['UTILITY_AVAIL'].value_counts()"
      ],
      "metadata": {
        "colab": {
          "base_uri": "https://localhost:8080/"
        },
        "id": "xmRzIJyoOdS3",
        "outputId": "6b558dd3-227c-4741-f9b3-b544ced39875"
      },
      "execution_count": 117,
      "outputs": [
        {
          "output_type": "execute_result",
          "data": {
            "text/plain": [
              "3    1887\n",
              "1    1871\n",
              "2    1829\n",
              "0    1522\n",
              "Name: UTILITY_AVAIL, dtype: int64"
            ]
          },
          "metadata": {},
          "execution_count": 117
        }
      ]
    },
    {
      "cell_type": "code",
      "source": [
        "# #scatter ploting\n",
        "# sns.scatterplot(x = 'UTILITY_AVAIL',\n",
        "#                 y = 'SALES_PRICE',\n",
        "#                 data = df[['UTILITY_AVAIL','SALES_PRICE']])\n"
      ],
      "metadata": {
        "id": "wr-38o3bNBo4"
      },
      "execution_count": 118,
      "outputs": []
    },
    {
      "cell_type": "code",
      "source": [
        "df.describe()"
      ],
      "metadata": {
        "colab": {
          "base_uri": "https://localhost:8080/",
          "height": 364
        },
        "id": "T_O6cSRONcTI",
        "outputId": "0e3f345c-cf98-4bd7-ca52-203425a3e1e0"
      },
      "execution_count": 119,
      "outputs": [
        {
          "output_type": "execute_result",
          "data": {
            "text/plain": [
              "              AREA     INT_SQFT  DIST_MAINROAD    N_BEDROOM   N_BATHROOM  \\\n",
              "count  7109.000000  7109.000000    7109.000000  7109.000000  7109.000000   \n",
              "mean      2.539738  1382.073006      99.603179     1.636939     1.213110   \n",
              "std       1.846837   457.410902      57.403110     0.802881     0.409534   \n",
              "min       0.000000   500.000000       0.000000     1.000000     1.000000   \n",
              "25%       1.000000   993.000000      50.000000     1.000000     1.000000   \n",
              "50%       2.000000  1373.000000      99.000000     1.000000     1.000000   \n",
              "75%       4.000000  1744.000000     148.000000     2.000000     1.000000   \n",
              "max       6.000000  2500.000000     200.000000     4.000000     2.000000   \n",
              "\n",
              "            N_ROOM    SALE_COND   PARK_FACIL  UTILITY_AVAIL     QS_ROOMS  \\\n",
              "count  7109.000000  7109.000000  7109.000000    7109.000000  7109.000000   \n",
              "mean      3.688704     2.004501     0.504572       1.574061     3.517471   \n",
              "std       1.019099     1.419073     0.500014       1.097156     0.891972   \n",
              "min       2.000000     0.000000     0.000000       0.000000     2.000000   \n",
              "25%       3.000000     1.000000     0.000000       1.000000     2.700000   \n",
              "50%       4.000000     2.000000     1.000000       2.000000     3.500000   \n",
              "75%       4.000000     3.000000     1.000000       3.000000     4.300000   \n",
              "max       6.000000     4.000000     1.000000       3.000000     5.000000   \n",
              "\n",
              "       QS_BATHROOM   QS_BEDROOM   QS_OVERALL        REG_FEE         COMMIS  \\\n",
              "count  7109.000000  7109.000000  7061.000000    7109.000000    7109.000000   \n",
              "mean      3.507244     3.485300     3.503254  376938.330708  141005.726544   \n",
              "std       0.897834     0.887266     0.527223  143070.662010   78768.093718   \n",
              "min       2.000000     2.000000     2.000000   71177.000000    5055.000000   \n",
              "25%       2.700000     2.700000     3.130000  272406.000000   84219.000000   \n",
              "50%       3.500000     3.500000     3.500000  349486.000000  127628.000000   \n",
              "75%       4.300000     4.300000     3.890000  451562.000000  184506.000000   \n",
              "max       5.000000     5.000000     4.970000  983922.000000  495405.000000   \n",
              "\n",
              "        SALES_PRICE          AGE  \n",
              "count  7.109000e+03  7109.000000  \n",
              "mean   1.089491e+07    24.276270  \n",
              "std    3.768603e+06    12.334164  \n",
              "min    2.156875e+06     3.000000  \n",
              "25%    8.272100e+06    14.000000  \n",
              "50%    1.033505e+07    23.000000  \n",
              "75%    1.299390e+07    34.000000  \n",
              "max    2.366734e+07    55.000000  "
            ],
            "text/html": [
              "\n",
              "  <div id=\"df-3eb8abbd-5632-40c1-86af-104d4788bc00\">\n",
              "    <div class=\"colab-df-container\">\n",
              "      <div>\n",
              "<style scoped>\n",
              "    .dataframe tbody tr th:only-of-type {\n",
              "        vertical-align: middle;\n",
              "    }\n",
              "\n",
              "    .dataframe tbody tr th {\n",
              "        vertical-align: top;\n",
              "    }\n",
              "\n",
              "    .dataframe thead th {\n",
              "        text-align: right;\n",
              "    }\n",
              "</style>\n",
              "<table border=\"1\" class=\"dataframe\">\n",
              "  <thead>\n",
              "    <tr style=\"text-align: right;\">\n",
              "      <th></th>\n",
              "      <th>AREA</th>\n",
              "      <th>INT_SQFT</th>\n",
              "      <th>DIST_MAINROAD</th>\n",
              "      <th>N_BEDROOM</th>\n",
              "      <th>N_BATHROOM</th>\n",
              "      <th>N_ROOM</th>\n",
              "      <th>SALE_COND</th>\n",
              "      <th>PARK_FACIL</th>\n",
              "      <th>UTILITY_AVAIL</th>\n",
              "      <th>QS_ROOMS</th>\n",
              "      <th>QS_BATHROOM</th>\n",
              "      <th>QS_BEDROOM</th>\n",
              "      <th>QS_OVERALL</th>\n",
              "      <th>REG_FEE</th>\n",
              "      <th>COMMIS</th>\n",
              "      <th>SALES_PRICE</th>\n",
              "      <th>AGE</th>\n",
              "    </tr>\n",
              "  </thead>\n",
              "  <tbody>\n",
              "    <tr>\n",
              "      <th>count</th>\n",
              "      <td>7109.000000</td>\n",
              "      <td>7109.000000</td>\n",
              "      <td>7109.000000</td>\n",
              "      <td>7109.000000</td>\n",
              "      <td>7109.000000</td>\n",
              "      <td>7109.000000</td>\n",
              "      <td>7109.000000</td>\n",
              "      <td>7109.000000</td>\n",
              "      <td>7109.000000</td>\n",
              "      <td>7109.000000</td>\n",
              "      <td>7109.000000</td>\n",
              "      <td>7109.000000</td>\n",
              "      <td>7061.000000</td>\n",
              "      <td>7109.000000</td>\n",
              "      <td>7109.000000</td>\n",
              "      <td>7.109000e+03</td>\n",
              "      <td>7109.000000</td>\n",
              "    </tr>\n",
              "    <tr>\n",
              "      <th>mean</th>\n",
              "      <td>2.539738</td>\n",
              "      <td>1382.073006</td>\n",
              "      <td>99.603179</td>\n",
              "      <td>1.636939</td>\n",
              "      <td>1.213110</td>\n",
              "      <td>3.688704</td>\n",
              "      <td>2.004501</td>\n",
              "      <td>0.504572</td>\n",
              "      <td>1.574061</td>\n",
              "      <td>3.517471</td>\n",
              "      <td>3.507244</td>\n",
              "      <td>3.485300</td>\n",
              "      <td>3.503254</td>\n",
              "      <td>376938.330708</td>\n",
              "      <td>141005.726544</td>\n",
              "      <td>1.089491e+07</td>\n",
              "      <td>24.276270</td>\n",
              "    </tr>\n",
              "    <tr>\n",
              "      <th>std</th>\n",
              "      <td>1.846837</td>\n",
              "      <td>457.410902</td>\n",
              "      <td>57.403110</td>\n",
              "      <td>0.802881</td>\n",
              "      <td>0.409534</td>\n",
              "      <td>1.019099</td>\n",
              "      <td>1.419073</td>\n",
              "      <td>0.500014</td>\n",
              "      <td>1.097156</td>\n",
              "      <td>0.891972</td>\n",
              "      <td>0.897834</td>\n",
              "      <td>0.887266</td>\n",
              "      <td>0.527223</td>\n",
              "      <td>143070.662010</td>\n",
              "      <td>78768.093718</td>\n",
              "      <td>3.768603e+06</td>\n",
              "      <td>12.334164</td>\n",
              "    </tr>\n",
              "    <tr>\n",
              "      <th>min</th>\n",
              "      <td>0.000000</td>\n",
              "      <td>500.000000</td>\n",
              "      <td>0.000000</td>\n",
              "      <td>1.000000</td>\n",
              "      <td>1.000000</td>\n",
              "      <td>2.000000</td>\n",
              "      <td>0.000000</td>\n",
              "      <td>0.000000</td>\n",
              "      <td>0.000000</td>\n",
              "      <td>2.000000</td>\n",
              "      <td>2.000000</td>\n",
              "      <td>2.000000</td>\n",
              "      <td>2.000000</td>\n",
              "      <td>71177.000000</td>\n",
              "      <td>5055.000000</td>\n",
              "      <td>2.156875e+06</td>\n",
              "      <td>3.000000</td>\n",
              "    </tr>\n",
              "    <tr>\n",
              "      <th>25%</th>\n",
              "      <td>1.000000</td>\n",
              "      <td>993.000000</td>\n",
              "      <td>50.000000</td>\n",
              "      <td>1.000000</td>\n",
              "      <td>1.000000</td>\n",
              "      <td>3.000000</td>\n",
              "      <td>1.000000</td>\n",
              "      <td>0.000000</td>\n",
              "      <td>1.000000</td>\n",
              "      <td>2.700000</td>\n",
              "      <td>2.700000</td>\n",
              "      <td>2.700000</td>\n",
              "      <td>3.130000</td>\n",
              "      <td>272406.000000</td>\n",
              "      <td>84219.000000</td>\n",
              "      <td>8.272100e+06</td>\n",
              "      <td>14.000000</td>\n",
              "    </tr>\n",
              "    <tr>\n",
              "      <th>50%</th>\n",
              "      <td>2.000000</td>\n",
              "      <td>1373.000000</td>\n",
              "      <td>99.000000</td>\n",
              "      <td>1.000000</td>\n",
              "      <td>1.000000</td>\n",
              "      <td>4.000000</td>\n",
              "      <td>2.000000</td>\n",
              "      <td>1.000000</td>\n",
              "      <td>2.000000</td>\n",
              "      <td>3.500000</td>\n",
              "      <td>3.500000</td>\n",
              "      <td>3.500000</td>\n",
              "      <td>3.500000</td>\n",
              "      <td>349486.000000</td>\n",
              "      <td>127628.000000</td>\n",
              "      <td>1.033505e+07</td>\n",
              "      <td>23.000000</td>\n",
              "    </tr>\n",
              "    <tr>\n",
              "      <th>75%</th>\n",
              "      <td>4.000000</td>\n",
              "      <td>1744.000000</td>\n",
              "      <td>148.000000</td>\n",
              "      <td>2.000000</td>\n",
              "      <td>1.000000</td>\n",
              "      <td>4.000000</td>\n",
              "      <td>3.000000</td>\n",
              "      <td>1.000000</td>\n",
              "      <td>3.000000</td>\n",
              "      <td>4.300000</td>\n",
              "      <td>4.300000</td>\n",
              "      <td>4.300000</td>\n",
              "      <td>3.890000</td>\n",
              "      <td>451562.000000</td>\n",
              "      <td>184506.000000</td>\n",
              "      <td>1.299390e+07</td>\n",
              "      <td>34.000000</td>\n",
              "    </tr>\n",
              "    <tr>\n",
              "      <th>max</th>\n",
              "      <td>6.000000</td>\n",
              "      <td>2500.000000</td>\n",
              "      <td>200.000000</td>\n",
              "      <td>4.000000</td>\n",
              "      <td>2.000000</td>\n",
              "      <td>6.000000</td>\n",
              "      <td>4.000000</td>\n",
              "      <td>1.000000</td>\n",
              "      <td>3.000000</td>\n",
              "      <td>5.000000</td>\n",
              "      <td>5.000000</td>\n",
              "      <td>5.000000</td>\n",
              "      <td>4.970000</td>\n",
              "      <td>983922.000000</td>\n",
              "      <td>495405.000000</td>\n",
              "      <td>2.366734e+07</td>\n",
              "      <td>55.000000</td>\n",
              "    </tr>\n",
              "  </tbody>\n",
              "</table>\n",
              "</div>\n",
              "      <button class=\"colab-df-convert\" onclick=\"convertToInteractive('df-3eb8abbd-5632-40c1-86af-104d4788bc00')\"\n",
              "              title=\"Convert this dataframe to an interactive table.\"\n",
              "              style=\"display:none;\">\n",
              "        \n",
              "  <svg xmlns=\"http://www.w3.org/2000/svg\" height=\"24px\"viewBox=\"0 0 24 24\"\n",
              "       width=\"24px\">\n",
              "    <path d=\"M0 0h24v24H0V0z\" fill=\"none\"/>\n",
              "    <path d=\"M18.56 5.44l.94 2.06.94-2.06 2.06-.94-2.06-.94-.94-2.06-.94 2.06-2.06.94zm-11 1L8.5 8.5l.94-2.06 2.06-.94-2.06-.94L8.5 2.5l-.94 2.06-2.06.94zm10 10l.94 2.06.94-2.06 2.06-.94-2.06-.94-.94-2.06-.94 2.06-2.06.94z\"/><path d=\"M17.41 7.96l-1.37-1.37c-.4-.4-.92-.59-1.43-.59-.52 0-1.04.2-1.43.59L10.3 9.45l-7.72 7.72c-.78.78-.78 2.05 0 2.83L4 21.41c.39.39.9.59 1.41.59.51 0 1.02-.2 1.41-.59l7.78-7.78 2.81-2.81c.8-.78.8-2.07 0-2.86zM5.41 20L4 18.59l7.72-7.72 1.47 1.35L5.41 20z\"/>\n",
              "  </svg>\n",
              "      </button>\n",
              "      \n",
              "  <style>\n",
              "    .colab-df-container {\n",
              "      display:flex;\n",
              "      flex-wrap:wrap;\n",
              "      gap: 12px;\n",
              "    }\n",
              "\n",
              "    .colab-df-convert {\n",
              "      background-color: #E8F0FE;\n",
              "      border: none;\n",
              "      border-radius: 50%;\n",
              "      cursor: pointer;\n",
              "      display: none;\n",
              "      fill: #1967D2;\n",
              "      height: 32px;\n",
              "      padding: 0 0 0 0;\n",
              "      width: 32px;\n",
              "    }\n",
              "\n",
              "    .colab-df-convert:hover {\n",
              "      background-color: #E2EBFA;\n",
              "      box-shadow: 0px 1px 2px rgba(60, 64, 67, 0.3), 0px 1px 3px 1px rgba(60, 64, 67, 0.15);\n",
              "      fill: #174EA6;\n",
              "    }\n",
              "\n",
              "    [theme=dark] .colab-df-convert {\n",
              "      background-color: #3B4455;\n",
              "      fill: #D2E3FC;\n",
              "    }\n",
              "\n",
              "    [theme=dark] .colab-df-convert:hover {\n",
              "      background-color: #434B5C;\n",
              "      box-shadow: 0px 1px 3px 1px rgba(0, 0, 0, 0.15);\n",
              "      filter: drop-shadow(0px 1px 2px rgba(0, 0, 0, 0.3));\n",
              "      fill: #FFFFFF;\n",
              "    }\n",
              "  </style>\n",
              "\n",
              "      <script>\n",
              "        const buttonEl =\n",
              "          document.querySelector('#df-3eb8abbd-5632-40c1-86af-104d4788bc00 button.colab-df-convert');\n",
              "        buttonEl.style.display =\n",
              "          google.colab.kernel.accessAllowed ? 'block' : 'none';\n",
              "\n",
              "        async function convertToInteractive(key) {\n",
              "          const element = document.querySelector('#df-3eb8abbd-5632-40c1-86af-104d4788bc00');\n",
              "          const dataTable =\n",
              "            await google.colab.kernel.invokeFunction('convertToInteractive',\n",
              "                                                     [key], {});\n",
              "          if (!dataTable) return;\n",
              "\n",
              "          const docLinkHtml = 'Like what you see? Visit the ' +\n",
              "            '<a target=\"_blank\" href=https://colab.research.google.com/notebooks/data_table.ipynb>data table notebook</a>'\n",
              "            + ' to learn more about interactive tables.';\n",
              "          element.innerHTML = '';\n",
              "          dataTable['output_type'] = 'display_data';\n",
              "          await google.colab.output.renderOutput(dataTable, element);\n",
              "          const docLink = document.createElement('div');\n",
              "          docLink.innerHTML = docLinkHtml;\n",
              "          element.appendChild(docLink);\n",
              "        }\n",
              "      </script>\n",
              "    </div>\n",
              "  </div>\n",
              "  "
            ]
          },
          "metadata": {},
          "execution_count": 119
        }
      ]
    },
    {
      "cell_type": "code",
      "source": [
        "df.info()"
      ],
      "metadata": {
        "colab": {
          "base_uri": "https://localhost:8080/"
        },
        "id": "3ACUI0IBSdvT",
        "outputId": "d8a256c1-8860-46df-fbc3-96459c79e4b4"
      },
      "execution_count": 120,
      "outputs": [
        {
          "output_type": "stream",
          "name": "stdout",
          "text": [
            "<class 'pandas.core.frame.DataFrame'>\n",
            "RangeIndex: 7109 entries, 0 to 7108\n",
            "Data columns (total 20 columns):\n",
            " #   Column         Non-Null Count  Dtype  \n",
            "---  ------         --------------  -----  \n",
            " 0   AREA           7109 non-null   int64  \n",
            " 1   INT_SQFT       7109 non-null   int64  \n",
            " 2   DIST_MAINROAD  7109 non-null   int64  \n",
            " 3   N_BEDROOM      7109 non-null   int64  \n",
            " 4   N_BATHROOM     7109 non-null   int64  \n",
            " 5   N_ROOM         7109 non-null   int64  \n",
            " 6   SALE_COND      7109 non-null   int64  \n",
            " 7   PARK_FACIL     7109 non-null   int64  \n",
            " 8   BUILDTYPE      7109 non-null   object \n",
            " 9   UTILITY_AVAIL  7109 non-null   int64  \n",
            " 10  STREET         7109 non-null   object \n",
            " 11  MZZONE         7109 non-null   object \n",
            " 12  QS_ROOMS       7109 non-null   float64\n",
            " 13  QS_BATHROOM    7109 non-null   float64\n",
            " 14  QS_BEDROOM     7109 non-null   float64\n",
            " 15  QS_OVERALL     7061 non-null   float64\n",
            " 16  REG_FEE        7109 non-null   int64  \n",
            " 17  COMMIS         7109 non-null   int64  \n",
            " 18  SALES_PRICE    7109 non-null   int64  \n",
            " 19  AGE            7109 non-null   int64  \n",
            "dtypes: float64(4), int64(13), object(3)\n",
            "memory usage: 1.1+ MB\n"
          ]
        }
      ]
    },
    {
      "cell_type": "markdown",
      "source": [
        "#@ STREET column"
      ],
      "metadata": {
        "id": "G5ytowpKTC6_"
      }
    },
    {
      "cell_type": "code",
      "source": [
        "df['STREET'].values"
      ],
      "metadata": {
        "colab": {
          "base_uri": "https://localhost:8080/"
        },
        "id": "5eo0zNF2TCIv",
        "outputId": "43f77108-a212-49a5-f0e3-bde128c18a25"
      },
      "execution_count": 121,
      "outputs": [
        {
          "output_type": "execute_result",
          "data": {
            "text/plain": [
              "array(['Paved', 'Gravel', 'Gravel', ..., 'Gravel', 'Paved', 'Paved'],\n",
              "      dtype=object)"
            ]
          },
          "metadata": {},
          "execution_count": 121
        }
      ]
    },
    {
      "cell_type": "code",
      "source": [
        "df['STREET'].unique()"
      ],
      "metadata": {
        "colab": {
          "base_uri": "https://localhost:8080/"
        },
        "id": "2UpLwj5fTN9s",
        "outputId": "8de8ee2a-5df8-4edf-975a-3aaaf91d161c"
      },
      "execution_count": 122,
      "outputs": [
        {
          "output_type": "execute_result",
          "data": {
            "text/plain": [
              "array(['Paved', 'Gravel', 'No Access', 'Pavd', 'NoAccess'], dtype=object)"
            ]
          },
          "metadata": {},
          "execution_count": 122
        }
      ]
    },
    {
      "cell_type": "code",
      "source": [
        "df['STREET'] = df['STREET'].replace({'Pavd':'Paved','No Access':'NoAccess'})"
      ],
      "metadata": {
        "id": "FMH4ko1iTUPP"
      },
      "execution_count": 123,
      "outputs": []
    },
    {
      "cell_type": "code",
      "source": [
        "df['STREET'].value_counts()"
      ],
      "metadata": {
        "colab": {
          "base_uri": "https://localhost:8080/"
        },
        "id": "r5muav99TqT7",
        "outputId": "b763acc3-e1e6-4204-8750-86efbaf7658f"
      },
      "execution_count": 124,
      "outputs": [
        {
          "output_type": "execute_result",
          "data": {
            "text/plain": [
              "Paved       2572\n",
              "Gravel      2520\n",
              "NoAccess    2017\n",
              "Name: STREET, dtype: int64"
            ]
          },
          "metadata": {},
          "execution_count": 124
        }
      ]
    },
    {
      "cell_type": "code",
      "source": [
        "#distribution plot\n",
        "sns.displot(df['STREET'])\n",
        "plt.show()\n",
        "# Paved street are sold more number of times."
      ],
      "metadata": {
        "colab": {
          "base_uri": "https://localhost:8080/",
          "height": 369
        },
        "id": "82-BCTzHTuXk",
        "outputId": "b0f9ffa0-fa82-4543-ed3b-a9846da84534"
      },
      "execution_count": 125,
      "outputs": [
        {
          "output_type": "display_data",
          "data": {
            "text/plain": [
              "<Figure size 360x360 with 1 Axes>"
            ],
            "image/png": "[encoded data removed]"
          },
          "metadata": {
            "needs_background": "light"
          }
        }
      ]
    },
    {
      "cell_type": "code",
      "source": [
        "#finding relation between street type and sales price.\n",
        "df.groupby('STREET')['SALES_PRICE'].mean().sort_values().plot.bar()\n",
        "#There is a linear relation between street type and sales price\n",
        "#We can label encode them"
      ],
      "metadata": {
        "colab": {
          "base_uri": "https://localhost:8080/",
          "height": 345
        },
        "id": "wcog7HChT9FW",
        "outputId": "7107f2a5-c019-4fd5-824d-557307d957e4"
      },
      "execution_count": 126,
      "outputs": [
        {
          "output_type": "execute_result",
          "data": {
            "text/plain": [
              "<matplotlib.axes._subplots.AxesSubplot at 0x7fe8c3ac0850>"
            ]
          },
          "metadata": {},
          "execution_count": 126
        },
        {
          "output_type": "display_data",
          "data": {
            "text/plain": [
              "<Figure size 432x288 with 1 Axes>"
            ],
            "image/png": "[encoded data removed]"
          },
          "metadata": {
            "needs_background": "light"
          }
        }
      ]
    },
    {
      "cell_type": "code",
      "source": [
        "df['STREET'] = df['STREET'].replace({'NoAccess':0,'Paved':1,'Gravel':2})"
      ],
      "metadata": {
        "id": "wW2OzFa5UgY2"
      },
      "execution_count": 127,
      "outputs": []
    },
    {
      "cell_type": "code",
      "source": [
        "df['STREET'].value_counts()"
      ],
      "metadata": {
        "colab": {
          "base_uri": "https://localhost:8080/"
        },
        "id": "YgzRYH2vUumH",
        "outputId": "503dca5a-5cdb-4b67-d2dd-746bcc9fe39b"
      },
      "execution_count": 128,
      "outputs": [
        {
          "output_type": "execute_result",
          "data": {
            "text/plain": [
              "1    2572\n",
              "2    2520\n",
              "0    2017\n",
              "Name: STREET, dtype: int64"
            ]
          },
          "metadata": {},
          "execution_count": 128
        }
      ]
    },
    {
      "cell_type": "markdown",
      "source": [
        "#@ MZZONE column"
      ],
      "metadata": {
        "id": "0ezwqZIUU2hG"
      }
    },
    {
      "cell_type": "code",
      "source": [
        "df['MZZONE'].values"
      ],
      "metadata": {
        "colab": {
          "base_uri": "https://localhost:8080/"
        },
        "id": "NCu66aLbU7W5",
        "outputId": "553f5ab6-41e1-40ae-d2e6-bd61666bbcdf"
      },
      "execution_count": 129,
      "outputs": [
        {
          "output_type": "execute_result",
          "data": {
            "text/plain": [
              "array(['A', 'RH', 'RL', ..., 'I', 'RL', 'I'], dtype=object)"
            ]
          },
          "metadata": {},
          "execution_count": 129
        }
      ]
    },
    {
      "cell_type": "code",
      "source": [
        "df['MZZONE'].unique()"
      ],
      "metadata": {
        "colab": {
          "base_uri": "https://localhost:8080/"
        },
        "id": "W6rOmarMVBDy",
        "outputId": "61ce331b-3ecb-4fab-db9d-96641da4330e"
      },
      "execution_count": 130,
      "outputs": [
        {
          "output_type": "execute_result",
          "data": {
            "text/plain": [
              "array(['A', 'RH', 'RL', 'I', 'C', 'RM'], dtype=object)"
            ]
          },
          "metadata": {},
          "execution_count": 130
        }
      ]
    },
    {
      "cell_type": "code",
      "source": [
        "df['MZZONE'].isna().sum() #There are null values in 'MZZONE' column."
      ],
      "metadata": {
        "colab": {
          "base_uri": "https://localhost:8080/"
        },
        "id": "L4QcBmD7VEHb",
        "outputId": "bb0b6f57-c4cf-40b4-da36-a48acea0847a"
      },
      "execution_count": 131,
      "outputs": [
        {
          "output_type": "execute_result",
          "data": {
            "text/plain": [
              "0"
            ]
          },
          "metadata": {},
          "execution_count": 131
        }
      ]
    },
    {
      "cell_type": "code",
      "source": [
        "#distribution plot\n",
        "sns.displot(df['MZZONE'])\n",
        "plt.show()"
      ],
      "metadata": {
        "colab": {
          "base_uri": "https://localhost:8080/",
          "height": 369
        },
        "id": "6yqgMPfgVO8K",
        "outputId": "544d90aa-a55b-41ef-f4d1-1db1c6e38eef"
      },
      "execution_count": 132,
      "outputs": [
        {
          "output_type": "display_data",
          "data": {
            "text/plain": [
              "<Figure size 360x360 with 1 Axes>"
            ],
            "image/png": "[encoded data removed]"
          },
          "metadata": {
            "needs_background": "light"
          }
        }
      ]
    },
    {
      "cell_type": "code",
      "source": [
        "#Finding relationship between 'MZZONE' and sales price of the building.\n",
        "df.groupby('MZZONE')['SALES_PRICE'].mean().sort_values().plot.bar()\n",
        "\n",
        "#There is a linear relationship between 'MZZONE' and sales price of the building\n",
        "#we can label encode this column"
      ],
      "metadata": {
        "colab": {
          "base_uri": "https://localhost:8080/",
          "height": 313
        },
        "id": "3IgpgrPEVbnb",
        "outputId": "e02a7db4-fa33-40f6-d257-a0691c1639f4"
      },
      "execution_count": 133,
      "outputs": [
        {
          "output_type": "execute_result",
          "data": {
            "text/plain": [
              "<matplotlib.axes._subplots.AxesSubplot at 0x7fe8c17b36d0>"
            ]
          },
          "metadata": {},
          "execution_count": 133
        },
        {
          "output_type": "display_data",
          "data": {
            "text/plain": [
              "<Figure size 432x288 with 1 Axes>"
            ],
            "image/png": "[encoded data removed]"
          },
          "metadata": {
            "needs_background": "light"
          }
        }
      ]
    },
    {
      "cell_type": "code",
      "source": [
        "df['MZZONE'] = df['MZZONE'].replace({'A':0,'C':1,'I':2,'RH':3,'RL':4,'RM':5})"
      ],
      "metadata": {
        "id": "FzXdniEeV7Ug"
      },
      "execution_count": 134,
      "outputs": []
    },
    {
      "cell_type": "code",
      "source": [
        "df['MZZONE'].value_counts()"
      ],
      "metadata": {
        "colab": {
          "base_uri": "https://localhost:8080/"
        },
        "id": "5xNpOYmLWify",
        "outputId": "1ddb09af-5b0f-41e6-94aa-ceb9ac9d00b4"
      },
      "execution_count": 135,
      "outputs": [
        {
          "output_type": "execute_result",
          "data": {
            "text/plain": [
              "4    1858\n",
              "3    1822\n",
              "5    1817\n",
              "1     550\n",
              "0     537\n",
              "2     525\n",
              "Name: MZZONE, dtype: int64"
            ]
          },
          "metadata": {},
          "execution_count": 135
        }
      ]
    },
    {
      "cell_type": "markdown",
      "source": [
        "#@ QS_ROOMS column"
      ],
      "metadata": {
        "id": "GiAOiaAoXOZu"
      }
    },
    {
      "cell_type": "code",
      "source": [
        "df['QS_ROOMS'].values"
      ],
      "metadata": {
        "colab": {
          "base_uri": "https://localhost:8080/"
        },
        "id": "4FVzkywnWmmd",
        "outputId": "2a38cf91-3b2d-491d-efb5-811f7ad0b484"
      },
      "execution_count": 136,
      "outputs": [
        {
          "output_type": "execute_result",
          "data": {
            "text/plain": [
              "array([4. , 4.9, 4.1, ..., 4.3, 4.6, 3.1])"
            ]
          },
          "metadata": {},
          "execution_count": 136
        }
      ]
    },
    {
      "cell_type": "code",
      "source": [
        "df['QS_ROOMS'].isna().sum() #There is no null in this column."
      ],
      "metadata": {
        "colab": {
          "base_uri": "https://localhost:8080/"
        },
        "id": "VHNeI3nsU0j0",
        "outputId": "e0e060aa-e837-4374-98fc-f07e62e432ec"
      },
      "execution_count": 137,
      "outputs": [
        {
          "output_type": "execute_result",
          "data": {
            "text/plain": [
              "0"
            ]
          },
          "metadata": {},
          "execution_count": 137
        }
      ]
    },
    {
      "cell_type": "code",
      "source": [
        "#distribution plot\n",
        "sns.displot(df['QS_ROOMS'])\n",
        "plt.show()"
      ],
      "metadata": {
        "colab": {
          "base_uri": "https://localhost:8080/",
          "height": 369
        },
        "id": "bdCSGq6tXRLO",
        "outputId": "4b9d3521-303e-4203-aa08-be849df76e40"
      },
      "execution_count": 138,
      "outputs": [
        {
          "output_type": "display_data",
          "data": {
            "text/plain": [
              "<Figure size 360x360 with 1 Axes>"
            ],
            "image/png": "[encoded data removed]"
          },
          "metadata": {
            "needs_background": "light"
          }
        }
      ]
    },
    {
      "cell_type": "code",
      "source": [
        "sns.scatterplot(x = 'QS_ROOMS',\n",
        "                y = 'SALES_PRICE',\n",
        "                data = df[['QS_ROOMS','SALES_PRICE']])\n"
      ],
      "metadata": {
        "colab": {
          "base_uri": "https://localhost:8080/",
          "height": 308
        },
        "id": "szSW4ZNIW8CG",
        "outputId": "4cee26c1-2e77-42d6-8661-b6e4985f675f"
      },
      "execution_count": 139,
      "outputs": [
        {
          "output_type": "execute_result",
          "data": {
            "text/plain": [
              "<matplotlib.axes._subplots.AxesSubplot at 0x7fe8c16a0810>"
            ]
          },
          "metadata": {},
          "execution_count": 139
        },
        {
          "output_type": "display_data",
          "data": {
            "text/plain": [
              "<Figure size 432x288 with 1 Axes>"
            ],
            "image/png": "[encoded data removed]"
          },
          "metadata": {
            "needs_background": "light"
          }
        }
      ]
    },
    {
      "cell_type": "code",
      "source": [
        "#Finding if there is a correlation between 'QS_ROOMS' and sales price.\n",
        "df[['QS_ROOMS','SALES_PRICE']].corr()"
      ],
      "metadata": {
        "colab": {
          "base_uri": "https://localhost:8080/",
          "height": 112
        },
        "id": "JYgdYOt6Xhb7",
        "outputId": "6d81c4cd-a3d0-49f2-9594-7d52eb69a95f"
      },
      "execution_count": 140,
      "outputs": [
        {
          "output_type": "execute_result",
          "data": {
            "text/plain": [
              "             QS_ROOMS  SALES_PRICE\n",
              "QS_ROOMS     1.000000     0.021967\n",
              "SALES_PRICE  0.021967     1.000000"
            ],
            "text/html": [
              "\n",
              "  <div id=\"df-facba12a-d786-4d2d-9868-ca770916cb8f\">\n",
              "    <div class=\"colab-df-container\">\n",
              "      <div>\n",
              "<style scoped>\n",
              "    .dataframe tbody tr th:only-of-type {\n",
              "        vertical-align: middle;\n",
              "    }\n",
              "\n",
              "    .dataframe tbody tr th {\n",
              "        vertical-align: top;\n",
              "    }\n",
              "\n",
              "    .dataframe thead th {\n",
              "        text-align: right;\n",
              "    }\n",
              "</style>\n",
              "<table border=\"1\" class=\"dataframe\">\n",
              "  <thead>\n",
              "    <tr style=\"text-align: right;\">\n",
              "      <th></th>\n",
              "      <th>QS_ROOMS</th>\n",
              "      <th>SALES_PRICE</th>\n",
              "    </tr>\n",
              "  </thead>\n",
              "  <tbody>\n",
              "    <tr>\n",
              "      <th>QS_ROOMS</th>\n",
              "      <td>1.000000</td>\n",
              "      <td>0.021967</td>\n",
              "    </tr>\n",
              "    <tr>\n",
              "      <th>SALES_PRICE</th>\n",
              "      <td>0.021967</td>\n",
              "      <td>1.000000</td>\n",
              "    </tr>\n",
              "  </tbody>\n",
              "</table>\n",
              "</div>\n",
              "      <button class=\"colab-df-convert\" onclick=\"convertToInteractive('df-facba12a-d786-4d2d-9868-ca770916cb8f')\"\n",
              "              title=\"Convert this dataframe to an interactive table.\"\n",
              "              style=\"display:none;\">\n",
              "        \n",
              "  <svg xmlns=\"http://www.w3.org/2000/svg\" height=\"24px\"viewBox=\"0 0 24 24\"\n",
              "       width=\"24px\">\n",
              "    <path d=\"M0 0h24v24H0V0z\" fill=\"none\"/>\n",
              "    <path d=\"M18.56 5.44l.94 2.06.94-2.06 2.06-.94-2.06-.94-.94-2.06-.94 2.06-2.06.94zm-11 1L8.5 8.5l.94-2.06 2.06-.94-2.06-.94L8.5 2.5l-.94 2.06-2.06.94zm10 10l.94 2.06.94-2.06 2.06-.94-2.06-.94-.94-2.06-.94 2.06-2.06.94z\"/><path d=\"M17.41 7.96l-1.37-1.37c-.4-.4-.92-.59-1.43-.59-.52 0-1.04.2-1.43.59L10.3 9.45l-7.72 7.72c-.78.78-.78 2.05 0 2.83L4 21.41c.39.39.9.59 1.41.59.51 0 1.02-.2 1.41-.59l7.78-7.78 2.81-2.81c.8-.78.8-2.07 0-2.86zM5.41 20L4 18.59l7.72-7.72 1.47 1.35L5.41 20z\"/>\n",
              "  </svg>\n",
              "      </button>\n",
              "      \n",
              "  <style>\n",
              "    .colab-df-container {\n",
              "      display:flex;\n",
              "      flex-wrap:wrap;\n",
              "      gap: 12px;\n",
              "    }\n",
              "\n",
              "    .colab-df-convert {\n",
              "      background-color: #E8F0FE;\n",
              "      border: none;\n",
              "      border-radius: 50%;\n",
              "      cursor: pointer;\n",
              "      display: none;\n",
              "      fill: #1967D2;\n",
              "      height: 32px;\n",
              "      padding: 0 0 0 0;\n",
              "      width: 32px;\n",
              "    }\n",
              "\n",
              "    .colab-df-convert:hover {\n",
              "      background-color: #E2EBFA;\n",
              "      box-shadow: 0px 1px 2px rgba(60, 64, 67, 0.3), 0px 1px 3px 1px rgba(60, 64, 67, 0.15);\n",
              "      fill: #174EA6;\n",
              "    }\n",
              "\n",
              "    [theme=dark] .colab-df-convert {\n",
              "      background-color: #3B4455;\n",
              "      fill: #D2E3FC;\n",
              "    }\n",
              "\n",
              "    [theme=dark] .colab-df-convert:hover {\n",
              "      background-color: #434B5C;\n",
              "      box-shadow: 0px 1px 3px 1px rgba(0, 0, 0, 0.15);\n",
              "      filter: drop-shadow(0px 1px 2px rgba(0, 0, 0, 0.3));\n",
              "      fill: #FFFFFF;\n",
              "    }\n",
              "  </style>\n",
              "\n",
              "      <script>\n",
              "        const buttonEl =\n",
              "          document.querySelector('#df-facba12a-d786-4d2d-9868-ca770916cb8f button.colab-df-convert');\n",
              "        buttonEl.style.display =\n",
              "          google.colab.kernel.accessAllowed ? 'block' : 'none';\n",
              "\n",
              "        async function convertToInteractive(key) {\n",
              "          const element = document.querySelector('#df-facba12a-d786-4d2d-9868-ca770916cb8f');\n",
              "          const dataTable =\n",
              "            await google.colab.kernel.invokeFunction('convertToInteractive',\n",
              "                                                     [key], {});\n",
              "          if (!dataTable) return;\n",
              "\n",
              "          const docLinkHtml = 'Like what you see? Visit the ' +\n",
              "            '<a target=\"_blank\" href=https://colab.research.google.com/notebooks/data_table.ipynb>data table notebook</a>'\n",
              "            + ' to learn more about interactive tables.';\n",
              "          element.innerHTML = '';\n",
              "          dataTable['output_type'] = 'display_data';\n",
              "          await google.colab.output.renderOutput(dataTable, element);\n",
              "          const docLink = document.createElement('div');\n",
              "          docLink.innerHTML = docLinkHtml;\n",
              "          element.appendChild(docLink);\n",
              "        }\n",
              "      </script>\n",
              "    </div>\n",
              "  </div>\n",
              "  "
            ]
          },
          "metadata": {},
          "execution_count": 140
        }
      ]
    },
    {
      "cell_type": "code",
      "source": [
        "df['QS_BATHROOM'].values"
      ],
      "metadata": {
        "colab": {
          "base_uri": "https://localhost:8080/"
        },
        "id": "q2F-t6YBYSWe",
        "outputId": "717147d5-39ea-4b85-d38a-57f0e52c2283"
      },
      "execution_count": 141,
      "outputs": [
        {
          "output_type": "execute_result",
          "data": {
            "text/plain": [
              "array([3.9, 4.2, 3.8, ..., 4.2, 3.8, 3.5])"
            ]
          },
          "metadata": {},
          "execution_count": 141
        }
      ]
    },
    {
      "cell_type": "code",
      "source": [
        "df['QS_BATHROOM'].isna().sum() #There are no null values in these column."
      ],
      "metadata": {
        "colab": {
          "base_uri": "https://localhost:8080/"
        },
        "id": "voo0fnN8YrKC",
        "outputId": "5269d02f-78d4-4ccc-8e10-b3fdd86c8764"
      },
      "execution_count": 142,
      "outputs": [
        {
          "output_type": "execute_result",
          "data": {
            "text/plain": [
              "0"
            ]
          },
          "metadata": {},
          "execution_count": 142
        }
      ]
    },
    {
      "cell_type": "code",
      "source": [
        "#distribution plot\n",
        "sns.displot(df['QS_BATHROOM'])\n",
        "plt.show()"
      ],
      "metadata": {
        "colab": {
          "base_uri": "https://localhost:8080/",
          "height": 369
        },
        "id": "tMXlA4w6Y06r",
        "outputId": "5fa97b11-7833-4f39-8664-25f6a47e1a99"
      },
      "execution_count": 143,
      "outputs": [
        {
          "output_type": "display_data",
          "data": {
            "text/plain": [
              "<Figure size 360x360 with 1 Axes>"
            ],
            "image/png": "[encoded data removed]"
          },
          "metadata": {
            "needs_background": "light"
          }
        }
      ]
    },
    {
      "cell_type": "code",
      "source": [
        "sns.scatterplot(x = 'QS_BATHROOM',\n",
        "                y = 'SALES_PRICE',\n",
        "                data = df[['QS_BATHROOM','SALES_PRICE']])"
      ],
      "metadata": {
        "colab": {
          "base_uri": "https://localhost:8080/",
          "height": 308
        },
        "id": "-DY5_y_BY_WF",
        "outputId": "eefc08e5-883b-4a62-a408-7d762985db90"
      },
      "execution_count": 144,
      "outputs": [
        {
          "output_type": "execute_result",
          "data": {
            "text/plain": [
              "<matplotlib.axes._subplots.AxesSubplot at 0x7fe8c1572250>"
            ]
          },
          "metadata": {},
          "execution_count": 144
        },
        {
          "output_type": "display_data",
          "data": {
            "text/plain": [
              "<Figure size 432x288 with 1 Axes>"
            ],
            "image/png": "[encoded data removed]"
          },
          "metadata": {
            "needs_background": "light"
          }
        }
      ]
    },
    {
      "cell_type": "code",
      "source": [
        "df[['QS_BATHROOM','SALES_PRICE']].corr()"
      ],
      "metadata": {
        "colab": {
          "base_uri": "https://localhost:8080/",
          "height": 112
        },
        "id": "hHmhorvoZFpB",
        "outputId": "b437200b-afa8-48bb-8348-ed67080222cc"
      },
      "execution_count": 145,
      "outputs": [
        {
          "output_type": "execute_result",
          "data": {
            "text/plain": [
              "             QS_BATHROOM  SALES_PRICE\n",
              "QS_BATHROOM     1.000000    -0.011377\n",
              "SALES_PRICE    -0.011377     1.000000"
            ],
            "text/html": [
              "\n",
              "  <div id=\"df-7522bf8a-c380-4211-af00-78a34f0a898e\">\n",
              "    <div class=\"colab-df-container\">\n",
              "      <div>\n",
              "<style scoped>\n",
              "    .dataframe tbody tr th:only-of-type {\n",
              "        vertical-align: middle;\n",
              "    }\n",
              "\n",
              "    .dataframe tbody tr th {\n",
              "        vertical-align: top;\n",
              "    }\n",
              "\n",
              "    .dataframe thead th {\n",
              "        text-align: right;\n",
              "    }\n",
              "</style>\n",
              "<table border=\"1\" class=\"dataframe\">\n",
              "  <thead>\n",
              "    <tr style=\"text-align: right;\">\n",
              "      <th></th>\n",
              "      <th>QS_BATHROOM</th>\n",
              "      <th>SALES_PRICE</th>\n",
              "    </tr>\n",
              "  </thead>\n",
              "  <tbody>\n",
              "    <tr>\n",
              "      <th>QS_BATHROOM</th>\n",
              "      <td>1.000000</td>\n",
              "      <td>-0.011377</td>\n",
              "    </tr>\n",
              "    <tr>\n",
              "      <th>SALES_PRICE</th>\n",
              "      <td>-0.011377</td>\n",
              "      <td>1.000000</td>\n",
              "    </tr>\n",
              "  </tbody>\n",
              "</table>\n",
              "</div>\n",
              "      <button class=\"colab-df-convert\" onclick=\"convertToInteractive('df-7522bf8a-c380-4211-af00-78a34f0a898e')\"\n",
              "              title=\"Convert this dataframe to an interactive table.\"\n",
              "              style=\"display:none;\">\n",
              "        \n",
              "  <svg xmlns=\"http://www.w3.org/2000/svg\" height=\"24px\"viewBox=\"0 0 24 24\"\n",
              "       width=\"24px\">\n",
              "    <path d=\"M0 0h24v24H0V0z\" fill=\"none\"/>\n",
              "    <path d=\"M18.56 5.44l.94 2.06.94-2.06 2.06-.94-2.06-.94-.94-2.06-.94 2.06-2.06.94zm-11 1L8.5 8.5l.94-2.06 2.06-.94-2.06-.94L8.5 2.5l-.94 2.06-2.06.94zm10 10l.94 2.06.94-2.06 2.06-.94-2.06-.94-.94-2.06-.94 2.06-2.06.94z\"/><path d=\"M17.41 7.96l-1.37-1.37c-.4-.4-.92-.59-1.43-.59-.52 0-1.04.2-1.43.59L10.3 9.45l-7.72 7.72c-.78.78-.78 2.05 0 2.83L4 21.41c.39.39.9.59 1.41.59.51 0 1.02-.2 1.41-.59l7.78-7.78 2.81-2.81c.8-.78.8-2.07 0-2.86zM5.41 20L4 18.59l7.72-7.72 1.47 1.35L5.41 20z\"/>\n",
              "  </svg>\n",
              "      </button>\n",
              "      \n",
              "  <style>\n",
              "    .colab-df-container {\n",
              "      display:flex;\n",
              "      flex-wrap:wrap;\n",
              "      gap: 12px;\n",
              "    }\n",
              "\n",
              "    .colab-df-convert {\n",
              "      background-color: #E8F0FE;\n",
              "      border: none;\n",
              "      border-radius: 50%;\n",
              "      cursor: pointer;\n",
              "      display: none;\n",
              "      fill: #1967D2;\n",
              "      height: 32px;\n",
              "      padding: 0 0 0 0;\n",
              "      width: 32px;\n",
              "    }\n",
              "\n",
              "    .colab-df-convert:hover {\n",
              "      background-color: #E2EBFA;\n",
              "      box-shadow: 0px 1px 2px rgba(60, 64, 67, 0.3), 0px 1px 3px 1px rgba(60, 64, 67, 0.15);\n",
              "      fill: #174EA6;\n",
              "    }\n",
              "\n",
              "    [theme=dark] .colab-df-convert {\n",
              "      background-color: #3B4455;\n",
              "      fill: #D2E3FC;\n",
              "    }\n",
              "\n",
              "    [theme=dark] .colab-df-convert:hover {\n",
              "      background-color: #434B5C;\n",
              "      box-shadow: 0px 1px 3px 1px rgba(0, 0, 0, 0.15);\n",
              "      filter: drop-shadow(0px 1px 2px rgba(0, 0, 0, 0.3));\n",
              "      fill: #FFFFFF;\n",
              "    }\n",
              "  </style>\n",
              "\n",
              "      <script>\n",
              "        const buttonEl =\n",
              "          document.querySelector('#df-7522bf8a-c380-4211-af00-78a34f0a898e button.colab-df-convert');\n",
              "        buttonEl.style.display =\n",
              "          google.colab.kernel.accessAllowed ? 'block' : 'none';\n",
              "\n",
              "        async function convertToInteractive(key) {\n",
              "          const element = document.querySelector('#df-7522bf8a-c380-4211-af00-78a34f0a898e');\n",
              "          const dataTable =\n",
              "            await google.colab.kernel.invokeFunction('convertToInteractive',\n",
              "                                                     [key], {});\n",
              "          if (!dataTable) return;\n",
              "\n",
              "          const docLinkHtml = 'Like what you see? Visit the ' +\n",
              "            '<a target=\"_blank\" href=https://colab.research.google.com/notebooks/data_table.ipynb>data table notebook</a>'\n",
              "            + ' to learn more about interactive tables.';\n",
              "          element.innerHTML = '';\n",
              "          dataTable['output_type'] = 'display_data';\n",
              "          await google.colab.output.renderOutput(dataTable, element);\n",
              "          const docLink = document.createElement('div');\n",
              "          docLink.innerHTML = docLinkHtml;\n",
              "          element.appendChild(docLink);\n",
              "        }\n",
              "      </script>\n",
              "    </div>\n",
              "  </div>\n",
              "  "
            ]
          },
          "metadata": {},
          "execution_count": 145
        }
      ]
    },
    {
      "cell_type": "code",
      "source": [
        "df.groupby('QS_BATHROOM')['SALES_PRICE'].mean().sort_values().plot.bar()"
      ],
      "metadata": {
        "colab": {
          "base_uri": "https://localhost:8080/",
          "height": 314
        },
        "id": "CjhNmac0aWzR",
        "outputId": "fe3485d7-5548-4040-8daa-027008648181"
      },
      "execution_count": 146,
      "outputs": [
        {
          "output_type": "execute_result",
          "data": {
            "text/plain": [
              "<matplotlib.axes._subplots.AxesSubplot at 0x7fe8c14df290>"
            ]
          },
          "metadata": {},
          "execution_count": 146
        },
        {
          "output_type": "display_data",
          "data": {
            "text/plain": [
              "<Figure size 432x288 with 1 Axes>"
            ],
            "image/png": "[encoded data removed]"
          },
          "metadata": {
            "needs_background": "light"
          }
        }
      ]
    },
    {
      "cell_type": "code",
      "source": [
        "df.info()"
      ],
      "metadata": {
        "colab": {
          "base_uri": "https://localhost:8080/"
        },
        "id": "5blq6alDarbU",
        "outputId": "9cb2abe4-679f-417a-ca45-1b05407af6bf"
      },
      "execution_count": 147,
      "outputs": [
        {
          "output_type": "stream",
          "name": "stdout",
          "text": [
            "<class 'pandas.core.frame.DataFrame'>\n",
            "RangeIndex: 7109 entries, 0 to 7108\n",
            "Data columns (total 20 columns):\n",
            " #   Column         Non-Null Count  Dtype  \n",
            "---  ------         --------------  -----  \n",
            " 0   AREA           7109 non-null   int64  \n",
            " 1   INT_SQFT       7109 non-null   int64  \n",
            " 2   DIST_MAINROAD  7109 non-null   int64  \n",
            " 3   N_BEDROOM      7109 non-null   int64  \n",
            " 4   N_BATHROOM     7109 non-null   int64  \n",
            " 5   N_ROOM         7109 non-null   int64  \n",
            " 6   SALE_COND      7109 non-null   int64  \n",
            " 7   PARK_FACIL     7109 non-null   int64  \n",
            " 8   BUILDTYPE      7109 non-null   object \n",
            " 9   UTILITY_AVAIL  7109 non-null   int64  \n",
            " 10  STREET         7109 non-null   int64  \n",
            " 11  MZZONE         7109 non-null   int64  \n",
            " 12  QS_ROOMS       7109 non-null   float64\n",
            " 13  QS_BATHROOM    7109 non-null   float64\n",
            " 14  QS_BEDROOM     7109 non-null   float64\n",
            " 15  QS_OVERALL     7061 non-null   float64\n",
            " 16  REG_FEE        7109 non-null   int64  \n",
            " 17  COMMIS         7109 non-null   int64  \n",
            " 18  SALES_PRICE    7109 non-null   int64  \n",
            " 19  AGE            7109 non-null   int64  \n",
            "dtypes: float64(4), int64(15), object(1)\n",
            "memory usage: 1.1+ MB\n"
          ]
        }
      ]
    },
    {
      "cell_type": "code",
      "source": [
        ""
      ],
      "metadata": {
        "id": "JxZrRKHU10KR"
      },
      "execution_count": 147,
      "outputs": []
    },
    {
      "cell_type": "markdown",
      "source": [
        "#@ Model buiilding"
      ],
      "metadata": {
        "id": "eWy8Qt6vtzTu"
      }
    },
    {
      "cell_type": "code",
      "source": [
        "df.drop(['DIST_MAINROAD','COMMIS','REG_FEE','QS_ROOMS','QS_BATHROOM','QS_BEDROOM','QS_OVERALL'],axis = 1,inplace= True) \n",
        "df.info()   \n",
        "#dropped 'COMMIS','REG_FEE' because they are directly linked to price of the building ,but not a separate feature which affect the price of the building."
      ],
      "metadata": {
        "colab": {
          "base_uri": "https://localhost:8080/"
        },
        "id": "gg3QmXIBtqdH",
        "outputId": "fd00346c-c5ae-407e-fbda-66c7f2be07a4"
      },
      "execution_count": 148,
      "outputs": [
        {
          "output_type": "stream",
          "name": "stdout",
          "text": [
            "<class 'pandas.core.frame.DataFrame'>\n",
            "RangeIndex: 7109 entries, 0 to 7108\n",
            "Data columns (total 13 columns):\n",
            " #   Column         Non-Null Count  Dtype \n",
            "---  ------         --------------  ----- \n",
            " 0   AREA           7109 non-null   int64 \n",
            " 1   INT_SQFT       7109 non-null   int64 \n",
            " 2   N_BEDROOM      7109 non-null   int64 \n",
            " 3   N_BATHROOM     7109 non-null   int64 \n",
            " 4   N_ROOM         7109 non-null   int64 \n",
            " 5   SALE_COND      7109 non-null   int64 \n",
            " 6   PARK_FACIL     7109 non-null   int64 \n",
            " 7   BUILDTYPE      7109 non-null   object\n",
            " 8   UTILITY_AVAIL  7109 non-null   int64 \n",
            " 9   STREET         7109 non-null   int64 \n",
            " 10  MZZONE         7109 non-null   int64 \n",
            " 11  SALES_PRICE    7109 non-null   int64 \n",
            " 12  AGE            7109 non-null   int64 \n",
            "dtypes: int64(12), object(1)\n",
            "memory usage: 722.1+ KB\n"
          ]
        }
      ]
    },
    {
      "cell_type": "code",
      "source": [
        "dfb = pd.get_dummies(df['BUILDTYPE'])\n",
        "dfb"
      ],
      "metadata": {
        "colab": {
          "base_uri": "https://localhost:8080/",
          "height": 424
        },
        "id": "kwPNa7zwwNkb",
        "outputId": "613670b4-0a1b-494c-cd06-6346365e387a"
      },
      "execution_count": 149,
      "outputs": [
        {
          "output_type": "execute_result",
          "data": {
            "text/plain": [
              "      Commercial  House  Other\n",
              "0              1      0      0\n",
              "1              1      0      0\n",
              "2              1      0      0\n",
              "3              0      0      1\n",
              "4              0      0      1\n",
              "...          ...    ...    ...\n",
              "7104           0      0      1\n",
              "7105           0      0      1\n",
              "7106           0      1      0\n",
              "7107           1      0      0\n",
              "7108           0      0      1\n",
              "\n",
              "[7109 rows x 3 columns]"
            ],
            "text/html": [
              "\n",
              "  <div id=\"df-a603ad3a-a695-43bf-bb5e-3b5990816ae7\">\n",
              "    <div class=\"colab-df-container\">\n",
              "      <div>\n",
              "<style scoped>\n",
              "    .dataframe tbody tr th:only-of-type {\n",
              "        vertical-align: middle;\n",
              "    }\n",
              "\n",
              "    .dataframe tbody tr th {\n",
              "        vertical-align: top;\n",
              "    }\n",
              "\n",
              "    .dataframe thead th {\n",
              "        text-align: right;\n",
              "    }\n",
              "</style>\n",
              "<table border=\"1\" class=\"dataframe\">\n",
              "  <thead>\n",
              "    <tr style=\"text-align: right;\">\n",
              "      <th></th>\n",
              "      <th>Commercial</th>\n",
              "      <th>House</th>\n",
              "      <th>Other</th>\n",
              "    </tr>\n",
              "  </thead>\n",
              "  <tbody>\n",
              "    <tr>\n",
              "      <th>0</th>\n",
              "      <td>1</td>\n",
              "      <td>0</td>\n",
              "      <td>0</td>\n",
              "    </tr>\n",
              "    <tr>\n",
              "      <th>1</th>\n",
              "      <td>1</td>\n",
              "      <td>0</td>\n",
              "      <td>0</td>\n",
              "    </tr>\n",
              "    <tr>\n",
              "      <th>2</th>\n",
              "      <td>1</td>\n",
              "      <td>0</td>\n",
              "      <td>0</td>\n",
              "    </tr>\n",
              "    <tr>\n",
              "      <th>3</th>\n",
              "      <td>0</td>\n",
              "      <td>0</td>\n",
              "      <td>1</td>\n",
              "    </tr>\n",
              "    <tr>\n",
              "      <th>4</th>\n",
              "      <td>0</td>\n",
              "      <td>0</td>\n",
              "      <td>1</td>\n",
              "    </tr>\n",
              "    <tr>\n",
              "      <th>...</th>\n",
              "      <td>...</td>\n",
              "      <td>...</td>\n",
              "      <td>...</td>\n",
              "    </tr>\n",
              "    <tr>\n",
              "      <th>7104</th>\n",
              "      <td>0</td>\n",
              "      <td>0</td>\n",
              "      <td>1</td>\n",
              "    </tr>\n",
              "    <tr>\n",
              "      <th>7105</th>\n",
              "      <td>0</td>\n",
              "      <td>0</td>\n",
              "      <td>1</td>\n",
              "    </tr>\n",
              "    <tr>\n",
              "      <th>7106</th>\n",
              "      <td>0</td>\n",
              "      <td>1</td>\n",
              "      <td>0</td>\n",
              "    </tr>\n",
              "    <tr>\n",
              "      <th>7107</th>\n",
              "      <td>1</td>\n",
              "      <td>0</td>\n",
              "      <td>0</td>\n",
              "    </tr>\n",
              "    <tr>\n",
              "      <th>7108</th>\n",
              "      <td>0</td>\n",
              "      <td>0</td>\n",
              "      <td>1</td>\n",
              "    </tr>\n",
              "  </tbody>\n",
              "</table>\n",
              "<p>7109 rows × 3 columns</p>\n",
              "</div>\n",
              "      <button class=\"colab-df-convert\" onclick=\"convertToInteractive('df-a603ad3a-a695-43bf-bb5e-3b5990816ae7')\"\n",
              "              title=\"Convert this dataframe to an interactive table.\"\n",
              "              style=\"display:none;\">\n",
              "        \n",
              "  <svg xmlns=\"http://www.w3.org/2000/svg\" height=\"24px\"viewBox=\"0 0 24 24\"\n",
              "       width=\"24px\">\n",
              "    <path d=\"M0 0h24v24H0V0z\" fill=\"none\"/>\n",
              "    <path d=\"M18.56 5.44l.94 2.06.94-2.06 2.06-.94-2.06-.94-.94-2.06-.94 2.06-2.06.94zm-11 1L8.5 8.5l.94-2.06 2.06-.94-2.06-.94L8.5 2.5l-.94 2.06-2.06.94zm10 10l.94 2.06.94-2.06 2.06-.94-2.06-.94-.94-2.06-.94 2.06-2.06.94z\"/><path d=\"M17.41 7.96l-1.37-1.37c-.4-.4-.92-.59-1.43-.59-.52 0-1.04.2-1.43.59L10.3 9.45l-7.72 7.72c-.78.78-.78 2.05 0 2.83L4 21.41c.39.39.9.59 1.41.59.51 0 1.02-.2 1.41-.59l7.78-7.78 2.81-2.81c.8-.78.8-2.07 0-2.86zM5.41 20L4 18.59l7.72-7.72 1.47 1.35L5.41 20z\"/>\n",
              "  </svg>\n",
              "      </button>\n",
              "      \n",
              "  <style>\n",
              "    .colab-df-container {\n",
              "      display:flex;\n",
              "      flex-wrap:wrap;\n",
              "      gap: 12px;\n",
              "    }\n",
              "\n",
              "    .colab-df-convert {\n",
              "      background-color: #E8F0FE;\n",
              "      border: none;\n",
              "      border-radius: 50%;\n",
              "      cursor: pointer;\n",
              "      display: none;\n",
              "      fill: #1967D2;\n",
              "      height: 32px;\n",
              "      padding: 0 0 0 0;\n",
              "      width: 32px;\n",
              "    }\n",
              "\n",
              "    .colab-df-convert:hover {\n",
              "      background-color: #E2EBFA;\n",
              "      box-shadow: 0px 1px 2px rgba(60, 64, 67, 0.3), 0px 1px 3px 1px rgba(60, 64, 67, 0.15);\n",
              "      fill: #174EA6;\n",
              "    }\n",
              "\n",
              "    [theme=dark] .colab-df-convert {\n",
              "      background-color: #3B4455;\n",
              "      fill: #D2E3FC;\n",
              "    }\n",
              "\n",
              "    [theme=dark] .colab-df-convert:hover {\n",
              "      background-color: #434B5C;\n",
              "      box-shadow: 0px 1px 3px 1px rgba(0, 0, 0, 0.15);\n",
              "      filter: drop-shadow(0px 1px 2px rgba(0, 0, 0, 0.3));\n",
              "      fill: #FFFFFF;\n",
              "    }\n",
              "  </style>\n",
              "\n",
              "      <script>\n",
              "        const buttonEl =\n",
              "          document.querySelector('#df-a603ad3a-a695-43bf-bb5e-3b5990816ae7 button.colab-df-convert');\n",
              "        buttonEl.style.display =\n",
              "          google.colab.kernel.accessAllowed ? 'block' : 'none';\n",
              "\n",
              "        async function convertToInteractive(key) {\n",
              "          const element = document.querySelector('#df-a603ad3a-a695-43bf-bb5e-3b5990816ae7');\n",
              "          const dataTable =\n",
              "            await google.colab.kernel.invokeFunction('convertToInteractive',\n",
              "                                                     [key], {});\n",
              "          if (!dataTable) return;\n",
              "\n",
              "          const docLinkHtml = 'Like what you see? Visit the ' +\n",
              "            '<a target=\"_blank\" href=https://colab.research.google.com/notebooks/data_table.ipynb>data table notebook</a>'\n",
              "            + ' to learn more about interactive tables.';\n",
              "          element.innerHTML = '';\n",
              "          dataTable['output_type'] = 'display_data';\n",
              "          await google.colab.output.renderOutput(dataTable, element);\n",
              "          const docLink = document.createElement('div');\n",
              "          docLink.innerHTML = docLinkHtml;\n",
              "          element.appendChild(docLink);\n",
              "        }\n",
              "      </script>\n",
              "    </div>\n",
              "  </div>\n",
              "  "
            ]
          },
          "metadata": {},
          "execution_count": 149
        }
      ]
    },
    {
      "cell_type": "code",
      "source": [
        "dfn = pd.concat([df,dfb],axis = 1,join='inner')\n",
        "dfn.head()"
      ],
      "metadata": {
        "id": "NEBywayexXgb",
        "colab": {
          "base_uri": "https://localhost:8080/",
          "height": 206
        },
        "outputId": "0dd0537f-0c30-4024-edf7-c94c7cbdb612"
      },
      "execution_count": 150,
      "outputs": [
        {
          "output_type": "execute_result",
          "data": {
            "text/plain": [
              "   AREA  INT_SQFT  N_BEDROOM  N_BATHROOM  N_ROOM  SALE_COND  PARK_FACIL  \\\n",
              "0     0      1004          1           1       3          2           1   \n",
              "1     5      1986          2           1       5          2           0   \n",
              "2     1       909          1           1       3          2           1   \n",
              "3     3      1855          3           2       5          1           0   \n",
              "4     0      1226          1           1       3          2           1   \n",
              "\n",
              "    BUILDTYPE  UTILITY_AVAIL  STREET  MZZONE  SALES_PRICE  AGE  Commercial  \\\n",
              "0  Commercial              3       1       0      7600000   44           1   \n",
              "1  Commercial              3       2       3     21717770   11           1   \n",
              "2  Commercial              0       2       4     13159200   20           1   \n",
              "3       Other              2       1       2      9630290   22           0   \n",
              "4       Other              3       2       1      7406250   30           0   \n",
              "\n",
              "   House  Other  \n",
              "0      0      0  \n",
              "1      0      0  \n",
              "2      0      0  \n",
              "3      0      1  \n",
              "4      0      1  "
            ],
            "text/html": [
              "\n",
              "  <div id=\"df-33d176fc-5bae-4c01-a72d-6b0b58b547f9\">\n",
              "    <div class=\"colab-df-container\">\n",
              "      <div>\n",
              "<style scoped>\n",
              "    .dataframe tbody tr th:only-of-type {\n",
              "        vertical-align: middle;\n",
              "    }\n",
              "\n",
              "    .dataframe tbody tr th {\n",
              "        vertical-align: top;\n",
              "    }\n",
              "\n",
              "    .dataframe thead th {\n",
              "        text-align: right;\n",
              "    }\n",
              "</style>\n",
              "<table border=\"1\" class=\"dataframe\">\n",
              "  <thead>\n",
              "    <tr style=\"text-align: right;\">\n",
              "      <th></th>\n",
              "      <th>AREA</th>\n",
              "      <th>INT_SQFT</th>\n",
              "      <th>N_BEDROOM</th>\n",
              "      <th>N_BATHROOM</th>\n",
              "      <th>N_ROOM</th>\n",
              "      <th>SALE_COND</th>\n",
              "      <th>PARK_FACIL</th>\n",
              "      <th>BUILDTYPE</th>\n",
              "      <th>UTILITY_AVAIL</th>\n",
              "      <th>STREET</th>\n",
              "      <th>MZZONE</th>\n",
              "      <th>SALES_PRICE</th>\n",
              "      <th>AGE</th>\n",
              "      <th>Commercial</th>\n",
              "      <th>House</th>\n",
              "      <th>Other</th>\n",
              "    </tr>\n",
              "  </thead>\n",
              "  <tbody>\n",
              "    <tr>\n",
              "      <th>0</th>\n",
              "      <td>0</td>\n",
              "      <td>1004</td>\n",
              "      <td>1</td>\n",
              "      <td>1</td>\n",
              "      <td>3</td>\n",
              "      <td>2</td>\n",
              "      <td>1</td>\n",
              "      <td>Commercial</td>\n",
              "      <td>3</td>\n",
              "      <td>1</td>\n",
              "      <td>0</td>\n",
              "      <td>7600000</td>\n",
              "      <td>44</td>\n",
              "      <td>1</td>\n",
              "      <td>0</td>\n",
              "      <td>0</td>\n",
              "    </tr>\n",
              "    <tr>\n",
              "      <th>1</th>\n",
              "      <td>5</td>\n",
              "      <td>1986</td>\n",
              "      <td>2</td>\n",
              "      <td>1</td>\n",
              "      <td>5</td>\n",
              "      <td>2</td>\n",
              "      <td>0</td>\n",
              "      <td>Commercial</td>\n",
              "      <td>3</td>\n",
              "      <td>2</td>\n",
              "      <td>3</td>\n",
              "      <td>21717770</td>\n",
              "      <td>11</td>\n",
              "      <td>1</td>\n",
              "      <td>0</td>\n",
              "      <td>0</td>\n",
              "    </tr>\n",
              "    <tr>\n",
              "      <th>2</th>\n",
              "      <td>1</td>\n",
              "      <td>909</td>\n",
              "      <td>1</td>\n",
              "      <td>1</td>\n",
              "      <td>3</td>\n",
              "      <td>2</td>\n",
              "      <td>1</td>\n",
              "      <td>Commercial</td>\n",
              "      <td>0</td>\n",
              "      <td>2</td>\n",
              "      <td>4</td>\n",
              "      <td>13159200</td>\n",
              "      <td>20</td>\n",
              "      <td>1</td>\n",
              "      <td>0</td>\n",
              "      <td>0</td>\n",
              "    </tr>\n",
              "    <tr>\n",
              "      <th>3</th>\n",
              "      <td>3</td>\n",
              "      <td>1855</td>\n",
              "      <td>3</td>\n",
              "      <td>2</td>\n",
              "      <td>5</td>\n",
              "      <td>1</td>\n",
              "      <td>0</td>\n",
              "      <td>Other</td>\n",
              "      <td>2</td>\n",
              "      <td>1</td>\n",
              "      <td>2</td>\n",
              "      <td>9630290</td>\n",
              "      <td>22</td>\n",
              "      <td>0</td>\n",
              "      <td>0</td>\n",
              "      <td>1</td>\n",
              "    </tr>\n",
              "    <tr>\n",
              "      <th>4</th>\n",
              "      <td>0</td>\n",
              "      <td>1226</td>\n",
              "      <td>1</td>\n",
              "      <td>1</td>\n",
              "      <td>3</td>\n",
              "      <td>2</td>\n",
              "      <td>1</td>\n",
              "      <td>Other</td>\n",
              "      <td>3</td>\n",
              "      <td>2</td>\n",
              "      <td>1</td>\n",
              "      <td>7406250</td>\n",
              "      <td>30</td>\n",
              "      <td>0</td>\n",
              "      <td>0</td>\n",
              "      <td>1</td>\n",
              "    </tr>\n",
              "  </tbody>\n",
              "</table>\n",
              "</div>\n",
              "      <button class=\"colab-df-convert\" onclick=\"convertToInteractive('df-33d176fc-5bae-4c01-a72d-6b0b58b547f9')\"\n",
              "              title=\"Convert this dataframe to an interactive table.\"\n",
              "              style=\"display:none;\">\n",
              "        \n",
              "  <svg xmlns=\"http://www.w3.org/2000/svg\" height=\"24px\"viewBox=\"0 0 24 24\"\n",
              "       width=\"24px\">\n",
              "    <path d=\"M0 0h24v24H0V0z\" fill=\"none\"/>\n",
              "    <path d=\"M18.56 5.44l.94 2.06.94-2.06 2.06-.94-2.06-.94-.94-2.06-.94 2.06-2.06.94zm-11 1L8.5 8.5l.94-2.06 2.06-.94-2.06-.94L8.5 2.5l-.94 2.06-2.06.94zm10 10l.94 2.06.94-2.06 2.06-.94-2.06-.94-.94-2.06-.94 2.06-2.06.94z\"/><path d=\"M17.41 7.96l-1.37-1.37c-.4-.4-.92-.59-1.43-.59-.52 0-1.04.2-1.43.59L10.3 9.45l-7.72 7.72c-.78.78-.78 2.05 0 2.83L4 21.41c.39.39.9.59 1.41.59.51 0 1.02-.2 1.41-.59l7.78-7.78 2.81-2.81c.8-.78.8-2.07 0-2.86zM5.41 20L4 18.59l7.72-7.72 1.47 1.35L5.41 20z\"/>\n",
              "  </svg>\n",
              "      </button>\n",
              "      \n",
              "  <style>\n",
              "    .colab-df-container {\n",
              "      display:flex;\n",
              "      flex-wrap:wrap;\n",
              "      gap: 12px;\n",
              "    }\n",
              "\n",
              "    .colab-df-convert {\n",
              "      background-color: #E8F0FE;\n",
              "      border: none;\n",
              "      border-radius: 50%;\n",
              "      cursor: pointer;\n",
              "      display: none;\n",
              "      fill: #1967D2;\n",
              "      height: 32px;\n",
              "      padding: 0 0 0 0;\n",
              "      width: 32px;\n",
              "    }\n",
              "\n",
              "    .colab-df-convert:hover {\n",
              "      background-color: #E2EBFA;\n",
              "      box-shadow: 0px 1px 2px rgba(60, 64, 67, 0.3), 0px 1px 3px 1px rgba(60, 64, 67, 0.15);\n",
              "      fill: #174EA6;\n",
              "    }\n",
              "\n",
              "    [theme=dark] .colab-df-convert {\n",
              "      background-color: #3B4455;\n",
              "      fill: #D2E3FC;\n",
              "    }\n",
              "\n",
              "    [theme=dark] .colab-df-convert:hover {\n",
              "      background-color: #434B5C;\n",
              "      box-shadow: 0px 1px 3px 1px rgba(0, 0, 0, 0.15);\n",
              "      filter: drop-shadow(0px 1px 2px rgba(0, 0, 0, 0.3));\n",
              "      fill: #FFFFFF;\n",
              "    }\n",
              "  </style>\n",
              "\n",
              "      <script>\n",
              "        const buttonEl =\n",
              "          document.querySelector('#df-33d176fc-5bae-4c01-a72d-6b0b58b547f9 button.colab-df-convert');\n",
              "        buttonEl.style.display =\n",
              "          google.colab.kernel.accessAllowed ? 'block' : 'none';\n",
              "\n",
              "        async function convertToInteractive(key) {\n",
              "          const element = document.querySelector('#df-33d176fc-5bae-4c01-a72d-6b0b58b547f9');\n",
              "          const dataTable =\n",
              "            await google.colab.kernel.invokeFunction('convertToInteractive',\n",
              "                                                     [key], {});\n",
              "          if (!dataTable) return;\n",
              "\n",
              "          const docLinkHtml = 'Like what you see? Visit the ' +\n",
              "            '<a target=\"_blank\" href=https://colab.research.google.com/notebooks/data_table.ipynb>data table notebook</a>'\n",
              "            + ' to learn more about interactive tables.';\n",
              "          element.innerHTML = '';\n",
              "          dataTable['output_type'] = 'display_data';\n",
              "          await google.colab.output.renderOutput(dataTable, element);\n",
              "          const docLink = document.createElement('div');\n",
              "          docLink.innerHTML = docLinkHtml;\n",
              "          element.appendChild(docLink);\n",
              "        }\n",
              "      </script>\n",
              "    </div>\n",
              "  </div>\n",
              "  "
            ]
          },
          "metadata": {},
          "execution_count": 150
        }
      ]
    },
    {
      "cell_type": "code",
      "source": [
        "dfn.drop('BUILDTYPE',axis = 1,inplace = True)\n",
        "dfn.head()"
      ],
      "metadata": {
        "colab": {
          "base_uri": "https://localhost:8080/",
          "height": 206
        },
        "id": "5a4A11htynH7",
        "outputId": "ef535150-045b-4081-eae9-8c6ef9a4a4b9"
      },
      "execution_count": 151,
      "outputs": [
        {
          "output_type": "execute_result",
          "data": {
            "text/plain": [
              "   AREA  INT_SQFT  N_BEDROOM  N_BATHROOM  N_ROOM  SALE_COND  PARK_FACIL  \\\n",
              "0     0      1004          1           1       3          2           1   \n",
              "1     5      1986          2           1       5          2           0   \n",
              "2     1       909          1           1       3          2           1   \n",
              "3     3      1855          3           2       5          1           0   \n",
              "4     0      1226          1           1       3          2           1   \n",
              "\n",
              "   UTILITY_AVAIL  STREET  MZZONE  SALES_PRICE  AGE  Commercial  House  Other  \n",
              "0              3       1       0      7600000   44           1      0      0  \n",
              "1              3       2       3     21717770   11           1      0      0  \n",
              "2              0       2       4     13159200   20           1      0      0  \n",
              "3              2       1       2      9630290   22           0      0      1  \n",
              "4              3       2       1      7406250   30           0      0      1  "
            ],
            "text/html": [
              "\n",
              "  <div id=\"df-4baaa9c7-0325-4a05-afc6-d6d889ef96d0\">\n",
              "    <div class=\"colab-df-container\">\n",
              "      <div>\n",
              "<style scoped>\n",
              "    .dataframe tbody tr th:only-of-type {\n",
              "        vertical-align: middle;\n",
              "    }\n",
              "\n",
              "    .dataframe tbody tr th {\n",
              "        vertical-align: top;\n",
              "    }\n",
              "\n",
              "    .dataframe thead th {\n",
              "        text-align: right;\n",
              "    }\n",
              "</style>\n",
              "<table border=\"1\" class=\"dataframe\">\n",
              "  <thead>\n",
              "    <tr style=\"text-align: right;\">\n",
              "      <th></th>\n",
              "      <th>AREA</th>\n",
              "      <th>INT_SQFT</th>\n",
              "      <th>N_BEDROOM</th>\n",
              "      <th>N_BATHROOM</th>\n",
              "      <th>N_ROOM</th>\n",
              "      <th>SALE_COND</th>\n",
              "      <th>PARK_FACIL</th>\n",
              "      <th>UTILITY_AVAIL</th>\n",
              "      <th>STREET</th>\n",
              "      <th>MZZONE</th>\n",
              "      <th>SALES_PRICE</th>\n",
              "      <th>AGE</th>\n",
              "      <th>Commercial</th>\n",
              "      <th>House</th>\n",
              "      <th>Other</th>\n",
              "    </tr>\n",
              "  </thead>\n",
              "  <tbody>\n",
              "    <tr>\n",
              "      <th>0</th>\n",
              "      <td>0</td>\n",
              "      <td>1004</td>\n",
              "      <td>1</td>\n",
              "      <td>1</td>\n",
              "      <td>3</td>\n",
              "      <td>2</td>\n",
              "      <td>1</td>\n",
              "      <td>3</td>\n",
              "      <td>1</td>\n",
              "      <td>0</td>\n",
              "      <td>7600000</td>\n",
              "      <td>44</td>\n",
              "      <td>1</td>\n",
              "      <td>0</td>\n",
              "      <td>0</td>\n",
              "    </tr>\n",
              "    <tr>\n",
              "      <th>1</th>\n",
              "      <td>5</td>\n",
              "      <td>1986</td>\n",
              "      <td>2</td>\n",
              "      <td>1</td>\n",
              "      <td>5</td>\n",
              "      <td>2</td>\n",
              "      <td>0</td>\n",
              "      <td>3</td>\n",
              "      <td>2</td>\n",
              "      <td>3</td>\n",
              "      <td>21717770</td>\n",
              "      <td>11</td>\n",
              "      <td>1</td>\n",
              "      <td>0</td>\n",
              "      <td>0</td>\n",
              "    </tr>\n",
              "    <tr>\n",
              "      <th>2</th>\n",
              "      <td>1</td>\n",
              "      <td>909</td>\n",
              "      <td>1</td>\n",
              "      <td>1</td>\n",
              "      <td>3</td>\n",
              "      <td>2</td>\n",
              "      <td>1</td>\n",
              "      <td>0</td>\n",
              "      <td>2</td>\n",
              "      <td>4</td>\n",
              "      <td>13159200</td>\n",
              "      <td>20</td>\n",
              "      <td>1</td>\n",
              "      <td>0</td>\n",
              "      <td>0</td>\n",
              "    </tr>\n",
              "    <tr>\n",
              "      <th>3</th>\n",
              "      <td>3</td>\n",
              "      <td>1855</td>\n",
              "      <td>3</td>\n",
              "      <td>2</td>\n",
              "      <td>5</td>\n",
              "      <td>1</td>\n",
              "      <td>0</td>\n",
              "      <td>2</td>\n",
              "      <td>1</td>\n",
              "      <td>2</td>\n",
              "      <td>9630290</td>\n",
              "      <td>22</td>\n",
              "      <td>0</td>\n",
              "      <td>0</td>\n",
              "      <td>1</td>\n",
              "    </tr>\n",
              "    <tr>\n",
              "      <th>4</th>\n",
              "      <td>0</td>\n",
              "      <td>1226</td>\n",
              "      <td>1</td>\n",
              "      <td>1</td>\n",
              "      <td>3</td>\n",
              "      <td>2</td>\n",
              "      <td>1</td>\n",
              "      <td>3</td>\n",
              "      <td>2</td>\n",
              "      <td>1</td>\n",
              "      <td>7406250</td>\n",
              "      <td>30</td>\n",
              "      <td>0</td>\n",
              "      <td>0</td>\n",
              "      <td>1</td>\n",
              "    </tr>\n",
              "  </tbody>\n",
              "</table>\n",
              "</div>\n",
              "      <button class=\"colab-df-convert\" onclick=\"convertToInteractive('df-4baaa9c7-0325-4a05-afc6-d6d889ef96d0')\"\n",
              "              title=\"Convert this dataframe to an interactive table.\"\n",
              "              style=\"display:none;\">\n",
              "        \n",
              "  <svg xmlns=\"http://www.w3.org/2000/svg\" height=\"24px\"viewBox=\"0 0 24 24\"\n",
              "       width=\"24px\">\n",
              "    <path d=\"M0 0h24v24H0V0z\" fill=\"none\"/>\n",
              "    <path d=\"M18.56 5.44l.94 2.06.94-2.06 2.06-.94-2.06-.94-.94-2.06-.94 2.06-2.06.94zm-11 1L8.5 8.5l.94-2.06 2.06-.94-2.06-.94L8.5 2.5l-.94 2.06-2.06.94zm10 10l.94 2.06.94-2.06 2.06-.94-2.06-.94-.94-2.06-.94 2.06-2.06.94z\"/><path d=\"M17.41 7.96l-1.37-1.37c-.4-.4-.92-.59-1.43-.59-.52 0-1.04.2-1.43.59L10.3 9.45l-7.72 7.72c-.78.78-.78 2.05 0 2.83L4 21.41c.39.39.9.59 1.41.59.51 0 1.02-.2 1.41-.59l7.78-7.78 2.81-2.81c.8-.78.8-2.07 0-2.86zM5.41 20L4 18.59l7.72-7.72 1.47 1.35L5.41 20z\"/>\n",
              "  </svg>\n",
              "      </button>\n",
              "      \n",
              "  <style>\n",
              "    .colab-df-container {\n",
              "      display:flex;\n",
              "      flex-wrap:wrap;\n",
              "      gap: 12px;\n",
              "    }\n",
              "\n",
              "    .colab-df-convert {\n",
              "      background-color: #E8F0FE;\n",
              "      border: none;\n",
              "      border-radius: 50%;\n",
              "      cursor: pointer;\n",
              "      display: none;\n",
              "      fill: #1967D2;\n",
              "      height: 32px;\n",
              "      padding: 0 0 0 0;\n",
              "      width: 32px;\n",
              "    }\n",
              "\n",
              "    .colab-df-convert:hover {\n",
              "      background-color: #E2EBFA;\n",
              "      box-shadow: 0px 1px 2px rgba(60, 64, 67, 0.3), 0px 1px 3px 1px rgba(60, 64, 67, 0.15);\n",
              "      fill: #174EA6;\n",
              "    }\n",
              "\n",
              "    [theme=dark] .colab-df-convert {\n",
              "      background-color: #3B4455;\n",
              "      fill: #D2E3FC;\n",
              "    }\n",
              "\n",
              "    [theme=dark] .colab-df-convert:hover {\n",
              "      background-color: #434B5C;\n",
              "      box-shadow: 0px 1px 3px 1px rgba(0, 0, 0, 0.15);\n",
              "      filter: drop-shadow(0px 1px 2px rgba(0, 0, 0, 0.3));\n",
              "      fill: #FFFFFF;\n",
              "    }\n",
              "  </style>\n",
              "\n",
              "      <script>\n",
              "        const buttonEl =\n",
              "          document.querySelector('#df-4baaa9c7-0325-4a05-afc6-d6d889ef96d0 button.colab-df-convert');\n",
              "        buttonEl.style.display =\n",
              "          google.colab.kernel.accessAllowed ? 'block' : 'none';\n",
              "\n",
              "        async function convertToInteractive(key) {\n",
              "          const element = document.querySelector('#df-4baaa9c7-0325-4a05-afc6-d6d889ef96d0');\n",
              "          const dataTable =\n",
              "            await google.colab.kernel.invokeFunction('convertToInteractive',\n",
              "                                                     [key], {});\n",
              "          if (!dataTable) return;\n",
              "\n",
              "          const docLinkHtml = 'Like what you see? Visit the ' +\n",
              "            '<a target=\"_blank\" href=https://colab.research.google.com/notebooks/data_table.ipynb>data table notebook</a>'\n",
              "            + ' to learn more about interactive tables.';\n",
              "          element.innerHTML = '';\n",
              "          dataTable['output_type'] = 'display_data';\n",
              "          await google.colab.output.renderOutput(dataTable, element);\n",
              "          const docLink = document.createElement('div');\n",
              "          docLink.innerHTML = docLinkHtml;\n",
              "          element.appendChild(docLink);\n",
              "        }\n",
              "      </script>\n",
              "    </div>\n",
              "  </div>\n",
              "  "
            ]
          },
          "metadata": {},
          "execution_count": 151
        }
      ]
    },
    {
      "cell_type": "markdown",
      "source": [
        "splitting dataset into train and test"
      ],
      "metadata": {
        "id": "5hrGcI_jy3Hf"
      }
    },
    {
      "cell_type": "code",
      "source": [
        "x = dfn[['AREA','INT_SQFT','N_BEDROOM','N_BATHROOM','N_ROOM','SALE_COND','PARK_FACIL','UTILITY_AVAIL','STREET','MZZONE','AGE','Commercial','House','Other']].values\n",
        "y = dfn['SALES_PRICE'].values"
      ],
      "metadata": {
        "id": "hULfX3ntyxWB"
      },
      "execution_count": 152,
      "outputs": []
    },
    {
      "cell_type": "code",
      "source": [
        "from sklearn.model_selection import train_test_split"
      ],
      "metadata": {
        "id": "oaWd-jxR04m5"
      },
      "execution_count": 153,
      "outputs": []
    },
    {
      "cell_type": "code",
      "source": [
        "x_train, x_test, y_train, y_test = train_test_split(x, y, test_size=0.25)"
      ],
      "metadata": {
        "id": "shv-6rYG0_oJ"
      },
      "execution_count": 154,
      "outputs": []
    },
    {
      "cell_type": "markdown",
      "source": [
        "linear regression"
      ],
      "metadata": {
        "id": "3ecB5NavsGYl"
      }
    },
    {
      "cell_type": "code",
      "source": [
        "# from sklearn.preprocessing import StandardScaler ## standrard scalig \n",
        "# scaler = StandardScaler() #initialise to a variable\n",
        "# scaler.fit(x_train,y_train) # we are finding the values of mean and sd from the td\n",
        "# x_train_scaled = scaler.transform(x_train) # fit (mean, sd) and then transform the training data\n",
        "# x_test_scaled = scaler.transform(x_test) # transform the test data "
      ],
      "metadata": {
        "id": "9PSoe1k0sFl9"
      },
      "execution_count": 155,
      "outputs": []
    },
    {
      "cell_type": "code",
      "source": [
        "from sklearn.linear_model import LinearRegression\n",
        "regressor = LinearRegression()\n",
        "regressor.fit(x_train, y_train)"
      ],
      "metadata": {
        "colab": {
          "base_uri": "https://localhost:8080/"
        },
        "id": "tXH1pO0TF7Pu",
        "outputId": "6f2ebb3e-9274-4992-fa01-2644e782f3ca"
      },
      "execution_count": 156,
      "outputs": [
        {
          "output_type": "execute_result",
          "data": {
            "text/plain": [
              "LinearRegression()"
            ]
          },
          "metadata": {},
          "execution_count": 156
        }
      ]
    },
    {
      "cell_type": "code",
      "source": [
        "y_pred = regressor.predict(x_test)"
      ],
      "metadata": {
        "id": "8Dm42iZGGHHa"
      },
      "execution_count": 157,
      "outputs": []
    },
    {
      "cell_type": "code",
      "source": [
        "from sklearn.metrics import r2_score"
      ],
      "metadata": {
        "id": "ijpiz2ynGi56"
      },
      "execution_count": 158,
      "outputs": []
    },
    {
      "cell_type": "code",
      "source": [
        "#checking R2 -- score.\n",
        "print('R2- SCORE:',r2_score(y_test,y_pred))  \n",
        "\n"
      ],
      "metadata": {
        "colab": {
          "base_uri": "https://localhost:8080/"
        },
        "id": "Xo5EQEbrGYkA",
        "outputId": "3f623e94-a17c-49d2-c554-e976f9cf3489"
      },
      "execution_count": 159,
      "outputs": [
        {
          "output_type": "stream",
          "name": "stdout",
          "text": [
            "R2- SCORE: 0.9222271182054964\n"
          ]
        }
      ]
    },
    {
      "cell_type": "markdown",
      "source": [
        "grabbing important features."
      ],
      "metadata": {
        "id": "xAqPYYwgGwTl"
      }
    },
    {
      "cell_type": "code",
      "source": [
        "# !pip install scikit-learn==0.24.2"
      ],
      "metadata": {
        "id": "Zac2_ZCeGvZC"
      },
      "execution_count": 160,
      "outputs": []
    },
    {
      "cell_type": "code",
      "source": [
        "from sklearn.feature_selection import SequentialFeatureSelector\n",
        "estimator = LinearRegression()\n",
        "sfs = SequentialFeatureSelector(estimator)\n",
        "sfs.fit(x_train, y_train)\n",
        "print(list(zip(['AREA','INT_SQFT','N_BEDROOM','N_BATHROOM','N_ROOM','SALE_COND','PARK_FACIL','UTILITY_AVAIL','STREET','MZZONE','AGE','Commercial','House','Other'],sfs.get_support())))"
      ],
      "metadata": {
        "colab": {
          "base_uri": "https://localhost:8080/"
        },
        "id": "xDmXrYUglB1I",
        "outputId": "d92d752b-17aa-4f59-fd21-fc52e4f2fffb"
      },
      "execution_count": 161,
      "outputs": [
        {
          "output_type": "stream",
          "name": "stdout",
          "text": [
            "[('AREA', True), ('INT_SQFT', False), ('N_BEDROOM', True), ('N_BATHROOM', False), ('N_ROOM', True), ('SALE_COND', False), ('PARK_FACIL', True), ('UTILITY_AVAIL', False), ('STREET', True), ('MZZONE', True), ('AGE', False), ('Commercial', True), ('House', False), ('Other', False)]\n"
          ]
        }
      ]
    },
    {
      "cell_type": "code",
      "source": [
        "m = list(zip(['AREA','INT_SQFT','N_BEDROOM','N_BATHROOM','N_ROOM','SALE_COND','PARK_FACIL','UTILITY_AVAIL','STREET','MZZONE','AGE','Commercial','House','Other'],sfs.get_support()))"
      ],
      "metadata": {
        "id": "-lA3XsUNl8tc"
      },
      "execution_count": 162,
      "outputs": []
    },
    {
      "cell_type": "code",
      "source": [
        "imp_l = []\n",
        "for i in m:\n",
        "  if i[1] == True:\n",
        "    imp_l.append(i[0])"
      ],
      "metadata": {
        "id": "0Kq9ionpmXzp"
      },
      "execution_count": 163,
      "outputs": []
    },
    {
      "cell_type": "code",
      "source": [
        "print(*imp_l ,sep=', ')"
      ],
      "metadata": {
        "colab": {
          "base_uri": "https://localhost:8080/"
        },
        "id": "OD4jky9xm_mg",
        "outputId": "3fc09783-ec5a-4ffe-88f2-2bca180f54f8"
      },
      "execution_count": 164,
      "outputs": [
        {
          "output_type": "stream",
          "name": "stdout",
          "text": [
            "AREA, N_BEDROOM, N_ROOM, PARK_FACIL, STREET, MZZONE, Commercial\n"
          ]
        }
      ]
    },
    {
      "cell_type": "code",
      "source": [
        "\"\"\"\n",
        "WE GOT 7 FEATURES AS IMPORTANAT FEATURES TO PREDICT SALES PRICE OF THE BUILDING.\n",
        "\"\"\""
      ],
      "metadata": {
        "colab": {
          "base_uri": "https://localhost:8080/",
          "height": 36
        },
        "id": "4qMGpMUzncIR",
        "outputId": "508c414c-8064-43bb-90e3-ff8a078208c4"
      },
      "execution_count": 165,
      "outputs": [
        {
          "output_type": "execute_result",
          "data": {
            "text/plain": [
              "'\\nWE GOT 7 FEATURES AS IMPORTANAT FEATURES TO PREDICT SALES PRICE OF THE BUILDING.\\n'"
            ],
            "application/vnd.google.colaboratory.intrinsic+json": {
              "type": "string"
            }
          },
          "metadata": {},
          "execution_count": 165
        }
      ]
    },
    {
      "cell_type": "code",
      "source": [
        "imp_ft = dfn[imp_l].values"
      ],
      "metadata": {
        "id": "U10WRcMTntAV"
      },
      "execution_count": 166,
      "outputs": []
    },
    {
      "cell_type": "code",
      "source": [
        "imp_ft_train, imp_ft_test, y_train, y_test = train_test_split(imp_ft,y,test_size = 0.25)"
      ],
      "metadata": {
        "id": "p-v0atfboIEL"
      },
      "execution_count": 167,
      "outputs": []
    },
    {
      "cell_type": "code",
      "source": [
        "regressor = LinearRegression()\n",
        "regressor.fit(imp_ft_train, y_train)\n",
        "y_pred = regressor.predict(imp_ft_test)"
      ],
      "metadata": {
        "id": "sKh6VtgIoZJf"
      },
      "execution_count": 168,
      "outputs": []
    },
    {
      "cell_type": "code",
      "source": [
        "#checking R2 -- score.\n",
        "print('R2- SCORE:',r2_score(y_test,y_pred))"
      ],
      "metadata": {
        "colab": {
          "base_uri": "https://localhost:8080/"
        },
        "id": "1pZMOYaPovIh",
        "outputId": "8d0863a7-2b5c-40af-d41f-4662acb3b754"
      },
      "execution_count": 169,
      "outputs": [
        {
          "output_type": "stream",
          "name": "stdout",
          "text": [
            "R2- SCORE: 0.9077833547029235\n"
          ]
        }
      ]
    },
    {
      "cell_type": "markdown",
      "source": [
        "USING KNN model for regression"
      ],
      "metadata": {
        "id": "DKQ95T_Mo0Ej"
      }
    },
    {
      "cell_type": "code",
      "source": [
        "x = dfn[['AREA','INT_SQFT','N_BEDROOM','N_BATHROOM','N_ROOM','SALE_COND','PARK_FACIL','UTILITY_AVAIL','STREET','MZZONE','AGE','Commercial','House','Other']].values\n",
        "y = dfn['SALES_PRICE'].values\n",
        "x_train, x_test, y_train, y_test = train_test_split(x, y, test_size=0.25)"
      ],
      "metadata": {
        "id": "kyRjvcX_ozLa"
      },
      "execution_count": 170,
      "outputs": []
    },
    {
      "cell_type": "code",
      "source": [
        "from sklearn.neighbors import KNeighborsRegressor\n",
        "from sklearn.model_selection import cross_val_score"
      ],
      "metadata": {
        "id": "KHcBFk1WrV98"
      },
      "execution_count": 171,
      "outputs": []
    },
    {
      "cell_type": "code",
      "source": [
        "for i in [1,2,3,4,5,6,7,8,9,10,20,30]:\n",
        "  knn = KNeighborsRegressor(i)\n",
        "  knn.fit(x_train,y_train)\n",
        "  print(\"K value: \",i,\"Train accuracy: \",knn.score(x_train,y_train),\"val accuracy: \",np.mean(cross_val_score(knn,x_train,y_train,cv = 10,scoring='r2')))"
      ],
      "metadata": {
        "colab": {
          "base_uri": "https://localhost:8080/"
        },
        "id": "v9IC_BInqNQ7",
        "outputId": "54d69e02-b039-4435-b5c6-2c5f849d6438"
      },
      "execution_count": 172,
      "outputs": [
        {
          "output_type": "stream",
          "name": "stdout",
          "text": [
            "K value:  1 Train accuracy:  1.0 val accuracy:  0.11291735350831131\n",
            "K value:  2 Train accuracy:  0.7796961626491695 val accuracy:  0.3180433946006678\n",
            "K value:  3 Train accuracy:  0.6992384910820086 val accuracy:  0.3759633926542685\n",
            "K value:  4 Train accuracy:  0.6516368123638008 val accuracy:  0.3936180845302091\n",
            "K value:  5 Train accuracy:  0.6167497000462105 val accuracy:  0.3994148424590315\n",
            "K value:  6 Train accuracy:  0.5930944113198735 val accuracy:  0.40367067395337397\n",
            "K value:  7 Train accuracy:  0.5703694904276801 val accuracy:  0.4078682266758619\n",
            "K value:  8 Train accuracy:  0.5538784760446589 val accuracy:  0.4109642774921515\n",
            "K value:  9 Train accuracy:  0.5383660492605444 val accuracy:  0.41446156123355793\n",
            "K value:  10 Train accuracy:  0.5302979996554564 val accuracy:  0.41425853197664464\n",
            "K value:  20 Train accuracy:  0.48320052011646275 val accuracy:  0.4191174929384949\n",
            "K value:  30 Train accuracy:  0.4626673183397527 val accuracy:  0.4190686571693868\n"
          ]
        }
      ]
    },
    {
      "cell_type": "code",
      "source": [
        "knn = KNeighborsRegressor(10)\n",
        "knn.fit(x_train,y_train)\n",
        "y_pred = knn.predict(x_test)"
      ],
      "metadata": {
        "id": "nMJIHeeHujyn"
      },
      "execution_count": 173,
      "outputs": []
    },
    {
      "cell_type": "code",
      "source": [
        "\"\"\"\n",
        "CHECKING R2--SCORE FOR KNN N=10\n",
        "\"\"\"\n",
        "#checking R2 -- score.\n",
        "print('R2- SCORE:',r2_score(y_test,y_pred))"
      ],
      "metadata": {
        "colab": {
          "base_uri": "https://localhost:8080/"
        },
        "id": "EpKKDsVZu6F-",
        "outputId": "2c4869ef-5e31-4e06-836f-9a4b0e422a42"
      },
      "execution_count": 174,
      "outputs": [
        {
          "output_type": "stream",
          "name": "stdout",
          "text": [
            "R2- SCORE: 0.42566600211887695\n"
          ]
        }
      ]
    },
    {
      "cell_type": "code",
      "source": [
        "\"\"\"\n",
        "Finding important features\n",
        "\"\"\"\n",
        "estimator = KNeighborsRegressor()\n",
        "sfs = SequentialFeatureSelector(estimator)\n",
        "sfs.fit(x_train, y_train)\n",
        "print(list(zip(['AREA','INT_SQFT','N_BEDROOM','N_BATHROOM','N_ROOM','SALE_COND','PARK_FACIL','UTILITY_AVAIL','STREET','MZZONE','AGE','Commercial','House','Other'],sfs.get_support())))\n",
        "m = list(zip(['AREA','INT_SQFT','N_BEDROOM','N_BATHROOM','N_ROOM','SALE_COND','PARK_FACIL','UTILITY_AVAIL','STREET','MZZONE','AGE','Commercial','House','Other'],sfs.get_support()))\n"
      ],
      "metadata": {
        "colab": {
          "base_uri": "https://localhost:8080/"
        },
        "id": "ZJ21AdfOr68_",
        "outputId": "4ff02bcb-ab0d-47f0-e64b-27c189ec1271"
      },
      "execution_count": 175,
      "outputs": [
        {
          "output_type": "stream",
          "name": "stdout",
          "text": [
            "[('AREA', True), ('INT_SQFT', False), ('N_BEDROOM', False), ('N_BATHROOM', False), ('N_ROOM', True), ('SALE_COND', False), ('PARK_FACIL', True), ('UTILITY_AVAIL', False), ('STREET', False), ('MZZONE', True), ('AGE', False), ('Commercial', True), ('House', True), ('Other', True)]\n"
          ]
        }
      ]
    },
    {
      "cell_type": "code",
      "source": [
        "imp_l = []\n",
        "for i in m:\n",
        "  if i[1] == True:\n",
        "    imp_l.append(i[0])"
      ],
      "metadata": {
        "id": "8Vt61_82tDIJ"
      },
      "execution_count": 176,
      "outputs": []
    },
    {
      "cell_type": "code",
      "source": [
        "print(*imp_l , sep=', ')"
      ],
      "metadata": {
        "colab": {
          "base_uri": "https://localhost:8080/"
        },
        "id": "HU15mJZIvl98",
        "outputId": "3622abb5-1af9-4048-aefb-6ef42d18f7c9"
      },
      "execution_count": 177,
      "outputs": [
        {
          "output_type": "stream",
          "name": "stdout",
          "text": [
            "AREA, N_ROOM, PARK_FACIL, MZZONE, Commercial, House, Other\n"
          ]
        }
      ]
    },
    {
      "cell_type": "code",
      "source": [
        "imp_ft = dfn[imp_l].values\n",
        "imp_ft_train, imp_ft_test, y_train, y_test = train_test_split(imp_ft,y,test_size = 0.25)\n"
      ],
      "metadata": {
        "id": "51tAEmvqtFwP"
      },
      "execution_count": 178,
      "outputs": []
    },
    {
      "cell_type": "code",
      "source": [
        "for i in [1,2,3,4,5,6,7,8,9,10,20,30]:\n",
        "  knn = KNeighborsRegressor(i)\n",
        "  knn.fit(imp_ft_train,y_train)\n",
        "  print(\"K value: \",i,\"Train accuracy: \",knn.score(imp_ft_train,y_train),\"val accuracy: \",np.mean(cross_val_score(knn,x_train,y_train,cv = 10,scoring='r2')))"
      ],
      "metadata": {
        "colab": {
          "base_uri": "https://localhost:8080/"
        },
        "id": "LeAuA7J5t3Uu",
        "outputId": "e59b91d3-522a-4dfa-9372-20655b58d306"
      },
      "execution_count": 179,
      "outputs": [
        {
          "output_type": "stream",
          "name": "stdout",
          "text": [
            "K value:  1 Train accuracy:  0.9312054643776928 val accuracy:  -1.014745203541698\n",
            "K value:  2 Train accuracy:  0.9532709051710416 val accuracy:  -0.5135489811490168\n",
            "K value:  3 Train accuracy:  0.956757169908122 val accuracy:  -0.35822034433050864\n",
            "K value:  4 Train accuracy:  0.9598447470180856 val accuracy:  -0.28364724150177284\n",
            "K value:  5 Train accuracy:  0.9617881206026656 val accuracy:  -0.2274583172498744\n",
            "K value:  6 Train accuracy:  0.9621181822505245 val accuracy:  -0.18829416035459523\n",
            "K value:  7 Train accuracy:  0.9629057048950724 val accuracy:  -0.1621321651885726\n",
            "K value:  8 Train accuracy:  0.963142123743069 val accuracy:  -0.1320844259203677\n",
            "K value:  9 Train accuracy:  0.9631489604796326 val accuracy:  -0.11560135946485148\n",
            "K value:  10 Train accuracy:  0.9628600344320511 val accuracy:  -0.10555979754761438\n",
            "K value:  20 Train accuracy:  0.9576829436975186 val accuracy:  -0.04825922187643674\n",
            "K value:  30 Train accuracy:  0.9545233034447042 val accuracy:  -0.03996623954028422\n"
          ]
        }
      ]
    },
    {
      "cell_type": "code",
      "source": [
        "\"\"\"\n",
        "KNN model is no performing well no this data set.\n",
        "\"\"\""
      ],
      "metadata": {
        "id": "4370_2Dbt3mf",
        "colab": {
          "base_uri": "https://localhost:8080/",
          "height": 36
        },
        "outputId": "db9b6780-4964-43c1-dcee-61765847b9cc"
      },
      "execution_count": 180,
      "outputs": [
        {
          "output_type": "execute_result",
          "data": {
            "text/plain": [
              "'\\nKNN model is no performing well no this data set.\\n'"
            ],
            "application/vnd.google.colaboratory.intrinsic+json": {
              "type": "string"
            }
          },
          "metadata": {},
          "execution_count": 180
        }
      ]
    },
    {
      "cell_type": "markdown",
      "source": [
        "DECISION TREE REGRESSION MODEL"
      ],
      "metadata": {
        "id": "itZaotElvvS1"
      }
    },
    {
      "cell_type": "code",
      "source": [
        "from sklearn.tree import DecisionTreeRegressor\n",
        "from sklearn.model_selection import cross_val_score\n",
        "from sklearn.metrics import make_scorer"
      ],
      "metadata": {
        "id": "OfTA4Akit3xp"
      },
      "execution_count": 181,
      "outputs": []
    },
    {
      "cell_type": "code",
      "source": [
        "x = dfn[['AREA','INT_SQFT','N_BEDROOM','N_BATHROOM','N_ROOM','SALE_COND','PARK_FACIL','UTILITY_AVAIL','STREET','MZZONE','AGE','Commercial','House','Other']].values\n",
        "y = dfn['SALES_PRICE'].values\n",
        "x_train, x_test, y_train, y_test = train_test_split(x, y, test_size=0.25)\n"
      ],
      "metadata": {
        "id": "UO9RLcrcyWzl"
      },
      "execution_count": 182,
      "outputs": []
    },
    {
      "cell_type": "code",
      "source": [
        "for depth in [1,2,3,4,5,6,7,8,9,10,20,30,40,50,60,70,80,90,100]:\n",
        "  dt = DecisionTreeRegressor(max_depth=depth)\n",
        "  dt.fit(x_train,y_train)\n",
        "  valAccuracy = cross_val_score(dt,x_train,y_train,cv=10,scoring= make_scorer(r2_score))\n",
        "  print('for depth: ',depth,'score: ',np.mean(valAccuracy))"
      ],
      "metadata": {
        "colab": {
          "base_uri": "https://localhost:8080/"
        },
        "id": "HLh-XmXirfnP",
        "outputId": "8904781c-2326-43c1-a252-6d447e1bb98c"
      },
      "execution_count": 183,
      "outputs": [
        {
          "output_type": "stream",
          "name": "stdout",
          "text": [
            "for depth:  1 score:  0.3658061109430658\n",
            "for depth:  2 score:  0.6856959213803193\n",
            "for depth:  3 score:  0.8042176397590396\n",
            "for depth:  4 score:  0.8821689799168787\n",
            "for depth:  5 score:  0.9156969325743123\n",
            "for depth:  6 score:  0.9357571490693382\n",
            "for depth:  7 score:  0.9493231016503639\n",
            "for depth:  8 score:  0.9592027733089401\n",
            "for depth:  9 score:  0.9654010746056485\n",
            "for depth:  10 score:  0.9692352601610665\n",
            "for depth:  20 score:  0.9722206121665385\n",
            "for depth:  30 score:  0.9719862171030373\n",
            "for depth:  40 score:  0.9718507927275276\n",
            "for depth:  50 score:  0.97149711775691\n",
            "for depth:  60 score:  0.972192232957927\n",
            "for depth:  70 score:  0.9718291713326215\n",
            "for depth:  80 score:  0.9717211581681122\n",
            "for depth:  90 score:  0.971949249227888\n",
            "for depth:  100 score:  0.972192485719139\n"
          ]
        }
      ]
    },
    {
      "cell_type": "code",
      "source": [
        "\"\"\"\n",
        "Finding important features\n",
        "\"\"\"\n",
        "#let's take max_depth=20\n",
        "estimator = DecisionTreeRegressor(max_depth=20)\n",
        "sfs = SequentialFeatureSelector(estimator)\n",
        "sfs.fit(x_train, y_train)\n",
        "print(list(zip(['AREA','INT_SQFT','N_BEDROOM','N_BATHROOM','N_ROOM','SALE_COND','PARK_FACIL','UTILITY_AVAIL','STREET','MZZONE','AGE','Commercial','House','Other'],sfs.get_support())))\n",
        "m = list(zip(['AREA','INT_SQFT','N_BEDROOM','N_BATHROOM','N_ROOM','SALE_COND','PARK_FACIL','UTILITY_AVAIL','STREET','MZZONE','AGE','Commercial','House','Other'],sfs.get_support()))\n"
      ],
      "metadata": {
        "id": "0gtyPycWt4DF",
        "colab": {
          "base_uri": "https://localhost:8080/"
        },
        "outputId": "fc25cb64-133a-46ca-a91b-8b6d778f9db7"
      },
      "execution_count": 184,
      "outputs": [
        {
          "output_type": "stream",
          "name": "stdout",
          "text": [
            "[('AREA', True), ('INT_SQFT', False), ('N_BEDROOM', False), ('N_BATHROOM', False), ('N_ROOM', True), ('SALE_COND', False), ('PARK_FACIL', True), ('UTILITY_AVAIL', False), ('STREET', True), ('MZZONE', True), ('AGE', False), ('Commercial', True), ('House', True), ('Other', False)]\n"
          ]
        }
      ]
    },
    {
      "cell_type": "code",
      "source": [
        "imp_l = []\n",
        "for i in m:\n",
        "  if i[1] == True:\n",
        "    imp_l.append(i[0])"
      ],
      "metadata": {
        "id": "QJkUnliPty-V"
      },
      "execution_count": 185,
      "outputs": []
    },
    {
      "cell_type": "code",
      "source": [
        "print(*imp_l , sep=', ')"
      ],
      "metadata": {
        "colab": {
          "base_uri": "https://localhost:8080/"
        },
        "id": "RApl4Z_kuCQr",
        "outputId": "9029ec45-5e00-4da1-e0ed-efdeb9f691b5"
      },
      "execution_count": 186,
      "outputs": [
        {
          "output_type": "stream",
          "name": "stdout",
          "text": [
            "AREA, N_ROOM, PARK_FACIL, STREET, MZZONE, Commercial, House\n"
          ]
        }
      ]
    },
    {
      "cell_type": "code",
      "source": [
        "imp_ft = dfn[imp_l].values\n",
        "imp_ft_train, imp_ft_test, y_train, y_test = train_test_split(imp_ft,y,test_size = 0.25)\n"
      ],
      "metadata": {
        "id": "1Q7_gnU7t7FC"
      },
      "execution_count": 187,
      "outputs": []
    },
    {
      "cell_type": "code",
      "source": [
        "for depth in [1,2,3,4,5,6,7,8,9,10,20,30,40,50,60]:\n",
        "  dt = DecisionTreeRegressor(max_depth=depth)\n",
        "  dt.fit(imp_ft_train,y_train)\n",
        "  valAccuracy = cross_val_score(dt,imp_ft_train,y_train,cv=10,scoring= make_scorer(r2_score))\n",
        "  print('for depth: ',depth,'score: ',np.mean(valAccuracy))"
      ],
      "metadata": {
        "colab": {
          "base_uri": "https://localhost:8080/"
        },
        "id": "OSumPCGwuVQT",
        "outputId": "dc4dacda-e99e-4c69-bb1a-6829264208d5"
      },
      "execution_count": 188,
      "outputs": [
        {
          "output_type": "stream",
          "name": "stdout",
          "text": [
            "for depth:  1 score:  0.36187611367069183\n",
            "for depth:  2 score:  0.6880165428245236\n",
            "for depth:  3 score:  0.8056579440589198\n",
            "for depth:  4 score:  0.8700628862121631\n",
            "for depth:  5 score:  0.9098901533168025\n",
            "for depth:  6 score:  0.9304265993212045\n",
            "for depth:  7 score:  0.944471405534245\n",
            "for depth:  8 score:  0.9564074843239526\n",
            "for depth:  9 score:  0.9640513851148167\n",
            "for depth:  10 score:  0.9676067745970087\n",
            "for depth:  20 score:  0.9698934479518456\n",
            "for depth:  30 score:  0.969883727898514\n",
            "for depth:  40 score:  0.9699053886004092\n",
            "for depth:  50 score:  0.9699271534306849\n",
            "for depth:  60 score:  0.9698755739232615\n"
          ]
        }
      ]
    },
    {
      "cell_type": "code",
      "source": [
        "dt = DecisionTreeRegressor(max_depth=20)\n",
        "dt.fit(imp_ft_train,y_train)\n",
        "y_pred = dt.predict(imp_ft_test)"
      ],
      "metadata": {
        "id": "hkeRXe6jzl_7"
      },
      "execution_count": 189,
      "outputs": []
    },
    {
      "cell_type": "code",
      "source": [
        "\"\"\"\n",
        "CHECKING R2--SCORE FOR DecisionTreeRegressor max_depth=20\n",
        "\"\"\"\n",
        "#checking R2 -- score.\n",
        "print('R2- SCORE:',r2_score(y_test,y_pred))"
      ],
      "metadata": {
        "colab": {
          "base_uri": "https://localhost:8080/"
        },
        "id": "1SRINPFl0RAe",
        "outputId": "1cfc8225-aebd-4b0a-d556-e032ba507f6d"
      },
      "execution_count": 190,
      "outputs": [
        {
          "output_type": "stream",
          "name": "stdout",
          "text": [
            "R2- SCORE: 0.9690197110530763\n"
          ]
        }
      ]
    },
    {
      "cell_type": "code",
      "source": [
        "\"\"\"\n",
        "WE GOT GOOD R2 -- SCORE FOR DECISION TREE REGRESSOR MODEL. HERE THE SCORE IS 97%\n",
        "\"\"\""
      ],
      "metadata": {
        "colab": {
          "base_uri": "https://localhost:8080/",
          "height": 36
        },
        "id": "nxfFfjkt0RWW",
        "outputId": "2edce1b5-c6da-498b-9d56-9094291cddb9"
      },
      "execution_count": 191,
      "outputs": [
        {
          "output_type": "execute_result",
          "data": {
            "text/plain": [
              "'\\nWE GOT GOOD R2 -- SCORE FOR DECISION TREE REGRESSOR MODEL. HERE THE SCORE IS 97%\\n'"
            ],
            "application/vnd.google.colaboratory.intrinsic+json": {
              "type": "string"
            }
          },
          "metadata": {},
          "execution_count": 191
        }
      ]
    },
    {
      "cell_type": "code",
      "source": [
        ""
      ],
      "metadata": {
        "id": "eX8emxPe0R2q"
      },
      "execution_count": 191,
      "outputs": []
    },
    {
      "cell_type": "markdown",
      "source": [
        "Random Forest Model."
      ],
      "metadata": {
        "id": "Wwe7N30-0jyW"
      }
    },
    {
      "cell_type": "code",
      "source": [
        "x = dfn[['AREA','INT_SQFT','N_BEDROOM','N_BATHROOM','N_ROOM','SALE_COND','PARK_FACIL','UTILITY_AVAIL','STREET','MZZONE','AGE','Commercial','House','Other']].values\n",
        "y = dfn['SALES_PRICE'].values\n",
        "x_train, x_test, y_train, y_test = train_test_split(x, y, test_size=0.25)\n"
      ],
      "metadata": {
        "id": "9cNliYFG0njq"
      },
      "execution_count": 192,
      "outputs": []
    },
    {
      "cell_type": "code",
      "source": [
        "from sklearn.ensemble import RandomForestRegressor"
      ],
      "metadata": {
        "id": "XNgA06GAwDCi"
      },
      "execution_count": 193,
      "outputs": []
    },
    {
      "cell_type": "code",
      "source": [
        "#Here we are taking max_depth = 20 because we got good result in decision tree model with the same depth.\n",
        "rf = RandomForestRegressor(n_estimators= 100, max_depth = 20, max_features='sqrt')\n",
        "rf.fit(x_train,y_train)\n",
        "y_pred = rf.predict(x_test)\n",
        "r2_score(y_pred,y_test)"
      ],
      "metadata": {
        "colab": {
          "base_uri": "https://localhost:8080/"
        },
        "id": "O2bmBUfjwFEy",
        "outputId": "9c53f06b-72ff-4fea-9ce3-d27d0686d496"
      },
      "execution_count": 194,
      "outputs": [
        {
          "output_type": "execute_result",
          "data": {
            "text/plain": [
              "0.9863858661586637"
            ]
          },
          "metadata": {},
          "execution_count": 194
        }
      ]
    },
    {
      "cell_type": "code",
      "source": [
        "\"\"\"\n",
        "Finding important features\n",
        "\"\"\"\n",
        "#let's take max_depth=20\n",
        "estimator = RandomForestRegressor(max_depth=20)\n",
        "sfs = SequentialFeatureSelector(estimator)\n",
        "sfs.fit(x_train, y_train)\n",
        "print(list(zip(['AREA','INT_SQFT','N_BEDROOM','N_BATHROOM','N_ROOM','SALE_COND','PARK_FACIL','UTILITY_AVAIL','STREET','MZZONE','AGE','Commercial','House','Other'],sfs.get_support())))\n",
        "m = list(zip(['AREA','INT_SQFT','N_BEDROOM','N_BATHROOM','N_ROOM','SALE_COND','PARK_FACIL','UTILITY_AVAIL','STREET','MZZONE','AGE','Commercial','House','Other'],sfs.get_support()))\n"
      ],
      "metadata": {
        "colab": {
          "base_uri": "https://localhost:8080/"
        },
        "id": "K4VQRsL32FmU",
        "outputId": "74c89bf9-04e0-4d37-8443-b281a7327c1f"
      },
      "execution_count": 195,
      "outputs": [
        {
          "output_type": "stream",
          "name": "stdout",
          "text": [
            "[('AREA', True), ('INT_SQFT', True), ('N_BEDROOM', False), ('N_BATHROOM', False), ('N_ROOM', True), ('SALE_COND', False), ('PARK_FACIL', True), ('UTILITY_AVAIL', False), ('STREET', True), ('MZZONE', True), ('AGE', False), ('Commercial', True), ('House', False), ('Other', False)]\n"
          ]
        }
      ]
    },
    {
      "cell_type": "code",
      "source": [
        "imp_l = []\n",
        "for i in m:\n",
        "  if i[1] == True:\n",
        "    imp_l.append(i[0])\n",
        "print(*imp_l , sep=', ')\n",
        "#Here we got AREA, INT_SQFT, N_ROOM, PARK_FACIL, STREET, MZZONE, Commercial as import feature that are affecting the sales price of the house."
      ],
      "metadata": {
        "colab": {
          "base_uri": "https://localhost:8080/"
        },
        "id": "PmHaepQw2F5E",
        "outputId": "32537b65-ace6-404c-87c2-ca3bcec84288"
      },
      "execution_count": 196,
      "outputs": [
        {
          "output_type": "stream",
          "name": "stdout",
          "text": [
            "AREA, INT_SQFT, N_ROOM, PARK_FACIL, STREET, MZZONE, Commercial\n"
          ]
        }
      ]
    },
    {
      "cell_type": "code",
      "source": [
        "imp_ft = dfn[imp_l].values\n",
        "imp_ft_train, imp_ft_test, y_train, y_test = train_test_split(imp_ft,y,test_size = 0.25)\n"
      ],
      "metadata": {
        "id": "CX8wkG9b-KDH"
      },
      "execution_count": 197,
      "outputs": []
    },
    {
      "cell_type": "code",
      "source": [
        "rf = RandomForestRegressor(n_estimators= 100, max_depth = 20, max_features='sqrt')\n",
        "rf.fit(imp_ft_train,y_train)\n",
        "y_pred = rf.predict(imp_ft_test)\n"
      ],
      "metadata": {
        "id": "AwMhnu2O2GIe"
      },
      "execution_count": 198,
      "outputs": []
    },
    {
      "cell_type": "code",
      "source": [
        "#checking R2 -- score.\n",
        "print('R2- SCORE:',r2_score(y_test,y_pred))\n",
        "#we got score of 97.7%"
      ],
      "metadata": {
        "colab": {
          "base_uri": "https://localhost:8080/"
        },
        "id": "uxcsl08J2GYy",
        "outputId": "1617c97d-c3c7-4572-ee1a-7662bbea305e"
      },
      "execution_count": 199,
      "outputs": [
        {
          "output_type": "stream",
          "name": "stdout",
          "text": [
            "R2- SCORE: 0.9792488549121766\n"
          ]
        }
      ]
    },
    {
      "cell_type": "code",
      "source": [
        ""
      ],
      "metadata": {
        "id": "EfVTG9Xb-o72"
      },
      "execution_count": 199,
      "outputs": []
    },
    {
      "cell_type": "markdown",
      "source": [
        "XG boost"
      ],
      "metadata": {
        "id": "_JA8GWSTFBjW"
      }
    },
    {
      "cell_type": "code",
      "source": [
        "x = dfn[['AREA','INT_SQFT','N_BEDROOM','N_BATHROOM','N_ROOM','SALE_COND','PARK_FACIL','UTILITY_AVAIL','STREET','MZZONE','AGE','Commercial','House','Other']].values\n",
        "y = dfn['SALES_PRICE'].values\n",
        "x_train, x_test, y_train, y_test = train_test_split(x, y, test_size=0.25)\n"
      ],
      "metadata": {
        "id": "N1W0f_vL-pMk"
      },
      "execution_count": 200,
      "outputs": []
    },
    {
      "cell_type": "code",
      "source": [
        "import warnings\n",
        "warnings.filterwarnings('ignore')"
      ],
      "metadata": {
        "id": "jKO4vwgh-pb7"
      },
      "execution_count": 201,
      "outputs": []
    },
    {
      "cell_type": "code",
      "source": [
        "import xgboost as xgb"
      ],
      "metadata": {
        "id": "YFE7AMQ3FhZI"
      },
      "execution_count": 202,
      "outputs": []
    },
    {
      "cell_type": "code",
      "source": [
        "for lr in [0.01,0.02,0.03,0.04,0.05,0.06,0.07,0.08,0.09,0.1,0.11,0.12,0.13,0.14,0.15,0.2,0.5,0.7,1]:\n",
        "  model = xgb.XGBRegressor(learning_rate = lr, n_estimators=100, verbosity = 0) # initialise the model\n",
        "  model.fit(x_train,y_train) #train the model\n",
        "  model.score(x_test, y_test)\n",
        "  print(\"Learning rate : \", lr, \" Train score : \", model.score(x_train,y_train), \" Cross-Val score : \", np.mean(cross_val_score(model, x_train, y_train, cv=10)))"
      ],
      "metadata": {
        "colab": {
          "base_uri": "https://localhost:8080/"
        },
        "id": "ZfFx6NQbFkXl",
        "outputId": "59a92d3e-a7c8-439c-ebc0-8f899f38b842"
      },
      "execution_count": 203,
      "outputs": [
        {
          "output_type": "stream",
          "name": "stdout",
          "text": [
            "Learning rate :  0.01  Train score :  -0.37143662132305066  Cross-Val score :  -0.3834686673293878\n",
            "Learning rate :  0.02  Train score :  0.7476010419832536  Cross-Val score :  0.7426193389196054\n",
            "Learning rate :  0.03  Train score :  0.9245923754280599  Cross-Val score :  0.9213625305280972\n",
            "Learning rate :  0.04  Train score :  0.9619332569909729  Cross-Val score :  0.9587441650063685\n",
            "Learning rate :  0.05  Train score :  0.9740736564229245  Cross-Val score :  0.9714003622309706\n",
            "Learning rate :  0.06  Train score :  0.9800114832146462  Cross-Val score :  0.9778658926359821\n",
            "Learning rate :  0.07  Train score :  0.9848723580062  Cross-Val score :  0.9825377420898205\n",
            "Learning rate :  0.08  Train score :  0.9878803088188661  Cross-Val score :  0.9855870641027173\n",
            "Learning rate :  0.09  Train score :  0.990180735862099  Cross-Val score :  0.9883864995051305\n",
            "Learning rate :  0.1  Train score :  0.9917112945335054  Cross-Val score :  0.9898893724132621\n",
            "Learning rate :  0.11  Train score :  0.9931140870426637  Cross-Val score :  0.9914794826352692\n",
            "Learning rate :  0.12  Train score :  0.9939844447526526  Cross-Val score :  0.9925109643105297\n",
            "Learning rate :  0.13  Train score :  0.9943782219132581  Cross-Val score :  0.9932587085603121\n",
            "Learning rate :  0.14  Train score :  0.9953322180241743  Cross-Val score :  0.9936581929583111\n",
            "Learning rate :  0.15  Train score :  0.9955061066932257  Cross-Val score :  0.9942603137925821\n",
            "Learning rate :  0.2  Train score :  0.9967202247162216  Cross-Val score :  0.995514851976238\n",
            "Learning rate :  0.5  Train score :  0.9973211574105059  Cross-Val score :  0.9965675079118375\n",
            "Learning rate :  0.7  Train score :  0.9979945621715659  Cross-Val score :  0.997185449756927\n",
            "Learning rate :  1  Train score :  0.9975267212123629  Cross-Val score :  0.9958059182119744\n"
          ]
        }
      ]
    },
    {
      "cell_type": "code",
      "source": [
        "model = xgb.XGBRegressor(learning_rate = 0.7, n_estimators=100, verbosity=0)\n",
        "model.fit(x_train,y_train) #train the model\n",
        "y_pred = model.predict(x_test)"
      ],
      "metadata": {
        "id": "aThkhqx8-prC"
      },
      "execution_count": 204,
      "outputs": []
    },
    {
      "cell_type": "code",
      "source": [
        "#checking R2 -- score.\n",
        "print('R2- SCORE:',r2_score(y_test,y_pred))\n",
        "\n",
        "#we got a R2 -- score of 99.7% prediction rate."
      ],
      "metadata": {
        "colab": {
          "base_uri": "https://localhost:8080/"
        },
        "id": "U8KEz5r5GccG",
        "outputId": "6b2a57b0-791b-4ebc-d824-2c4f95259086"
      },
      "execution_count": 205,
      "outputs": [
        {
          "output_type": "stream",
          "name": "stdout",
          "text": [
            "R2- SCORE: 0.996954949565126\n"
          ]
        }
      ]
    },
    {
      "cell_type": "code",
      "source": [
        "\"\"\"\n",
        "Finding important features\n",
        "\"\"\"\n",
        "#let's take learning rate lr=0.7\n",
        "estimator = xgb.XGBRegressor(learning_rate = 0.7, n_estimators=100 , verbosity=0)\n",
        "sfs = SequentialFeatureSelector(estimator)\n",
        "sfs.fit(x_train, y_train)\n",
        "# print(list(zip(['AREA','INT_SQFT','N_BEDROOM','N_BATHROOM','N_ROOM','SALE_COND','PARK_FACIL','UTILITY_AVAIL','STREET','MZZONE','AGE','Commercial','House','Other'],sfs.get_support())))\n",
        "m = list(zip(['AREA','INT_SQFT','N_BEDROOM','N_BATHROOM','N_ROOM','SALE_COND','PARK_FACIL','UTILITY_AVAIL','STREET','MZZONE','AGE','Commercial','House','Other'],sfs.get_support()))\n"
      ],
      "metadata": {
        "id": "TEQl0AoUGmFr"
      },
      "execution_count": 206,
      "outputs": []
    },
    {
      "cell_type": "code",
      "source": [
        "imp_l = []\n",
        "for i in m:\n",
        "  if i[1] == True:\n",
        "    imp_l.append(i[0])\n",
        "print(*imp_l , sep=', ')\n",
        "\n",
        "#The import features are AREA, INT_SQFT, PARK_FACIL, STREET, MZZONE, Commercial, Other"
      ],
      "metadata": {
        "colab": {
          "base_uri": "https://localhost:8080/"
        },
        "id": "HEEw3OPSGQHk",
        "outputId": "7b2344db-16c2-493a-e50e-fd7c8270d800"
      },
      "execution_count": 207,
      "outputs": [
        {
          "output_type": "stream",
          "name": "stdout",
          "text": [
            "AREA, INT_SQFT, PARK_FACIL, STREET, MZZONE, Commercial, House\n"
          ]
        }
      ]
    },
    {
      "cell_type": "code",
      "source": [
        "imp_ft = dfn[imp_l].values\n",
        "imp_ft_train, imp_ft_test, y_train, y_test = train_test_split(imp_ft,y,test_size = 0.25)\n"
      ],
      "metadata": {
        "id": "ZXfQDDk3IEQi"
      },
      "execution_count": 208,
      "outputs": []
    },
    {
      "cell_type": "code",
      "source": [
        "for lr in [0.01,0.02,0.03,0.04,0.05,0.06,0.07,0.08,0.09,0.1,0.11,0.12,0.13,0.14,0.15,0.2,0.5,0.7,0.8,0.9,1]:\n",
        "  model = xgb.XGBRegressor(learning_rate = lr, n_estimators=100, verbosity = 0) # initialise the model\n",
        "  model.fit(imp_ft_train,y_train) #train the model\n",
        "  model.score(imp_ft_test, y_test)\n",
        "  print(\"Learning rate : \", lr, \" Train score : \", model.score(imp_ft_train,y_train), \" Cross-Val score : \", np.mean(cross_val_score(model, imp_ft_train, y_train, cv=10)))"
      ],
      "metadata": {
        "colab": {
          "base_uri": "https://localhost:8080/"
        },
        "id": "V-FblsWrIRCv",
        "outputId": "c568bd3c-b161-4739-a649-93be6877ca0d"
      },
      "execution_count": 209,
      "outputs": [
        {
          "output_type": "stream",
          "name": "stdout",
          "text": [
            "Learning rate :  0.01  Train score :  -0.377329625035433  Cross-Val score :  -0.3851233742338545\n",
            "Learning rate :  0.02  Train score :  0.7460669377410503  Cross-Val score :  0.7424896653982593\n",
            "Learning rate :  0.03  Train score :  0.9238909682083188  Cross-Val score :  0.9210967669561752\n",
            "Learning rate :  0.04  Train score :  0.9614023818559941  Cross-Val score :  0.9587994704894343\n",
            "Learning rate :  0.05  Train score :  0.9732080003353658  Cross-Val score :  0.9707807425927719\n",
            "Learning rate :  0.06  Train score :  0.9777884944877301  Cross-Val score :  0.9764429076049546\n",
            "Learning rate :  0.07  Train score :  0.9825969402570677  Cross-Val score :  0.9804789560168142\n",
            "Learning rate :  0.08  Train score :  0.9851069821752404  Cross-Val score :  0.9829624418136834\n",
            "Learning rate :  0.09  Train score :  0.9870642198235147  Cross-Val score :  0.9850716214622993\n",
            "Learning rate :  0.1  Train score :  0.9883470970193999  Cross-Val score :  0.9863407962033974\n",
            "Learning rate :  0.11  Train score :  0.9891123632426263  Cross-Val score :  0.9872426191694255\n",
            "Learning rate :  0.12  Train score :  0.9896208546041261  Cross-Val score :  0.9880628200403352\n",
            "Learning rate :  0.13  Train score :  0.9900850216617181  Cross-Val score :  0.988471894079025\n",
            "Learning rate :  0.14  Train score :  0.9902962369064977  Cross-Val score :  0.9887549358128818\n",
            "Learning rate :  0.15  Train score :  0.9900409224921564  Cross-Val score :  0.9886182335766562\n",
            "Learning rate :  0.2  Train score :  0.9914454981502201  Cross-Val score :  0.9895556128469831\n",
            "Learning rate :  0.5  Train score :  0.9916927501034785  Cross-Val score :  0.9894531272440548\n",
            "Learning rate :  0.7  Train score :  0.9926621514554054  Cross-Val score :  0.9896546814723779\n",
            "Learning rate :  0.8  Train score :  0.9925789426360911  Cross-Val score :  0.9897489857379428\n",
            "Learning rate :  0.9  Train score :  0.9928674042854567  Cross-Val score :  0.9895885698001236\n",
            "Learning rate :  1  Train score :  0.9930367325464635  Cross-Val score :  0.9889598531513262\n"
          ]
        }
      ]
    },
    {
      "cell_type": "code",
      "source": [
        "model = xgb.XGBRegressor(learning_rate = 0.7, n_estimators=100, verbosity=0)\n",
        "model.fit(imp_ft_train,y_train) #train the model\n",
        "y_pred = model.predict(imp_ft_test)"
      ],
      "metadata": {
        "id": "hCrNhgsOIPCJ"
      },
      "execution_count": 210,
      "outputs": []
    },
    {
      "cell_type": "code",
      "source": [
        "#checking R2 -- score.\n",
        "print('R2- SCORE:',r2_score(y_test,y_pred))\n",
        "\n",
        "\n",
        "#R2 -- score is 99.06% it is a good r2 --score for regression prediction model."
      ],
      "metadata": {
        "colab": {
          "base_uri": "https://localhost:8080/"
        },
        "id": "wN7KMz9MJL4d",
        "outputId": "180a87e5-2947-4fd6-debe-cbc81d74b8b4"
      },
      "execution_count": 211,
      "outputs": [
        {
          "output_type": "stream",
          "name": "stdout",
          "text": [
            "R2- SCORE: 0.989867371239914\n"
          ]
        }
      ]
    },
    {
      "cell_type": "code",
      "source": [
        "\"\"\"\n",
        "XG BOOST IS THE BEST MODEL FOR THIS DATA SET WITH GREATER R2 -- SCORE AS COMPARED TO OTHER MODELS.\n",
        "\"\"\""
      ],
      "metadata": {
        "colab": {
          "base_uri": "https://localhost:8080/",
          "height": 36
        },
        "id": "yFMnG1mkIPMM",
        "outputId": "671572a9-de3d-4254-dba8-0e500acf3078"
      },
      "execution_count": 212,
      "outputs": [
        {
          "output_type": "execute_result",
          "data": {
            "text/plain": [
              "'\\nXG BOOST IS THE BEST MODEL FOR THIS DATA SET WITH GREATER R2 -- SCORE AS COMPARED TO OTHER MODELS.\\n'"
            ],
            "application/vnd.google.colaboratory.intrinsic+json": {
              "type": "string"
            }
          },
          "metadata": {},
          "execution_count": 212
        }
      ]
    },
    {
      "cell_type": "code",
      "source": [
        ""
      ],
      "metadata": {
        "id": "Sc6c7GGoIPWM"
      },
      "execution_count": 212,
      "outputs": []
    },
    {
      "cell_type": "code",
      "source": [
        ""
      ],
      "metadata": {
        "id": "TAgwJZkJIPgk"
      },
      "execution_count": 212,
      "outputs": []
    },
    {
      "cell_type": "code",
      "source": [
        ""
      ],
      "metadata": {
        "id": "lcs6_QL7IPqz"
      },
      "execution_count": 212,
      "outputs": []
    }
  ]
}